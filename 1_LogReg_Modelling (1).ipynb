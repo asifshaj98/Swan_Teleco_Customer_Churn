{
 "cells": [
  {
   "cell_type": "code",
   "execution_count": 1,
   "metadata": {
    "collapsed": true
   },
   "outputs": [],
   "source": [
    "import pandas as pd\n",
    "import matplotlib.pyplot as plt\n",
    "import warnings\n",
    "warnings.simplefilter(action='ignore', category=FutureWarning)\n",
    "import seaborn as sns\n",
    "from sklearn.linear_model import LogisticRegression\n",
    "from sklearn.model_selection import train_test_split\n",
    "import numpy as np\n",
    "from sklearn import metrics\n",
    "from sklearn.preprocessing import StandardScaler"
   ]
  },
  {
   "cell_type": "markdown",
   "source": [
    "# Read in cleaned csv"
   ],
   "metadata": {
    "collapsed": false
   }
  },
  {
   "cell_type": "code",
   "execution_count": 2,
   "outputs": [],
   "source": [
    "df = pd.read_csv('cleaned.csv')"
   ],
   "metadata": {
    "collapsed": false
   }
  },
  {
   "cell_type": "code",
   "execution_count": 3,
   "outputs": [
    {
     "data": {
      "text/plain": "   CustomerID  Count        Country       State         City  Zip Code  \\\n0  3668-QPYBK      1  United States  California  Los Angeles     90003   \n1  9237-HQITU      1  United States  California  Los Angeles     90005   \n2  9305-CDSKC      1  United States  California  Los Angeles     90006   \n3  7892-POOKP      1  United States  California  Los Angeles     90010   \n4  0280-XJGEX      1  United States  California  Los Angeles     90015   \n\n                 Lat Long   Latitude   Longitude  Gender  ... Streaming TV  \\\n0  33.964131, -118.272783  33.964131 -118.272783    Male  ...           No   \n1   34.059281, -118.30742  34.059281 -118.307420  Female  ...           No   \n2  34.048013, -118.293953  34.048013 -118.293953  Female  ...          Yes   \n3  34.062125, -118.315709  34.062125 -118.315709  Female  ...          Yes   \n4  34.039224, -118.266293  34.039224 -118.266293    Male  ...          Yes   \n\n  Streaming Movies        Contract  Paperless Billing  \\\n0               No  Month-to-month                Yes   \n1               No  Month-to-month                Yes   \n2              Yes  Month-to-month                Yes   \n3              Yes  Month-to-month                Yes   \n4              Yes  Month-to-month                Yes   \n\n              Payment Method Monthly Charges Total Charges Churn Label  \\\n0               Mailed check           53.85        108.15         Yes   \n1           Electronic check           70.70        151.65         Yes   \n2           Electronic check           99.65        820.50         Yes   \n3           Electronic check          104.80       3046.05         Yes   \n4  Bank transfer (automatic)          103.70       5036.30         Yes   \n\n  Churn Value                   Churn Reason  \n0           1   Competitor made better offer  \n1           1                          Moved  \n2           1                          Moved  \n3           1                          Moved  \n4           1  Competitor had better devices  \n\n[5 rows x 31 columns]",
      "text/html": "<div>\n<style scoped>\n    .dataframe tbody tr th:only-of-type {\n        vertical-align: middle;\n    }\n\n    .dataframe tbody tr th {\n        vertical-align: top;\n    }\n\n    .dataframe thead th {\n        text-align: right;\n    }\n</style>\n<table border=\"1\" class=\"dataframe\">\n  <thead>\n    <tr style=\"text-align: right;\">\n      <th></th>\n      <th>CustomerID</th>\n      <th>Count</th>\n      <th>Country</th>\n      <th>State</th>\n      <th>City</th>\n      <th>Zip Code</th>\n      <th>Lat Long</th>\n      <th>Latitude</th>\n      <th>Longitude</th>\n      <th>Gender</th>\n      <th>...</th>\n      <th>Streaming TV</th>\n      <th>Streaming Movies</th>\n      <th>Contract</th>\n      <th>Paperless Billing</th>\n      <th>Payment Method</th>\n      <th>Monthly Charges</th>\n      <th>Total Charges</th>\n      <th>Churn Label</th>\n      <th>Churn Value</th>\n      <th>Churn Reason</th>\n    </tr>\n  </thead>\n  <tbody>\n    <tr>\n      <th>0</th>\n      <td>3668-QPYBK</td>\n      <td>1</td>\n      <td>United States</td>\n      <td>California</td>\n      <td>Los Angeles</td>\n      <td>90003</td>\n      <td>33.964131, -118.272783</td>\n      <td>33.964131</td>\n      <td>-118.272783</td>\n      <td>Male</td>\n      <td>...</td>\n      <td>No</td>\n      <td>No</td>\n      <td>Month-to-month</td>\n      <td>Yes</td>\n      <td>Mailed check</td>\n      <td>53.85</td>\n      <td>108.15</td>\n      <td>Yes</td>\n      <td>1</td>\n      <td>Competitor made better offer</td>\n    </tr>\n    <tr>\n      <th>1</th>\n      <td>9237-HQITU</td>\n      <td>1</td>\n      <td>United States</td>\n      <td>California</td>\n      <td>Los Angeles</td>\n      <td>90005</td>\n      <td>34.059281, -118.30742</td>\n      <td>34.059281</td>\n      <td>-118.307420</td>\n      <td>Female</td>\n      <td>...</td>\n      <td>No</td>\n      <td>No</td>\n      <td>Month-to-month</td>\n      <td>Yes</td>\n      <td>Electronic check</td>\n      <td>70.70</td>\n      <td>151.65</td>\n      <td>Yes</td>\n      <td>1</td>\n      <td>Moved</td>\n    </tr>\n    <tr>\n      <th>2</th>\n      <td>9305-CDSKC</td>\n      <td>1</td>\n      <td>United States</td>\n      <td>California</td>\n      <td>Los Angeles</td>\n      <td>90006</td>\n      <td>34.048013, -118.293953</td>\n      <td>34.048013</td>\n      <td>-118.293953</td>\n      <td>Female</td>\n      <td>...</td>\n      <td>Yes</td>\n      <td>Yes</td>\n      <td>Month-to-month</td>\n      <td>Yes</td>\n      <td>Electronic check</td>\n      <td>99.65</td>\n      <td>820.50</td>\n      <td>Yes</td>\n      <td>1</td>\n      <td>Moved</td>\n    </tr>\n    <tr>\n      <th>3</th>\n      <td>7892-POOKP</td>\n      <td>1</td>\n      <td>United States</td>\n      <td>California</td>\n      <td>Los Angeles</td>\n      <td>90010</td>\n      <td>34.062125, -118.315709</td>\n      <td>34.062125</td>\n      <td>-118.315709</td>\n      <td>Female</td>\n      <td>...</td>\n      <td>Yes</td>\n      <td>Yes</td>\n      <td>Month-to-month</td>\n      <td>Yes</td>\n      <td>Electronic check</td>\n      <td>104.80</td>\n      <td>3046.05</td>\n      <td>Yes</td>\n      <td>1</td>\n      <td>Moved</td>\n    </tr>\n    <tr>\n      <th>4</th>\n      <td>0280-XJGEX</td>\n      <td>1</td>\n      <td>United States</td>\n      <td>California</td>\n      <td>Los Angeles</td>\n      <td>90015</td>\n      <td>34.039224, -118.266293</td>\n      <td>34.039224</td>\n      <td>-118.266293</td>\n      <td>Male</td>\n      <td>...</td>\n      <td>Yes</td>\n      <td>Yes</td>\n      <td>Month-to-month</td>\n      <td>Yes</td>\n      <td>Bank transfer (automatic)</td>\n      <td>103.70</td>\n      <td>5036.30</td>\n      <td>Yes</td>\n      <td>1</td>\n      <td>Competitor had better devices</td>\n    </tr>\n  </tbody>\n</table>\n<p>5 rows × 31 columns</p>\n</div>"
     },
     "execution_count": 3,
     "metadata": {},
     "output_type": "execute_result"
    }
   ],
   "source": [
    "df.head()"
   ],
   "metadata": {
    "collapsed": false
   }
  },
  {
   "cell_type": "markdown",
   "source": [
    "# Function to evaluate results"
   ],
   "metadata": {
    "collapsed": false
   }
  },
  {
   "cell_type": "code",
   "execution_count": 4,
   "outputs": [],
   "source": [
    "## Function used to evaluate results\n",
    "def get_results(actual, predicted):\n",
    "    print(\"The confusion matrix for your predictions is:\")\n",
    "    print(metrics.confusion_matrix(actual, predicted), \"\\n\")\n",
    "    print(f'The accuracy of your model is: {metrics.accuracy_score(actual, predicted)}')\n",
    "    print(f'The recall of your model is: {metrics.recall_score(actual, predicted)}')\n",
    "    print(f'The precision of your model is: {metrics.precision_score(actual, predicted)}')\n",
    "    print(f'The F1-score of your model is: {metrics.f1_score(actual, predicted)}')"
   ],
   "metadata": {
    "collapsed": false
   }
  },
  {
   "cell_type": "markdown",
   "source": [
    "# Train-Test split"
   ],
   "metadata": {
    "collapsed": false
   }
  },
  {
   "cell_type": "code",
   "execution_count": 7,
   "outputs": [
    {
     "data": {
      "text/plain": "      CustomerID  Count        Country       State          City  Zip Code  \\\n6021  2371-JQHZZ      1  United States  California   Bakersfield     93307   \n3404  2190-BCXEC      1  United States  California  Death Valley     92328   \n5474  8404-GFGCZ      1  United States  California     Millville     96062   \n5515  3446-QDSZF      1  United States  California      Homewood     96141   \n6328  6096-EGVTU      1  United States  California      San Jose     95120   \n\n                    Lat Long   Latitude   Longitude  Gender  ...  \\\n6021  35.280113, -118.962329  35.280113 -118.962329    Male  ...   \n3404   36.27688, -117.033326  36.276880 -117.033326  Female  ...   \n5474  40.531257, -122.148139  40.531257 -122.148139    Male  ...   \n5515  39.117018, -120.212535  39.117018 -120.212535  Female  ...   \n6328  37.186141, -121.843554  37.186141 -121.843554  Female  ...   \n\n            Online Backup    Device Protection         Tech Support  \\\n6021                   No                   No                   No   \n3404                   No                   No                  Yes   \n5474                   No                  Yes                   No   \n5515                   No                   No                   No   \n6328  No internet service  No internet service  No internet service   \n\n             Streaming TV     Streaming Movies        Contract  \\\n6021                  Yes                  Yes  Month-to-month   \n3404                   No                   No  Month-to-month   \n5474                  Yes                   No  Month-to-month   \n5515                  Yes                   No  Month-to-month   \n6328  No internet service  No internet service        One year   \n\n     Paperless Billing           Payment Method Monthly Charges Total Charges  \n6021               Yes         Electronic check           93.00       2248.05  \n3404               Yes  Credit card (automatic)           78.85       3126.85  \n5474                No         Electronic check           65.60        250.10  \n5515                No  Credit card (automatic)           55.50        227.35  \n6328                No             Mailed check           24.90       1595.50  \n\n[5 rows x 28 columns]",
      "text/html": "<div>\n<style scoped>\n    .dataframe tbody tr th:only-of-type {\n        vertical-align: middle;\n    }\n\n    .dataframe tbody tr th {\n        vertical-align: top;\n    }\n\n    .dataframe thead th {\n        text-align: right;\n    }\n</style>\n<table border=\"1\" class=\"dataframe\">\n  <thead>\n    <tr style=\"text-align: right;\">\n      <th></th>\n      <th>CustomerID</th>\n      <th>Count</th>\n      <th>Country</th>\n      <th>State</th>\n      <th>City</th>\n      <th>Zip Code</th>\n      <th>Lat Long</th>\n      <th>Latitude</th>\n      <th>Longitude</th>\n      <th>Gender</th>\n      <th>...</th>\n      <th>Online Backup</th>\n      <th>Device Protection</th>\n      <th>Tech Support</th>\n      <th>Streaming TV</th>\n      <th>Streaming Movies</th>\n      <th>Contract</th>\n      <th>Paperless Billing</th>\n      <th>Payment Method</th>\n      <th>Monthly Charges</th>\n      <th>Total Charges</th>\n    </tr>\n  </thead>\n  <tbody>\n    <tr>\n      <th>6021</th>\n      <td>2371-JQHZZ</td>\n      <td>1</td>\n      <td>United States</td>\n      <td>California</td>\n      <td>Bakersfield</td>\n      <td>93307</td>\n      <td>35.280113, -118.962329</td>\n      <td>35.280113</td>\n      <td>-118.962329</td>\n      <td>Male</td>\n      <td>...</td>\n      <td>No</td>\n      <td>No</td>\n      <td>No</td>\n      <td>Yes</td>\n      <td>Yes</td>\n      <td>Month-to-month</td>\n      <td>Yes</td>\n      <td>Electronic check</td>\n      <td>93.00</td>\n      <td>2248.05</td>\n    </tr>\n    <tr>\n      <th>3404</th>\n      <td>2190-BCXEC</td>\n      <td>1</td>\n      <td>United States</td>\n      <td>California</td>\n      <td>Death Valley</td>\n      <td>92328</td>\n      <td>36.27688, -117.033326</td>\n      <td>36.276880</td>\n      <td>-117.033326</td>\n      <td>Female</td>\n      <td>...</td>\n      <td>No</td>\n      <td>No</td>\n      <td>Yes</td>\n      <td>No</td>\n      <td>No</td>\n      <td>Month-to-month</td>\n      <td>Yes</td>\n      <td>Credit card (automatic)</td>\n      <td>78.85</td>\n      <td>3126.85</td>\n    </tr>\n    <tr>\n      <th>5474</th>\n      <td>8404-GFGCZ</td>\n      <td>1</td>\n      <td>United States</td>\n      <td>California</td>\n      <td>Millville</td>\n      <td>96062</td>\n      <td>40.531257, -122.148139</td>\n      <td>40.531257</td>\n      <td>-122.148139</td>\n      <td>Male</td>\n      <td>...</td>\n      <td>No</td>\n      <td>Yes</td>\n      <td>No</td>\n      <td>Yes</td>\n      <td>No</td>\n      <td>Month-to-month</td>\n      <td>No</td>\n      <td>Electronic check</td>\n      <td>65.60</td>\n      <td>250.10</td>\n    </tr>\n    <tr>\n      <th>5515</th>\n      <td>3446-QDSZF</td>\n      <td>1</td>\n      <td>United States</td>\n      <td>California</td>\n      <td>Homewood</td>\n      <td>96141</td>\n      <td>39.117018, -120.212535</td>\n      <td>39.117018</td>\n      <td>-120.212535</td>\n      <td>Female</td>\n      <td>...</td>\n      <td>No</td>\n      <td>No</td>\n      <td>No</td>\n      <td>Yes</td>\n      <td>No</td>\n      <td>Month-to-month</td>\n      <td>No</td>\n      <td>Credit card (automatic)</td>\n      <td>55.50</td>\n      <td>227.35</td>\n    </tr>\n    <tr>\n      <th>6328</th>\n      <td>6096-EGVTU</td>\n      <td>1</td>\n      <td>United States</td>\n      <td>California</td>\n      <td>San Jose</td>\n      <td>95120</td>\n      <td>37.186141, -121.843554</td>\n      <td>37.186141</td>\n      <td>-121.843554</td>\n      <td>Female</td>\n      <td>...</td>\n      <td>No internet service</td>\n      <td>No internet service</td>\n      <td>No internet service</td>\n      <td>No internet service</td>\n      <td>No internet service</td>\n      <td>One year</td>\n      <td>No</td>\n      <td>Mailed check</td>\n      <td>24.90</td>\n      <td>1595.50</td>\n    </tr>\n  </tbody>\n</table>\n<p>5 rows × 28 columns</p>\n</div>"
     },
     "execution_count": 7,
     "metadata": {},
     "output_type": "execute_result"
    }
   ],
   "source": [
    "# Creating variables for the train-test split\n",
    "y = df['Churn Value']\n",
    "X = df.drop(columns = ['Churn Value', 'Churn Label', 'Churn Reason'], axis = 1)\n",
    "X_train, X_test, y_train, y_test = train_test_split(X, y, test_size = 0.2, random_state = 42)\n",
    "X_train.head()"
   ],
   "metadata": {
    "collapsed": false
   }
  },
  {
   "cell_type": "code",
   "execution_count": 8,
   "outputs": [
    {
     "data": {
      "text/plain": "6021    0\n3404    0\n5474    0\n5515    0\n6328    0\nName: Churn Value, dtype: int64"
     },
     "execution_count": 8,
     "metadata": {},
     "output_type": "execute_result"
    }
   ],
   "source": [
    "y_train.head()"
   ],
   "metadata": {
    "collapsed": false
   }
  },
  {
   "cell_type": "markdown",
   "source": [
    "# Feature Engineering"
   ],
   "metadata": {
    "collapsed": false
   }
  },
  {
   "cell_type": "code",
   "execution_count": 9,
   "outputs": [],
   "source": [
    "# Defining the feature engineering function to clean the data frame for analysis.\n",
    "def feature_engineering(df):\n",
    "    binary_cols = ['Senior Citizen','Gender', 'Partner', 'Dependents', 'Phone Service', 'Paperless Billing']\n",
    "    binary_dict = {'No' : '0', 'Male' : '0', 'Female' : '1', 'Yes' : '1'}\n",
    "    df = df.drop(columns=['Count', 'Country', 'State', 'City','Lat Long','Zip Code','CustomerID'])\n",
    "    for i in binary_cols:\n",
    "        df[i] = df[i].map(binary_dict)\n",
    "        df[i] = df[i].astype(int) # Converts the types from obj to int\n",
    "    ohe_cols = [\"Multiple Lines\",\"Internet Service\",\"Online Security\",\"Online Backup\",\"Device Protection\",\"Tech Support\",\"Streaming TV\",\"Streaming Movies\",\"Contract\",\"Payment Method\"]\n",
    "    for x in ohe_cols:\n",
    "        df = pd.get_dummies(data = df, columns = [x] , prefix= x, drop_first=True)\n",
    "    return df"
   ],
   "metadata": {
    "collapsed": false
   }
  },
  {
   "cell_type": "code",
   "execution_count": 10,
   "outputs": [
    {
     "data": {
      "text/plain": "       Latitude   Longitude  Gender  Senior Citizen  Partner  Dependents  \\\n6021  35.280113 -118.962329       0               0        1           0   \n3404  36.276880 -117.033326       1               0        1           0   \n5474  40.531257 -122.148139       0               0        1           0   \n5515  39.117018 -120.212535       1               0        0           0   \n6328  37.186141 -121.843554       1               0        1           1   \n\n      Tenure Months  Phone Service  Paperless Billing  Monthly Charges  ...  \\\n6021             24              1                  1            93.00  ...   \n3404             40              1                  1            78.85  ...   \n5474              4              1                  0            65.60  ...   \n5515              4              1                  0            55.50  ...   \n6328             64              1                  0            24.90  ...   \n\n      Tech Support_Yes  Streaming TV_No internet service  Streaming TV_Yes  \\\n6021                 0                                 0                 1   \n3404                 1                                 0                 0   \n5474                 0                                 0                 1   \n5515                 0                                 0                 1   \n6328                 0                                 1                 0   \n\n      Streaming Movies_No internet service  Streaming Movies_Yes  \\\n6021                                     0                     1   \n3404                                     0                     0   \n5474                                     0                     0   \n5515                                     0                     0   \n6328                                     1                     0   \n\n      Contract_One year  Contract_Two year  \\\n6021                  0                  0   \n3404                  0                  0   \n5474                  0                  0   \n5515                  0                  0   \n6328                  1                  0   \n\n      Payment Method_Credit card (automatic)  Payment Method_Electronic check  \\\n6021                                       0                                1   \n3404                                       1                                0   \n5474                                       0                                1   \n5515                                       1                                0   \n6328                                       0                                0   \n\n      Payment Method_Mailed check  \n6021                            0  \n3404                            0  \n5474                            0  \n5515                            0  \n6328                            1  \n\n[5 rows x 32 columns]",
      "text/html": "<div>\n<style scoped>\n    .dataframe tbody tr th:only-of-type {\n        vertical-align: middle;\n    }\n\n    .dataframe tbody tr th {\n        vertical-align: top;\n    }\n\n    .dataframe thead th {\n        text-align: right;\n    }\n</style>\n<table border=\"1\" class=\"dataframe\">\n  <thead>\n    <tr style=\"text-align: right;\">\n      <th></th>\n      <th>Latitude</th>\n      <th>Longitude</th>\n      <th>Gender</th>\n      <th>Senior Citizen</th>\n      <th>Partner</th>\n      <th>Dependents</th>\n      <th>Tenure Months</th>\n      <th>Phone Service</th>\n      <th>Paperless Billing</th>\n      <th>Monthly Charges</th>\n      <th>...</th>\n      <th>Tech Support_Yes</th>\n      <th>Streaming TV_No internet service</th>\n      <th>Streaming TV_Yes</th>\n      <th>Streaming Movies_No internet service</th>\n      <th>Streaming Movies_Yes</th>\n      <th>Contract_One year</th>\n      <th>Contract_Two year</th>\n      <th>Payment Method_Credit card (automatic)</th>\n      <th>Payment Method_Electronic check</th>\n      <th>Payment Method_Mailed check</th>\n    </tr>\n  </thead>\n  <tbody>\n    <tr>\n      <th>6021</th>\n      <td>35.280113</td>\n      <td>-118.962329</td>\n      <td>0</td>\n      <td>0</td>\n      <td>1</td>\n      <td>0</td>\n      <td>24</td>\n      <td>1</td>\n      <td>1</td>\n      <td>93.00</td>\n      <td>...</td>\n      <td>0</td>\n      <td>0</td>\n      <td>1</td>\n      <td>0</td>\n      <td>1</td>\n      <td>0</td>\n      <td>0</td>\n      <td>0</td>\n      <td>1</td>\n      <td>0</td>\n    </tr>\n    <tr>\n      <th>3404</th>\n      <td>36.276880</td>\n      <td>-117.033326</td>\n      <td>1</td>\n      <td>0</td>\n      <td>1</td>\n      <td>0</td>\n      <td>40</td>\n      <td>1</td>\n      <td>1</td>\n      <td>78.85</td>\n      <td>...</td>\n      <td>1</td>\n      <td>0</td>\n      <td>0</td>\n      <td>0</td>\n      <td>0</td>\n      <td>0</td>\n      <td>0</td>\n      <td>1</td>\n      <td>0</td>\n      <td>0</td>\n    </tr>\n    <tr>\n      <th>5474</th>\n      <td>40.531257</td>\n      <td>-122.148139</td>\n      <td>0</td>\n      <td>0</td>\n      <td>1</td>\n      <td>0</td>\n      <td>4</td>\n      <td>1</td>\n      <td>0</td>\n      <td>65.60</td>\n      <td>...</td>\n      <td>0</td>\n      <td>0</td>\n      <td>1</td>\n      <td>0</td>\n      <td>0</td>\n      <td>0</td>\n      <td>0</td>\n      <td>0</td>\n      <td>1</td>\n      <td>0</td>\n    </tr>\n    <tr>\n      <th>5515</th>\n      <td>39.117018</td>\n      <td>-120.212535</td>\n      <td>1</td>\n      <td>0</td>\n      <td>0</td>\n      <td>0</td>\n      <td>4</td>\n      <td>1</td>\n      <td>0</td>\n      <td>55.50</td>\n      <td>...</td>\n      <td>0</td>\n      <td>0</td>\n      <td>1</td>\n      <td>0</td>\n      <td>0</td>\n      <td>0</td>\n      <td>0</td>\n      <td>1</td>\n      <td>0</td>\n      <td>0</td>\n    </tr>\n    <tr>\n      <th>6328</th>\n      <td>37.186141</td>\n      <td>-121.843554</td>\n      <td>1</td>\n      <td>0</td>\n      <td>1</td>\n      <td>1</td>\n      <td>64</td>\n      <td>1</td>\n      <td>0</td>\n      <td>24.90</td>\n      <td>...</td>\n      <td>0</td>\n      <td>1</td>\n      <td>0</td>\n      <td>1</td>\n      <td>0</td>\n      <td>1</td>\n      <td>0</td>\n      <td>0</td>\n      <td>0</td>\n      <td>1</td>\n    </tr>\n  </tbody>\n</table>\n<p>5 rows × 32 columns</p>\n</div>"
     },
     "execution_count": 10,
     "metadata": {},
     "output_type": "execute_result"
    }
   ],
   "source": [
    "# Applying feature eng function to X_train.\n",
    "X_train = feature_engineering(X_train)\n",
    "X_train.head()"
   ],
   "metadata": {
    "collapsed": false
   }
  },
  {
   "cell_type": "code",
   "execution_count": 11,
   "outputs": [
    {
     "data": {
      "text/plain": "['Latitude',\n 'Longitude',\n 'Gender',\n 'Senior Citizen',\n 'Partner',\n 'Dependents',\n 'Tenure Months',\n 'Phone Service',\n 'Paperless Billing',\n 'Monthly Charges',\n 'Total Charges',\n 'Multiple Lines_No phone service',\n 'Multiple Lines_Yes',\n 'Internet Service_Fiber optic',\n 'Internet Service_No',\n 'Online Security_No internet service',\n 'Online Security_Yes',\n 'Online Backup_No internet service',\n 'Online Backup_Yes',\n 'Device Protection_No internet service',\n 'Device Protection_Yes',\n 'Tech Support_No internet service',\n 'Tech Support_Yes',\n 'Streaming TV_No internet service',\n 'Streaming TV_Yes',\n 'Streaming Movies_No internet service',\n 'Streaming Movies_Yes',\n 'Contract_One year',\n 'Contract_Two year',\n 'Payment Method_Credit card (automatic)',\n 'Payment Method_Electronic check',\n 'Payment Method_Mailed check']"
     },
     "execution_count": 11,
     "metadata": {},
     "output_type": "execute_result"
    }
   ],
   "source": [
    "# Defining the feature columns which are conveniently the x_train columns.\n",
    "feature_cols = list(X_train.columns)\n",
    "feature_cols"
   ],
   "metadata": {
    "collapsed": false
   }
  },
  {
   "cell_type": "markdown",
   "source": [
    "# Logistic Regression - Base model"
   ],
   "metadata": {
    "collapsed": false
   }
  },
  {
   "cell_type": "code",
   "execution_count": 12,
   "outputs": [],
   "source": [
    "# Defining the logistic regression as lr for short.\n",
    "lr = LogisticRegression(random_state=10, max_iter=1000)"
   ],
   "metadata": {
    "collapsed": false
   }
  },
  {
   "cell_type": "code",
   "execution_count": 13,
   "outputs": [
    {
     "data": {
      "text/plain": "LogisticRegression(max_iter=1000, random_state=10)"
     },
     "execution_count": 13,
     "metadata": {},
     "output_type": "execute_result"
    }
   ],
   "source": [
    "# Fitting this to X & y train\n",
    "lr.fit(X_train, y_train)"
   ],
   "metadata": {
    "collapsed": false
   }
  },
  {
   "cell_type": "code",
   "execution_count": 14,
   "outputs": [],
   "source": [
    "# Store the results in two columns\n",
    "X_train[['prob_not_churn', 'prob_churn']] = lr.predict_proba(X_train)"
   ],
   "metadata": {
    "collapsed": false
   }
  },
  {
   "cell_type": "code",
   "execution_count": 15,
   "outputs": [
    {
     "data": {
      "text/plain": "       Latitude   Longitude  Gender  Senior Citizen  Partner  Dependents  \\\n6021  35.280113 -118.962329       0               0        1           0   \n3404  36.276880 -117.033326       1               0        1           0   \n5474  40.531257 -122.148139       0               0        1           0   \n5515  39.117018 -120.212535       1               0        0           0   \n6328  37.186141 -121.843554       1               0        1           1   \n\n      Tenure Months  Phone Service  Paperless Billing  Monthly Charges  ...  \\\n6021             24              1                  1            93.00  ...   \n3404             40              1                  1            78.85  ...   \n5474              4              1                  0            65.60  ...   \n5515              4              1                  0            55.50  ...   \n6328             64              1                  0            24.90  ...   \n\n      Streaming TV_Yes  Streaming Movies_No internet service  \\\n6021                 1                                     0   \n3404                 0                                     0   \n5474                 1                                     0   \n5515                 1                                     0   \n6328                 0                                     1   \n\n      Streaming Movies_Yes  Contract_One year  Contract_Two year  \\\n6021                     1                  0                  0   \n3404                     0                  0                  0   \n5474                     0                  0                  0   \n5515                     0                  0                  0   \n6328                     0                  1                  0   \n\n      Payment Method_Credit card (automatic)  Payment Method_Electronic check  \\\n6021                                       0                                1   \n3404                                       1                                0   \n5474                                       0                                1   \n5515                                       1                                0   \n6328                                       0                                0   \n\n      Payment Method_Mailed check  prob_not_churn  prob_churn  \n6021                            0        0.275853    0.724147  \n3404                            0        0.702186    0.297814  \n5474                            0        0.415106    0.584894  \n5515                            0        0.634202    0.365798  \n6328                            1        0.998405    0.001595  \n\n[5 rows x 34 columns]",
      "text/html": "<div>\n<style scoped>\n    .dataframe tbody tr th:only-of-type {\n        vertical-align: middle;\n    }\n\n    .dataframe tbody tr th {\n        vertical-align: top;\n    }\n\n    .dataframe thead th {\n        text-align: right;\n    }\n</style>\n<table border=\"1\" class=\"dataframe\">\n  <thead>\n    <tr style=\"text-align: right;\">\n      <th></th>\n      <th>Latitude</th>\n      <th>Longitude</th>\n      <th>Gender</th>\n      <th>Senior Citizen</th>\n      <th>Partner</th>\n      <th>Dependents</th>\n      <th>Tenure Months</th>\n      <th>Phone Service</th>\n      <th>Paperless Billing</th>\n      <th>Monthly Charges</th>\n      <th>...</th>\n      <th>Streaming TV_Yes</th>\n      <th>Streaming Movies_No internet service</th>\n      <th>Streaming Movies_Yes</th>\n      <th>Contract_One year</th>\n      <th>Contract_Two year</th>\n      <th>Payment Method_Credit card (automatic)</th>\n      <th>Payment Method_Electronic check</th>\n      <th>Payment Method_Mailed check</th>\n      <th>prob_not_churn</th>\n      <th>prob_churn</th>\n    </tr>\n  </thead>\n  <tbody>\n    <tr>\n      <th>6021</th>\n      <td>35.280113</td>\n      <td>-118.962329</td>\n      <td>0</td>\n      <td>0</td>\n      <td>1</td>\n      <td>0</td>\n      <td>24</td>\n      <td>1</td>\n      <td>1</td>\n      <td>93.00</td>\n      <td>...</td>\n      <td>1</td>\n      <td>0</td>\n      <td>1</td>\n      <td>0</td>\n      <td>0</td>\n      <td>0</td>\n      <td>1</td>\n      <td>0</td>\n      <td>0.275853</td>\n      <td>0.724147</td>\n    </tr>\n    <tr>\n      <th>3404</th>\n      <td>36.276880</td>\n      <td>-117.033326</td>\n      <td>1</td>\n      <td>0</td>\n      <td>1</td>\n      <td>0</td>\n      <td>40</td>\n      <td>1</td>\n      <td>1</td>\n      <td>78.85</td>\n      <td>...</td>\n      <td>0</td>\n      <td>0</td>\n      <td>0</td>\n      <td>0</td>\n      <td>0</td>\n      <td>1</td>\n      <td>0</td>\n      <td>0</td>\n      <td>0.702186</td>\n      <td>0.297814</td>\n    </tr>\n    <tr>\n      <th>5474</th>\n      <td>40.531257</td>\n      <td>-122.148139</td>\n      <td>0</td>\n      <td>0</td>\n      <td>1</td>\n      <td>0</td>\n      <td>4</td>\n      <td>1</td>\n      <td>0</td>\n      <td>65.60</td>\n      <td>...</td>\n      <td>1</td>\n      <td>0</td>\n      <td>0</td>\n      <td>0</td>\n      <td>0</td>\n      <td>0</td>\n      <td>1</td>\n      <td>0</td>\n      <td>0.415106</td>\n      <td>0.584894</td>\n    </tr>\n    <tr>\n      <th>5515</th>\n      <td>39.117018</td>\n      <td>-120.212535</td>\n      <td>1</td>\n      <td>0</td>\n      <td>0</td>\n      <td>0</td>\n      <td>4</td>\n      <td>1</td>\n      <td>0</td>\n      <td>55.50</td>\n      <td>...</td>\n      <td>1</td>\n      <td>0</td>\n      <td>0</td>\n      <td>0</td>\n      <td>0</td>\n      <td>1</td>\n      <td>0</td>\n      <td>0</td>\n      <td>0.634202</td>\n      <td>0.365798</td>\n    </tr>\n    <tr>\n      <th>6328</th>\n      <td>37.186141</td>\n      <td>-121.843554</td>\n      <td>1</td>\n      <td>0</td>\n      <td>1</td>\n      <td>1</td>\n      <td>64</td>\n      <td>1</td>\n      <td>0</td>\n      <td>24.90</td>\n      <td>...</td>\n      <td>0</td>\n      <td>1</td>\n      <td>0</td>\n      <td>1</td>\n      <td>0</td>\n      <td>0</td>\n      <td>0</td>\n      <td>1</td>\n      <td>0.998405</td>\n      <td>0.001595</td>\n    </tr>\n  </tbody>\n</table>\n<p>5 rows × 34 columns</p>\n</div>"
     },
     "execution_count": 15,
     "metadata": {},
     "output_type": "execute_result"
    }
   ],
   "source": [
    "# Check progress\n",
    "X_train.head()"
   ],
   "metadata": {
    "collapsed": false
   }
  },
  {
   "cell_type": "code",
   "execution_count": 16,
   "outputs": [],
   "source": [
    "# Get a prediction by setting a cutoff point\n",
    "cutoff = .55\n",
    "X_train['pred'] = np.where(X_train['prob_churn'] > cutoff, 1, 0)"
   ],
   "metadata": {
    "collapsed": false
   }
  },
  {
   "cell_type": "code",
   "execution_count": 17,
   "outputs": [
    {
     "data": {
      "text/plain": "       Latitude   Longitude  Gender  Senior Citizen  Partner  Dependents  \\\n6021  35.280113 -118.962329       0               0        1           0   \n3404  36.276880 -117.033326       1               0        1           0   \n5474  40.531257 -122.148139       0               0        1           0   \n5515  39.117018 -120.212535       1               0        0           0   \n6328  37.186141 -121.843554       1               0        1           1   \n5275  40.342928 -124.063329       0               1        1           0   \n1323  34.037037 -118.705803       1               1        0           0   \n6731  34.066303 -118.435479       0               1        0           0   \n5922  33.429488 -117.609432       1               1        0           0   \n6755  34.044271 -118.185237       1               0        1           1   \n6914  33.992416 -117.807874       1               0        1           0   \n1671  38.349195 -121.902943       1               0        0           0   \n387   38.715498 -121.363411       0               0        1           0   \n3529  33.918043 -117.617809       1               0        0           0   \n1032  34.205504 -118.993111       0               0        1           0   \n4515  34.024405 -117.898722       0               0        1           1   \n3922  37.218705 -121.762429       0               0        1           1   \n1747  39.241240 -120.054765       0               1        0           0   \n6103  36.696759 -119.024051       1               0        1           0   \n6614  39.194539 -120.988066       0               0        1           1   \n\n      Tenure Months  Phone Service  Paperless Billing  Monthly Charges  ...  \\\n6021             24              1                  1            93.00  ...   \n3404             40              1                  1            78.85  ...   \n5474              4              1                  0            65.60  ...   \n5515              4              1                  0            55.50  ...   \n6328             64              1                  0            24.90  ...   \n5275             69              1                  1            95.35  ...   \n1323              2              1                  1            79.60  ...   \n6731             16              1                  1            78.75  ...   \n5922             67              1                  1            92.45  ...   \n6755             72              0                  0            53.65  ...   \n6914             21              1                  1            86.05  ...   \n1671              4              1                  1            79.00  ...   \n387              13              1                  1            74.40  ...   \n3529             15              1                  0            65.60  ...   \n1032             20              1                  1            90.20  ...   \n4515             31              1                  0            59.70  ...   \n3922             72              1                  0            26.10  ...   \n1747             66              1                  0           110.90  ...   \n6103             65              1                  1            59.80  ...   \n6614             17              0                  0            44.45  ...   \n\n      Streaming Movies_No internet service  Streaming Movies_Yes  \\\n6021                                     0                     1   \n3404                                     0                     0   \n5474                                     0                     0   \n5515                                     0                     0   \n6328                                     1                     0   \n5275                                     0                     1   \n1323                                     0                     1   \n6731                                     0                     1   \n5922                                     0                     0   \n6755                                     0                     1   \n6914                                     0                     0   \n1671                                     0                     0   \n387                                      0                     0   \n3529                                     0                     0   \n1032                                     0                     1   \n4515                                     0                     1   \n3922                                     1                     0   \n1747                                     0                     1   \n6103                                     0                     0   \n6614                                     0                     0   \n\n      Contract_One year  Contract_Two year  \\\n6021                  0                  0   \n3404                  0                  0   \n5474                  0                  0   \n5515                  0                  0   \n6328                  1                  0   \n5275                  0                  0   \n1323                  0                  0   \n6731                  0                  0   \n5922                  0                  1   \n6755                  0                  1   \n6914                  0                  0   \n1671                  0                  0   \n387                   0                  0   \n3529                  1                  0   \n1032                  0                  0   \n4515                  0                  0   \n3922                  0                  1   \n1747                  1                  0   \n6103                  0                  1   \n6614                  1                  0   \n\n      Payment Method_Credit card (automatic)  Payment Method_Electronic check  \\\n6021                                       0                                1   \n3404                                       1                                0   \n5474                                       0                                1   \n5515                                       1                                0   \n6328                                       0                                0   \n5275                                       0                                0   \n1323                                       0                                1   \n6731                                       0                                1   \n5922                                       0                                0   \n6755                                       1                                0   \n6914                                       0                                1   \n1671                                       0                                1   \n387                                        1                                0   \n3529                                       1                                0   \n1032                                       0                                1   \n4515                                       0                                0   \n3922                                       0                                0   \n1747                                       1                                0   \n6103                                       1                                0   \n6614                                       1                                0   \n\n      Payment Method_Mailed check  prob_not_churn  prob_churn  pred  \n6021                            0        0.275853    0.724147     1  \n3404                            0        0.702186    0.297814     0  \n5474                            0        0.415106    0.584894     1  \n5515                            0        0.634202    0.365798     0  \n6328                            1        0.998405    0.001595     0  \n5275                            0        0.698935    0.301065     0  \n1323                            0        0.215543    0.784457     1  \n6731                            0        0.334253    0.665747     1  \n5922                            0        0.958734    0.041266     0  \n6755                            0        0.996476    0.003524     0  \n6914                            0        0.444008    0.555992     1  \n1671                            0        0.287075    0.712925     1  \n387                             0        0.363860    0.636140     1  \n3529                            0        0.934468    0.065532     0  \n1032                            0        0.297610    0.702390     1  \n4515                            0        0.924897    0.075103     0  \n3922                            1        0.999298    0.000702     0  \n1747                            0        0.875097    0.124903     0  \n6103                            0        0.979561    0.020439     0  \n6614                            0        0.941647    0.058353     0  \n\n[20 rows x 35 columns]",
      "text/html": "<div>\n<style scoped>\n    .dataframe tbody tr th:only-of-type {\n        vertical-align: middle;\n    }\n\n    .dataframe tbody tr th {\n        vertical-align: top;\n    }\n\n    .dataframe thead th {\n        text-align: right;\n    }\n</style>\n<table border=\"1\" class=\"dataframe\">\n  <thead>\n    <tr style=\"text-align: right;\">\n      <th></th>\n      <th>Latitude</th>\n      <th>Longitude</th>\n      <th>Gender</th>\n      <th>Senior Citizen</th>\n      <th>Partner</th>\n      <th>Dependents</th>\n      <th>Tenure Months</th>\n      <th>Phone Service</th>\n      <th>Paperless Billing</th>\n      <th>Monthly Charges</th>\n      <th>...</th>\n      <th>Streaming Movies_No internet service</th>\n      <th>Streaming Movies_Yes</th>\n      <th>Contract_One year</th>\n      <th>Contract_Two year</th>\n      <th>Payment Method_Credit card (automatic)</th>\n      <th>Payment Method_Electronic check</th>\n      <th>Payment Method_Mailed check</th>\n      <th>prob_not_churn</th>\n      <th>prob_churn</th>\n      <th>pred</th>\n    </tr>\n  </thead>\n  <tbody>\n    <tr>\n      <th>6021</th>\n      <td>35.280113</td>\n      <td>-118.962329</td>\n      <td>0</td>\n      <td>0</td>\n      <td>1</td>\n      <td>0</td>\n      <td>24</td>\n      <td>1</td>\n      <td>1</td>\n      <td>93.00</td>\n      <td>...</td>\n      <td>0</td>\n      <td>1</td>\n      <td>0</td>\n      <td>0</td>\n      <td>0</td>\n      <td>1</td>\n      <td>0</td>\n      <td>0.275853</td>\n      <td>0.724147</td>\n      <td>1</td>\n    </tr>\n    <tr>\n      <th>3404</th>\n      <td>36.276880</td>\n      <td>-117.033326</td>\n      <td>1</td>\n      <td>0</td>\n      <td>1</td>\n      <td>0</td>\n      <td>40</td>\n      <td>1</td>\n      <td>1</td>\n      <td>78.85</td>\n      <td>...</td>\n      <td>0</td>\n      <td>0</td>\n      <td>0</td>\n      <td>0</td>\n      <td>1</td>\n      <td>0</td>\n      <td>0</td>\n      <td>0.702186</td>\n      <td>0.297814</td>\n      <td>0</td>\n    </tr>\n    <tr>\n      <th>5474</th>\n      <td>40.531257</td>\n      <td>-122.148139</td>\n      <td>0</td>\n      <td>0</td>\n      <td>1</td>\n      <td>0</td>\n      <td>4</td>\n      <td>1</td>\n      <td>0</td>\n      <td>65.60</td>\n      <td>...</td>\n      <td>0</td>\n      <td>0</td>\n      <td>0</td>\n      <td>0</td>\n      <td>0</td>\n      <td>1</td>\n      <td>0</td>\n      <td>0.415106</td>\n      <td>0.584894</td>\n      <td>1</td>\n    </tr>\n    <tr>\n      <th>5515</th>\n      <td>39.117018</td>\n      <td>-120.212535</td>\n      <td>1</td>\n      <td>0</td>\n      <td>0</td>\n      <td>0</td>\n      <td>4</td>\n      <td>1</td>\n      <td>0</td>\n      <td>55.50</td>\n      <td>...</td>\n      <td>0</td>\n      <td>0</td>\n      <td>0</td>\n      <td>0</td>\n      <td>1</td>\n      <td>0</td>\n      <td>0</td>\n      <td>0.634202</td>\n      <td>0.365798</td>\n      <td>0</td>\n    </tr>\n    <tr>\n      <th>6328</th>\n      <td>37.186141</td>\n      <td>-121.843554</td>\n      <td>1</td>\n      <td>0</td>\n      <td>1</td>\n      <td>1</td>\n      <td>64</td>\n      <td>1</td>\n      <td>0</td>\n      <td>24.90</td>\n      <td>...</td>\n      <td>1</td>\n      <td>0</td>\n      <td>1</td>\n      <td>0</td>\n      <td>0</td>\n      <td>0</td>\n      <td>1</td>\n      <td>0.998405</td>\n      <td>0.001595</td>\n      <td>0</td>\n    </tr>\n    <tr>\n      <th>5275</th>\n      <td>40.342928</td>\n      <td>-124.063329</td>\n      <td>0</td>\n      <td>1</td>\n      <td>1</td>\n      <td>0</td>\n      <td>69</td>\n      <td>1</td>\n      <td>1</td>\n      <td>95.35</td>\n      <td>...</td>\n      <td>0</td>\n      <td>1</td>\n      <td>0</td>\n      <td>0</td>\n      <td>0</td>\n      <td>0</td>\n      <td>0</td>\n      <td>0.698935</td>\n      <td>0.301065</td>\n      <td>0</td>\n    </tr>\n    <tr>\n      <th>1323</th>\n      <td>34.037037</td>\n      <td>-118.705803</td>\n      <td>1</td>\n      <td>1</td>\n      <td>0</td>\n      <td>0</td>\n      <td>2</td>\n      <td>1</td>\n      <td>1</td>\n      <td>79.60</td>\n      <td>...</td>\n      <td>0</td>\n      <td>1</td>\n      <td>0</td>\n      <td>0</td>\n      <td>0</td>\n      <td>1</td>\n      <td>0</td>\n      <td>0.215543</td>\n      <td>0.784457</td>\n      <td>1</td>\n    </tr>\n    <tr>\n      <th>6731</th>\n      <td>34.066303</td>\n      <td>-118.435479</td>\n      <td>0</td>\n      <td>1</td>\n      <td>0</td>\n      <td>0</td>\n      <td>16</td>\n      <td>1</td>\n      <td>1</td>\n      <td>78.75</td>\n      <td>...</td>\n      <td>0</td>\n      <td>1</td>\n      <td>0</td>\n      <td>0</td>\n      <td>0</td>\n      <td>1</td>\n      <td>0</td>\n      <td>0.334253</td>\n      <td>0.665747</td>\n      <td>1</td>\n    </tr>\n    <tr>\n      <th>5922</th>\n      <td>33.429488</td>\n      <td>-117.609432</td>\n      <td>1</td>\n      <td>1</td>\n      <td>0</td>\n      <td>0</td>\n      <td>67</td>\n      <td>1</td>\n      <td>1</td>\n      <td>92.45</td>\n      <td>...</td>\n      <td>0</td>\n      <td>0</td>\n      <td>0</td>\n      <td>1</td>\n      <td>0</td>\n      <td>0</td>\n      <td>0</td>\n      <td>0.958734</td>\n      <td>0.041266</td>\n      <td>0</td>\n    </tr>\n    <tr>\n      <th>6755</th>\n      <td>34.044271</td>\n      <td>-118.185237</td>\n      <td>1</td>\n      <td>0</td>\n      <td>1</td>\n      <td>1</td>\n      <td>72</td>\n      <td>0</td>\n      <td>0</td>\n      <td>53.65</td>\n      <td>...</td>\n      <td>0</td>\n      <td>1</td>\n      <td>0</td>\n      <td>1</td>\n      <td>1</td>\n      <td>0</td>\n      <td>0</td>\n      <td>0.996476</td>\n      <td>0.003524</td>\n      <td>0</td>\n    </tr>\n    <tr>\n      <th>6914</th>\n      <td>33.992416</td>\n      <td>-117.807874</td>\n      <td>1</td>\n      <td>0</td>\n      <td>1</td>\n      <td>0</td>\n      <td>21</td>\n      <td>1</td>\n      <td>1</td>\n      <td>86.05</td>\n      <td>...</td>\n      <td>0</td>\n      <td>0</td>\n      <td>0</td>\n      <td>0</td>\n      <td>0</td>\n      <td>1</td>\n      <td>0</td>\n      <td>0.444008</td>\n      <td>0.555992</td>\n      <td>1</td>\n    </tr>\n    <tr>\n      <th>1671</th>\n      <td>38.349195</td>\n      <td>-121.902943</td>\n      <td>1</td>\n      <td>0</td>\n      <td>0</td>\n      <td>0</td>\n      <td>4</td>\n      <td>1</td>\n      <td>1</td>\n      <td>79.00</td>\n      <td>...</td>\n      <td>0</td>\n      <td>0</td>\n      <td>0</td>\n      <td>0</td>\n      <td>0</td>\n      <td>1</td>\n      <td>0</td>\n      <td>0.287075</td>\n      <td>0.712925</td>\n      <td>1</td>\n    </tr>\n    <tr>\n      <th>387</th>\n      <td>38.715498</td>\n      <td>-121.363411</td>\n      <td>0</td>\n      <td>0</td>\n      <td>1</td>\n      <td>0</td>\n      <td>13</td>\n      <td>1</td>\n      <td>1</td>\n      <td>74.40</td>\n      <td>...</td>\n      <td>0</td>\n      <td>0</td>\n      <td>0</td>\n      <td>0</td>\n      <td>1</td>\n      <td>0</td>\n      <td>0</td>\n      <td>0.363860</td>\n      <td>0.636140</td>\n      <td>1</td>\n    </tr>\n    <tr>\n      <th>3529</th>\n      <td>33.918043</td>\n      <td>-117.617809</td>\n      <td>1</td>\n      <td>0</td>\n      <td>0</td>\n      <td>0</td>\n      <td>15</td>\n      <td>1</td>\n      <td>0</td>\n      <td>65.60</td>\n      <td>...</td>\n      <td>0</td>\n      <td>0</td>\n      <td>1</td>\n      <td>0</td>\n      <td>1</td>\n      <td>0</td>\n      <td>0</td>\n      <td>0.934468</td>\n      <td>0.065532</td>\n      <td>0</td>\n    </tr>\n    <tr>\n      <th>1032</th>\n      <td>34.205504</td>\n      <td>-118.993111</td>\n      <td>0</td>\n      <td>0</td>\n      <td>1</td>\n      <td>0</td>\n      <td>20</td>\n      <td>1</td>\n      <td>1</td>\n      <td>90.20</td>\n      <td>...</td>\n      <td>0</td>\n      <td>1</td>\n      <td>0</td>\n      <td>0</td>\n      <td>0</td>\n      <td>1</td>\n      <td>0</td>\n      <td>0.297610</td>\n      <td>0.702390</td>\n      <td>1</td>\n    </tr>\n    <tr>\n      <th>4515</th>\n      <td>34.024405</td>\n      <td>-117.898722</td>\n      <td>0</td>\n      <td>0</td>\n      <td>1</td>\n      <td>1</td>\n      <td>31</td>\n      <td>1</td>\n      <td>0</td>\n      <td>59.70</td>\n      <td>...</td>\n      <td>0</td>\n      <td>1</td>\n      <td>0</td>\n      <td>0</td>\n      <td>0</td>\n      <td>0</td>\n      <td>0</td>\n      <td>0.924897</td>\n      <td>0.075103</td>\n      <td>0</td>\n    </tr>\n    <tr>\n      <th>3922</th>\n      <td>37.218705</td>\n      <td>-121.762429</td>\n      <td>0</td>\n      <td>0</td>\n      <td>1</td>\n      <td>1</td>\n      <td>72</td>\n      <td>1</td>\n      <td>0</td>\n      <td>26.10</td>\n      <td>...</td>\n      <td>1</td>\n      <td>0</td>\n      <td>0</td>\n      <td>1</td>\n      <td>0</td>\n      <td>0</td>\n      <td>1</td>\n      <td>0.999298</td>\n      <td>0.000702</td>\n      <td>0</td>\n    </tr>\n    <tr>\n      <th>1747</th>\n      <td>39.241240</td>\n      <td>-120.054765</td>\n      <td>0</td>\n      <td>1</td>\n      <td>0</td>\n      <td>0</td>\n      <td>66</td>\n      <td>1</td>\n      <td>0</td>\n      <td>110.90</td>\n      <td>...</td>\n      <td>0</td>\n      <td>1</td>\n      <td>1</td>\n      <td>0</td>\n      <td>1</td>\n      <td>0</td>\n      <td>0</td>\n      <td>0.875097</td>\n      <td>0.124903</td>\n      <td>0</td>\n    </tr>\n    <tr>\n      <th>6103</th>\n      <td>36.696759</td>\n      <td>-119.024051</td>\n      <td>1</td>\n      <td>0</td>\n      <td>1</td>\n      <td>0</td>\n      <td>65</td>\n      <td>1</td>\n      <td>1</td>\n      <td>59.80</td>\n      <td>...</td>\n      <td>0</td>\n      <td>0</td>\n      <td>0</td>\n      <td>1</td>\n      <td>1</td>\n      <td>0</td>\n      <td>0</td>\n      <td>0.979561</td>\n      <td>0.020439</td>\n      <td>0</td>\n    </tr>\n    <tr>\n      <th>6614</th>\n      <td>39.194539</td>\n      <td>-120.988066</td>\n      <td>0</td>\n      <td>0</td>\n      <td>1</td>\n      <td>1</td>\n      <td>17</td>\n      <td>0</td>\n      <td>0</td>\n      <td>44.45</td>\n      <td>...</td>\n      <td>0</td>\n      <td>0</td>\n      <td>1</td>\n      <td>0</td>\n      <td>1</td>\n      <td>0</td>\n      <td>0</td>\n      <td>0.941647</td>\n      <td>0.058353</td>\n      <td>0</td>\n    </tr>\n  </tbody>\n</table>\n<p>20 rows × 35 columns</p>\n</div>"
     },
     "execution_count": 17,
     "metadata": {},
     "output_type": "execute_result"
    }
   ],
   "source": [
    "X_train.head(20)"
   ],
   "metadata": {
    "collapsed": false
   }
  },
  {
   "cell_type": "code",
   "execution_count": 18,
   "outputs": [
    {
     "data": {
      "text/plain": "0    4556\n1    1069\nName: pred, dtype: int64"
     },
     "execution_count": 18,
     "metadata": {},
     "output_type": "execute_result"
    }
   ],
   "source": [
    "X_train['pred'].value_counts()"
   ],
   "metadata": {
    "collapsed": false
   }
  },
  {
   "cell_type": "markdown",
   "source": [
    "# Evaluate base model on Train"
   ],
   "metadata": {
    "collapsed": false
   }
  },
  {
   "cell_type": "code",
   "execution_count": 19,
   "outputs": [
    {
     "name": "stdout",
     "output_type": "stream",
     "text": [
      "The confusion matrix for your predictions is:\n",
      "[[3827  324]\n",
      " [ 729  745]] \n",
      "\n",
      "The accuracy of your model is: 0.8128\n",
      "The recall of your model is: 0.505427408412483\n",
      "The precision of your model is: 0.696913002806361\n",
      "The F1-score of your model is: 0.5859221392056626\n"
     ]
    }
   ],
   "source": [
    "# Evaluate results on train data\n",
    "get_results(y_train, X_train['pred'])"
   ],
   "metadata": {
    "collapsed": false
   }
  },
  {
   "cell_type": "code",
   "execution_count": 20,
   "outputs": [
    {
     "name": "stdout",
     "output_type": "stream",
     "text": [
      "              precision    recall  f1-score   support\n",
      "\n",
      "           0       0.84      0.92      0.88      4151\n",
      "           1       0.70      0.51      0.59      1474\n",
      "\n",
      "    accuracy                           0.81      5625\n",
      "   macro avg       0.77      0.71      0.73      5625\n",
      "weighted avg       0.80      0.81      0.80      5625\n",
      "\n"
     ]
    }
   ],
   "source": [
    "# Classification report on Train\n",
    "print(metrics.classification_report(y_train, X_train['pred']))"
   ],
   "metadata": {
    "collapsed": false
   }
  },
  {
   "cell_type": "code",
   "execution_count": 21,
   "outputs": [
    {
     "data": {
      "text/plain": "<Figure size 640x480 with 2 Axes>",
      "image/png": "[encoded data removed]"
     },
     "metadata": {},
     "output_type": "display_data"
    }
   ],
   "source": [
    "metrics.ConfusionMatrixDisplay(metrics.confusion_matrix(y_train,X_train['pred'])).plot()\n",
    "plt.show()\n",
    "# Note the defualt colour scheme is not ideal and using a more basic representation is what we will use in the future."
   ],
   "metadata": {
    "collapsed": false
   }
  },
  {
   "cell_type": "markdown",
   "source": [
    "# Predict and evaluate on Test"
   ],
   "metadata": {
    "collapsed": false
   }
  },
  {
   "cell_type": "code",
   "execution_count": 22,
   "outputs": [],
   "source": [
    "X_test = feature_engineering(X_test)"
   ],
   "metadata": {
    "collapsed": false
   }
  },
  {
   "cell_type": "code",
   "execution_count": 23,
   "outputs": [
    {
     "data": {
      "text/plain": "       Latitude   Longitude  Gender  Senior Citizen  Partner  Dependents  \\\n2476  37.244307 -119.470256       1               0        1           0   \n6773  33.890853 -118.297967       0               0        0           0   \n6116  36.600193 -120.153393       1               0        0           0   \n3047  40.021787 -122.127576       0               0        0           0   \n4092  38.683605 -120.811852       1               0        0           0   \n\n      Tenure Months  Phone Service  Paperless Billing  Monthly Charges  ...  \\\n2476             42              1                  0            25.25  ...   \n6773             43              0                  0            44.15  ...   \n6116             27              1                  1            89.20  ...   \n3047             65              1                  1            19.55  ...   \n4092             29              1                  1            71.00  ...   \n\n      Tech Support_Yes  Streaming TV_No internet service  Streaming TV_Yes  \\\n2476                 0                                 1                 0   \n6773                 1                                 0                 0   \n6116                 1                                 0                 0   \n3047                 0                                 1                 0   \n4092                 0                                 0                 1   \n\n      Streaming Movies_No internet service  Streaming Movies_Yes  \\\n2476                                     1                     0   \n6773                                     0                     1   \n6116                                     0                     1   \n3047                                     1                     0   \n4092                                     0                     1   \n\n      Contract_One year  Contract_Two year  \\\n2476                  0                  1   \n6773                  1                  0   \n6116                  0                  0   \n3047                  0                  1   \n4092                  1                  0   \n\n      Payment Method_Credit card (automatic)  Payment Method_Electronic check  \\\n2476                                       0                                1   \n6773                                       0                                1   \n6116                                       0                                1   \n3047                                       1                                0   \n4092                                       1                                0   \n\n      Payment Method_Mailed check  \n2476                            0  \n6773                            0  \n6116                            0  \n3047                            0  \n4092                            0  \n\n[5 rows x 32 columns]",
      "text/html": "<div>\n<style scoped>\n    .dataframe tbody tr th:only-of-type {\n        vertical-align: middle;\n    }\n\n    .dataframe tbody tr th {\n        vertical-align: top;\n    }\n\n    .dataframe thead th {\n        text-align: right;\n    }\n</style>\n<table border=\"1\" class=\"dataframe\">\n  <thead>\n    <tr style=\"text-align: right;\">\n      <th></th>\n      <th>Latitude</th>\n      <th>Longitude</th>\n      <th>Gender</th>\n      <th>Senior Citizen</th>\n      <th>Partner</th>\n      <th>Dependents</th>\n      <th>Tenure Months</th>\n      <th>Phone Service</th>\n      <th>Paperless Billing</th>\n      <th>Monthly Charges</th>\n      <th>...</th>\n      <th>Tech Support_Yes</th>\n      <th>Streaming TV_No internet service</th>\n      <th>Streaming TV_Yes</th>\n      <th>Streaming Movies_No internet service</th>\n      <th>Streaming Movies_Yes</th>\n      <th>Contract_One year</th>\n      <th>Contract_Two year</th>\n      <th>Payment Method_Credit card (automatic)</th>\n      <th>Payment Method_Electronic check</th>\n      <th>Payment Method_Mailed check</th>\n    </tr>\n  </thead>\n  <tbody>\n    <tr>\n      <th>2476</th>\n      <td>37.244307</td>\n      <td>-119.470256</td>\n      <td>1</td>\n      <td>0</td>\n      <td>1</td>\n      <td>0</td>\n      <td>42</td>\n      <td>1</td>\n      <td>0</td>\n      <td>25.25</td>\n      <td>...</td>\n      <td>0</td>\n      <td>1</td>\n      <td>0</td>\n      <td>1</td>\n      <td>0</td>\n      <td>0</td>\n      <td>1</td>\n      <td>0</td>\n      <td>1</td>\n      <td>0</td>\n    </tr>\n    <tr>\n      <th>6773</th>\n      <td>33.890853</td>\n      <td>-118.297967</td>\n      <td>0</td>\n      <td>0</td>\n      <td>0</td>\n      <td>0</td>\n      <td>43</td>\n      <td>0</td>\n      <td>0</td>\n      <td>44.15</td>\n      <td>...</td>\n      <td>1</td>\n      <td>0</td>\n      <td>0</td>\n      <td>0</td>\n      <td>1</td>\n      <td>1</td>\n      <td>0</td>\n      <td>0</td>\n      <td>1</td>\n      <td>0</td>\n    </tr>\n    <tr>\n      <th>6116</th>\n      <td>36.600193</td>\n      <td>-120.153393</td>\n      <td>1</td>\n      <td>0</td>\n      <td>0</td>\n      <td>0</td>\n      <td>27</td>\n      <td>1</td>\n      <td>1</td>\n      <td>89.20</td>\n      <td>...</td>\n      <td>1</td>\n      <td>0</td>\n      <td>0</td>\n      <td>0</td>\n      <td>1</td>\n      <td>0</td>\n      <td>0</td>\n      <td>0</td>\n      <td>1</td>\n      <td>0</td>\n    </tr>\n    <tr>\n      <th>3047</th>\n      <td>40.021787</td>\n      <td>-122.127576</td>\n      <td>0</td>\n      <td>0</td>\n      <td>0</td>\n      <td>0</td>\n      <td>65</td>\n      <td>1</td>\n      <td>1</td>\n      <td>19.55</td>\n      <td>...</td>\n      <td>0</td>\n      <td>1</td>\n      <td>0</td>\n      <td>1</td>\n      <td>0</td>\n      <td>0</td>\n      <td>1</td>\n      <td>1</td>\n      <td>0</td>\n      <td>0</td>\n    </tr>\n    <tr>\n      <th>4092</th>\n      <td>38.683605</td>\n      <td>-120.811852</td>\n      <td>1</td>\n      <td>0</td>\n      <td>0</td>\n      <td>0</td>\n      <td>29</td>\n      <td>1</td>\n      <td>1</td>\n      <td>71.00</td>\n      <td>...</td>\n      <td>0</td>\n      <td>0</td>\n      <td>1</td>\n      <td>0</td>\n      <td>1</td>\n      <td>1</td>\n      <td>0</td>\n      <td>1</td>\n      <td>0</td>\n      <td>0</td>\n    </tr>\n  </tbody>\n</table>\n<p>5 rows × 32 columns</p>\n</div>"
     },
     "execution_count": 23,
     "metadata": {},
     "output_type": "execute_result"
    }
   ],
   "source": [
    "X_test.head()"
   ],
   "metadata": {
    "collapsed": false
   }
  },
  {
   "cell_type": "code",
   "execution_count": 24,
   "outputs": [],
   "source": [
    "# Store the results in two columns\n",
    "X_test[['prob_not_churn', 'prob_churn']] = lr.predict_proba(X_test)"
   ],
   "metadata": {
    "collapsed": false
   }
  },
  {
   "cell_type": "code",
   "execution_count": 25,
   "outputs": [
    {
     "data": {
      "text/plain": "       Latitude   Longitude  Gender  Senior Citizen  Partner  Dependents  \\\n2476  37.244307 -119.470256       1               0        1           0   \n6773  33.890853 -118.297967       0               0        0           0   \n6116  36.600193 -120.153393       1               0        0           0   \n3047  40.021787 -122.127576       0               0        0           0   \n4092  38.683605 -120.811852       1               0        0           0   \n\n      Tenure Months  Phone Service  Paperless Billing  Monthly Charges  ...  \\\n2476             42              1                  0            25.25  ...   \n6773             43              0                  0            44.15  ...   \n6116             27              1                  1            89.20  ...   \n3047             65              1                  1            19.55  ...   \n4092             29              1                  1            71.00  ...   \n\n      Streaming TV_Yes  Streaming Movies_No internet service  \\\n2476                 0                                     1   \n6773                 0                                     0   \n6116                 0                                     0   \n3047                 0                                     1   \n4092                 1                                     0   \n\n      Streaming Movies_Yes  Contract_One year  Contract_Two year  \\\n2476                     0                  0                  1   \n6773                     1                  1                  0   \n6116                     1                  0                  0   \n3047                     0                  0                  1   \n4092                     1                  1                  0   \n\n      Payment Method_Credit card (automatic)  Payment Method_Electronic check  \\\n2476                                       0                                1   \n6773                                       0                                1   \n6116                                       0                                1   \n3047                                       1                                0   \n4092                                       1                                0   \n\n      Payment Method_Mailed check  prob_not_churn  prob_churn  \n2476                            0        0.978067    0.021933  \n6773                            0        0.917507    0.082493  \n6116                            0        0.559307    0.440693  \n3047                            0        0.997083    0.002917  \n4092                            0        0.763053    0.236947  \n\n[5 rows x 34 columns]",
      "text/html": "<div>\n<style scoped>\n    .dataframe tbody tr th:only-of-type {\n        vertical-align: middle;\n    }\n\n    .dataframe tbody tr th {\n        vertical-align: top;\n    }\n\n    .dataframe thead th {\n        text-align: right;\n    }\n</style>\n<table border=\"1\" class=\"dataframe\">\n  <thead>\n    <tr style=\"text-align: right;\">\n      <th></th>\n      <th>Latitude</th>\n      <th>Longitude</th>\n      <th>Gender</th>\n      <th>Senior Citizen</th>\n      <th>Partner</th>\n      <th>Dependents</th>\n      <th>Tenure Months</th>\n      <th>Phone Service</th>\n      <th>Paperless Billing</th>\n      <th>Monthly Charges</th>\n      <th>...</th>\n      <th>Streaming TV_Yes</th>\n      <th>Streaming Movies_No internet service</th>\n      <th>Streaming Movies_Yes</th>\n      <th>Contract_One year</th>\n      <th>Contract_Two year</th>\n      <th>Payment Method_Credit card (automatic)</th>\n      <th>Payment Method_Electronic check</th>\n      <th>Payment Method_Mailed check</th>\n      <th>prob_not_churn</th>\n      <th>prob_churn</th>\n    </tr>\n  </thead>\n  <tbody>\n    <tr>\n      <th>2476</th>\n      <td>37.244307</td>\n      <td>-119.470256</td>\n      <td>1</td>\n      <td>0</td>\n      <td>1</td>\n      <td>0</td>\n      <td>42</td>\n      <td>1</td>\n      <td>0</td>\n      <td>25.25</td>\n      <td>...</td>\n      <td>0</td>\n      <td>1</td>\n      <td>0</td>\n      <td>0</td>\n      <td>1</td>\n      <td>0</td>\n      <td>1</td>\n      <td>0</td>\n      <td>0.978067</td>\n      <td>0.021933</td>\n    </tr>\n    <tr>\n      <th>6773</th>\n      <td>33.890853</td>\n      <td>-118.297967</td>\n      <td>0</td>\n      <td>0</td>\n      <td>0</td>\n      <td>0</td>\n      <td>43</td>\n      <td>0</td>\n      <td>0</td>\n      <td>44.15</td>\n      <td>...</td>\n      <td>0</td>\n      <td>0</td>\n      <td>1</td>\n      <td>1</td>\n      <td>0</td>\n      <td>0</td>\n      <td>1</td>\n      <td>0</td>\n      <td>0.917507</td>\n      <td>0.082493</td>\n    </tr>\n    <tr>\n      <th>6116</th>\n      <td>36.600193</td>\n      <td>-120.153393</td>\n      <td>1</td>\n      <td>0</td>\n      <td>0</td>\n      <td>0</td>\n      <td>27</td>\n      <td>1</td>\n      <td>1</td>\n      <td>89.20</td>\n      <td>...</td>\n      <td>0</td>\n      <td>0</td>\n      <td>1</td>\n      <td>0</td>\n      <td>0</td>\n      <td>0</td>\n      <td>1</td>\n      <td>0</td>\n      <td>0.559307</td>\n      <td>0.440693</td>\n    </tr>\n    <tr>\n      <th>3047</th>\n      <td>40.021787</td>\n      <td>-122.127576</td>\n      <td>0</td>\n      <td>0</td>\n      <td>0</td>\n      <td>0</td>\n      <td>65</td>\n      <td>1</td>\n      <td>1</td>\n      <td>19.55</td>\n      <td>...</td>\n      <td>0</td>\n      <td>1</td>\n      <td>0</td>\n      <td>0</td>\n      <td>1</td>\n      <td>1</td>\n      <td>0</td>\n      <td>0</td>\n      <td>0.997083</td>\n      <td>0.002917</td>\n    </tr>\n    <tr>\n      <th>4092</th>\n      <td>38.683605</td>\n      <td>-120.811852</td>\n      <td>1</td>\n      <td>0</td>\n      <td>0</td>\n      <td>0</td>\n      <td>29</td>\n      <td>1</td>\n      <td>1</td>\n      <td>71.00</td>\n      <td>...</td>\n      <td>1</td>\n      <td>0</td>\n      <td>1</td>\n      <td>1</td>\n      <td>0</td>\n      <td>1</td>\n      <td>0</td>\n      <td>0</td>\n      <td>0.763053</td>\n      <td>0.236947</td>\n    </tr>\n  </tbody>\n</table>\n<p>5 rows × 34 columns</p>\n</div>"
     },
     "execution_count": 25,
     "metadata": {},
     "output_type": "execute_result"
    }
   ],
   "source": [
    "# Check progress\n",
    "X_test.head()"
   ],
   "metadata": {
    "collapsed": false
   }
  },
  {
   "cell_type": "code",
   "execution_count": 26,
   "outputs": [
    {
     "data": {
      "text/plain": "       Latitude   Longitude  Gender  Senior Citizen  Partner  Dependents  \\\n2476  37.244307 -119.470256       1               0        1           0   \n6773  33.890853 -118.297967       0               0        0           0   \n6116  36.600193 -120.153393       1               0        0           0   \n3047  40.021787 -122.127576       0               0        0           0   \n4092  38.683605 -120.811852       1               0        0           0   \n3218  34.122671 -118.112911       0               0        0           1   \n3768  37.776718 -122.495781       1               0        1           0   \n3463  33.739412 -117.173334       1               0        0           0   \n3414  34.256500 -117.193350       1               0        0           0   \n1192  37.609095 -121.263381       1               0        0           0   \n2168  32.730583 -115.501083       1               0        0           0   \n1287  41.280341 -120.150381       1               0        0           0   \n2574  38.050558 -121.646924       1               1        1           1   \n6569  38.584505 -121.491956       1               0        1           1   \n2510  36.596271 -121.442274       0               0        1           0   \n3252  34.152875 -118.486056       0               0        0           0   \n1971  33.847755 -118.112532       1               0        0           0   \n132   33.581045 -117.147190       0               0        0           0   \n5186  38.109125 -120.078597       0               1        1           0   \n1945  33.936827 -118.359824       0               0        0           0   \n\n      Tenure Months  Phone Service  Paperless Billing  Monthly Charges  ...  \\\n2476             42              1                  0            25.25  ...   \n6773             43              0                  0            44.15  ...   \n6116             27              1                  1            89.20  ...   \n3047             65              1                  1            19.55  ...   \n4092             29              1                  1            71.00  ...   \n3218             32              1                  0            20.50  ...   \n3768             71              1                  0            25.00  ...   \n3463             19              1                  0            20.25  ...   \n3414             33              1                  0            59.40  ...   \n1192              3              1                  0            85.80  ...   \n2168             11              1                  0            20.05  ...   \n1287              1              0                  1            35.75  ...   \n2574             32              1                  1            91.35  ...   \n6569             54              1                  1            59.80  ...   \n2510             72              0                  1            64.80  ...   \n3252             26              0                  1            44.65  ...   \n1971             43              1                  1            25.70  ...   \n132              40              1                  0           104.80  ...   \n5186             72              1                  0            77.35  ...   \n1945              1              1                  0            20.20  ...   \n\n      Streaming Movies_No internet service  Streaming Movies_Yes  \\\n2476                                     1                     0   \n6773                                     0                     1   \n6116                                     0                     1   \n3047                                     1                     0   \n4092                                     0                     1   \n3218                                     1                     0   \n3768                                     1                     0   \n3463                                     1                     0   \n3414                                     0                     0   \n1192                                     0                     1   \n2168                                     1                     0   \n1287                                     0                     0   \n2574                                     0                     0   \n6569                                     0                     0   \n2510                                     0                     1   \n3252                                     0                     1   \n1971                                     1                     0   \n132                                      0                     1   \n5186                                     0                     0   \n1945                                     1                     0   \n\n      Contract_One year  Contract_Two year  \\\n2476                  0                  1   \n6773                  1                  0   \n6116                  0                  0   \n3047                  0                  1   \n4092                  1                  0   \n3218                  0                  1   \n3768                  0                  1   \n3463                  1                  0   \n3414                  1                  0   \n1192                  0                  0   \n2168                  1                  0   \n1287                  0                  0   \n2574                  0                  0   \n6569                  0                  1   \n2510                  0                  1   \n3252                  0                  0   \n1971                  0                  1   \n132                   0                  0   \n5186                  0                  1   \n1945                  0                  0   \n\n      Payment Method_Credit card (automatic)  Payment Method_Electronic check  \\\n2476                                       0                                1   \n6773                                       0                                1   \n6116                                       0                                1   \n3047                                       1                                0   \n4092                                       1                                0   \n3218                                       0                                0   \n3768                                       0                                0   \n3463                                       1                                0   \n3414                                       0                                1   \n1192                                       0                                1   \n2168                                       1                                0   \n1287                                       0                                1   \n2574                                       0                                0   \n6569                                       0                                0   \n2510                                       1                                0   \n3252                                       0                                0   \n1971                                       1                                0   \n132                                        0                                0   \n5186                                       1                                0   \n1945                                       0                                0   \n\n      Payment Method_Mailed check  prob_not_churn  prob_churn  pred  \n2476                            0        0.978067    0.021933     0  \n6773                            0        0.917507    0.082493     0  \n6116                            0        0.559307    0.440693     0  \n3047                            0        0.997083    0.002917     0  \n4092                            0        0.763053    0.236947     0  \n3218                            1        0.995974    0.004026     0  \n3768                            0        0.996797    0.003203     0  \n3463                            0        0.955256    0.044744     0  \n3414                            0        0.940812    0.059188     0  \n1192                            0        0.448282    0.551718     1  \n2168                            0        0.928938    0.071062     0  \n1287                            0        0.264479    0.735521     1  \n2574                            1        0.727697    0.272303     0  \n6569                            0        0.986150    0.013850     0  \n2510                            0        0.980344    0.019656     0  \n3252                            0        0.745443    0.254557     0  \n1971                            0        0.983652    0.016348     0  \n132                             0        0.691290    0.308710     0  \n5186                            0        0.981177    0.018823     0  \n1945                            1        0.795410    0.204590     0  \n\n[20 rows x 35 columns]",
      "text/html": "<div>\n<style scoped>\n    .dataframe tbody tr th:only-of-type {\n        vertical-align: middle;\n    }\n\n    .dataframe tbody tr th {\n        vertical-align: top;\n    }\n\n    .dataframe thead th {\n        text-align: right;\n    }\n</style>\n<table border=\"1\" class=\"dataframe\">\n  <thead>\n    <tr style=\"text-align: right;\">\n      <th></th>\n      <th>Latitude</th>\n      <th>Longitude</th>\n      <th>Gender</th>\n      <th>Senior Citizen</th>\n      <th>Partner</th>\n      <th>Dependents</th>\n      <th>Tenure Months</th>\n      <th>Phone Service</th>\n      <th>Paperless Billing</th>\n      <th>Monthly Charges</th>\n      <th>...</th>\n      <th>Streaming Movies_No internet service</th>\n      <th>Streaming Movies_Yes</th>\n      <th>Contract_One year</th>\n      <th>Contract_Two year</th>\n      <th>Payment Method_Credit card (automatic)</th>\n      <th>Payment Method_Electronic check</th>\n      <th>Payment Method_Mailed check</th>\n      <th>prob_not_churn</th>\n      <th>prob_churn</th>\n      <th>pred</th>\n    </tr>\n  </thead>\n  <tbody>\n    <tr>\n      <th>2476</th>\n      <td>37.244307</td>\n      <td>-119.470256</td>\n      <td>1</td>\n      <td>0</td>\n      <td>1</td>\n      <td>0</td>\n      <td>42</td>\n      <td>1</td>\n      <td>0</td>\n      <td>25.25</td>\n      <td>...</td>\n      <td>1</td>\n      <td>0</td>\n      <td>0</td>\n      <td>1</td>\n      <td>0</td>\n      <td>1</td>\n      <td>0</td>\n      <td>0.978067</td>\n      <td>0.021933</td>\n      <td>0</td>\n    </tr>\n    <tr>\n      <th>6773</th>\n      <td>33.890853</td>\n      <td>-118.297967</td>\n      <td>0</td>\n      <td>0</td>\n      <td>0</td>\n      <td>0</td>\n      <td>43</td>\n      <td>0</td>\n      <td>0</td>\n      <td>44.15</td>\n      <td>...</td>\n      <td>0</td>\n      <td>1</td>\n      <td>1</td>\n      <td>0</td>\n      <td>0</td>\n      <td>1</td>\n      <td>0</td>\n      <td>0.917507</td>\n      <td>0.082493</td>\n      <td>0</td>\n    </tr>\n    <tr>\n      <th>6116</th>\n      <td>36.600193</td>\n      <td>-120.153393</td>\n      <td>1</td>\n      <td>0</td>\n      <td>0</td>\n      <td>0</td>\n      <td>27</td>\n      <td>1</td>\n      <td>1</td>\n      <td>89.20</td>\n      <td>...</td>\n      <td>0</td>\n      <td>1</td>\n      <td>0</td>\n      <td>0</td>\n      <td>0</td>\n      <td>1</td>\n      <td>0</td>\n      <td>0.559307</td>\n      <td>0.440693</td>\n      <td>0</td>\n    </tr>\n    <tr>\n      <th>3047</th>\n      <td>40.021787</td>\n      <td>-122.127576</td>\n      <td>0</td>\n      <td>0</td>\n      <td>0</td>\n      <td>0</td>\n      <td>65</td>\n      <td>1</td>\n      <td>1</td>\n      <td>19.55</td>\n      <td>...</td>\n      <td>1</td>\n      <td>0</td>\n      <td>0</td>\n      <td>1</td>\n      <td>1</td>\n      <td>0</td>\n      <td>0</td>\n      <td>0.997083</td>\n      <td>0.002917</td>\n      <td>0</td>\n    </tr>\n    <tr>\n      <th>4092</th>\n      <td>38.683605</td>\n      <td>-120.811852</td>\n      <td>1</td>\n      <td>0</td>\n      <td>0</td>\n      <td>0</td>\n      <td>29</td>\n      <td>1</td>\n      <td>1</td>\n      <td>71.00</td>\n      <td>...</td>\n      <td>0</td>\n      <td>1</td>\n      <td>1</td>\n      <td>0</td>\n      <td>1</td>\n      <td>0</td>\n      <td>0</td>\n      <td>0.763053</td>\n      <td>0.236947</td>\n      <td>0</td>\n    </tr>\n    <tr>\n      <th>3218</th>\n      <td>34.122671</td>\n      <td>-118.112911</td>\n      <td>0</td>\n      <td>0</td>\n      <td>0</td>\n      <td>1</td>\n      <td>32</td>\n      <td>1</td>\n      <td>0</td>\n      <td>20.50</td>\n      <td>...</td>\n      <td>1</td>\n      <td>0</td>\n      <td>0</td>\n      <td>1</td>\n      <td>0</td>\n      <td>0</td>\n      <td>1</td>\n      <td>0.995974</td>\n      <td>0.004026</td>\n      <td>0</td>\n    </tr>\n    <tr>\n      <th>3768</th>\n      <td>37.776718</td>\n      <td>-122.495781</td>\n      <td>1</td>\n      <td>0</td>\n      <td>1</td>\n      <td>0</td>\n      <td>71</td>\n      <td>1</td>\n      <td>0</td>\n      <td>25.00</td>\n      <td>...</td>\n      <td>1</td>\n      <td>0</td>\n      <td>0</td>\n      <td>1</td>\n      <td>0</td>\n      <td>0</td>\n      <td>0</td>\n      <td>0.996797</td>\n      <td>0.003203</td>\n      <td>0</td>\n    </tr>\n    <tr>\n      <th>3463</th>\n      <td>33.739412</td>\n      <td>-117.173334</td>\n      <td>1</td>\n      <td>0</td>\n      <td>0</td>\n      <td>0</td>\n      <td>19</td>\n      <td>1</td>\n      <td>0</td>\n      <td>20.25</td>\n      <td>...</td>\n      <td>1</td>\n      <td>0</td>\n      <td>1</td>\n      <td>0</td>\n      <td>1</td>\n      <td>0</td>\n      <td>0</td>\n      <td>0.955256</td>\n      <td>0.044744</td>\n      <td>0</td>\n    </tr>\n    <tr>\n      <th>3414</th>\n      <td>34.256500</td>\n      <td>-117.193350</td>\n      <td>1</td>\n      <td>0</td>\n      <td>0</td>\n      <td>0</td>\n      <td>33</td>\n      <td>1</td>\n      <td>0</td>\n      <td>59.40</td>\n      <td>...</td>\n      <td>0</td>\n      <td>0</td>\n      <td>1</td>\n      <td>0</td>\n      <td>0</td>\n      <td>1</td>\n      <td>0</td>\n      <td>0.940812</td>\n      <td>0.059188</td>\n      <td>0</td>\n    </tr>\n    <tr>\n      <th>1192</th>\n      <td>37.609095</td>\n      <td>-121.263381</td>\n      <td>1</td>\n      <td>0</td>\n      <td>0</td>\n      <td>0</td>\n      <td>3</td>\n      <td>1</td>\n      <td>0</td>\n      <td>85.80</td>\n      <td>...</td>\n      <td>0</td>\n      <td>1</td>\n      <td>0</td>\n      <td>0</td>\n      <td>0</td>\n      <td>1</td>\n      <td>0</td>\n      <td>0.448282</td>\n      <td>0.551718</td>\n      <td>1</td>\n    </tr>\n    <tr>\n      <th>2168</th>\n      <td>32.730583</td>\n      <td>-115.501083</td>\n      <td>1</td>\n      <td>0</td>\n      <td>0</td>\n      <td>0</td>\n      <td>11</td>\n      <td>1</td>\n      <td>0</td>\n      <td>20.05</td>\n      <td>...</td>\n      <td>1</td>\n      <td>0</td>\n      <td>1</td>\n      <td>0</td>\n      <td>1</td>\n      <td>0</td>\n      <td>0</td>\n      <td>0.928938</td>\n      <td>0.071062</td>\n      <td>0</td>\n    </tr>\n    <tr>\n      <th>1287</th>\n      <td>41.280341</td>\n      <td>-120.150381</td>\n      <td>1</td>\n      <td>0</td>\n      <td>0</td>\n      <td>0</td>\n      <td>1</td>\n      <td>0</td>\n      <td>1</td>\n      <td>35.75</td>\n      <td>...</td>\n      <td>0</td>\n      <td>0</td>\n      <td>0</td>\n      <td>0</td>\n      <td>0</td>\n      <td>1</td>\n      <td>0</td>\n      <td>0.264479</td>\n      <td>0.735521</td>\n      <td>1</td>\n    </tr>\n    <tr>\n      <th>2574</th>\n      <td>38.050558</td>\n      <td>-121.646924</td>\n      <td>1</td>\n      <td>1</td>\n      <td>1</td>\n      <td>1</td>\n      <td>32</td>\n      <td>1</td>\n      <td>1</td>\n      <td>91.35</td>\n      <td>...</td>\n      <td>0</td>\n      <td>0</td>\n      <td>0</td>\n      <td>0</td>\n      <td>0</td>\n      <td>0</td>\n      <td>1</td>\n      <td>0.727697</td>\n      <td>0.272303</td>\n      <td>0</td>\n    </tr>\n    <tr>\n      <th>6569</th>\n      <td>38.584505</td>\n      <td>-121.491956</td>\n      <td>1</td>\n      <td>0</td>\n      <td>1</td>\n      <td>1</td>\n      <td>54</td>\n      <td>1</td>\n      <td>1</td>\n      <td>59.80</td>\n      <td>...</td>\n      <td>0</td>\n      <td>0</td>\n      <td>0</td>\n      <td>1</td>\n      <td>0</td>\n      <td>0</td>\n      <td>0</td>\n      <td>0.986150</td>\n      <td>0.013850</td>\n      <td>0</td>\n    </tr>\n    <tr>\n      <th>2510</th>\n      <td>36.596271</td>\n      <td>-121.442274</td>\n      <td>0</td>\n      <td>0</td>\n      <td>1</td>\n      <td>0</td>\n      <td>72</td>\n      <td>0</td>\n      <td>1</td>\n      <td>64.80</td>\n      <td>...</td>\n      <td>0</td>\n      <td>1</td>\n      <td>0</td>\n      <td>1</td>\n      <td>1</td>\n      <td>0</td>\n      <td>0</td>\n      <td>0.980344</td>\n      <td>0.019656</td>\n      <td>0</td>\n    </tr>\n    <tr>\n      <th>3252</th>\n      <td>34.152875</td>\n      <td>-118.486056</td>\n      <td>0</td>\n      <td>0</td>\n      <td>0</td>\n      <td>0</td>\n      <td>26</td>\n      <td>0</td>\n      <td>1</td>\n      <td>44.65</td>\n      <td>...</td>\n      <td>0</td>\n      <td>1</td>\n      <td>0</td>\n      <td>0</td>\n      <td>0</td>\n      <td>0</td>\n      <td>0</td>\n      <td>0.745443</td>\n      <td>0.254557</td>\n      <td>0</td>\n    </tr>\n    <tr>\n      <th>1971</th>\n      <td>33.847755</td>\n      <td>-118.112532</td>\n      <td>1</td>\n      <td>0</td>\n      <td>0</td>\n      <td>0</td>\n      <td>43</td>\n      <td>1</td>\n      <td>1</td>\n      <td>25.70</td>\n      <td>...</td>\n      <td>1</td>\n      <td>0</td>\n      <td>0</td>\n      <td>1</td>\n      <td>1</td>\n      <td>0</td>\n      <td>0</td>\n      <td>0.983652</td>\n      <td>0.016348</td>\n      <td>0</td>\n    </tr>\n    <tr>\n      <th>132</th>\n      <td>33.581045</td>\n      <td>-117.147190</td>\n      <td>0</td>\n      <td>0</td>\n      <td>0</td>\n      <td>0</td>\n      <td>40</td>\n      <td>1</td>\n      <td>0</td>\n      <td>104.80</td>\n      <td>...</td>\n      <td>0</td>\n      <td>1</td>\n      <td>0</td>\n      <td>0</td>\n      <td>0</td>\n      <td>0</td>\n      <td>0</td>\n      <td>0.691290</td>\n      <td>0.308710</td>\n      <td>0</td>\n    </tr>\n    <tr>\n      <th>5186</th>\n      <td>38.109125</td>\n      <td>-120.078597</td>\n      <td>0</td>\n      <td>1</td>\n      <td>1</td>\n      <td>0</td>\n      <td>72</td>\n      <td>1</td>\n      <td>0</td>\n      <td>77.35</td>\n      <td>...</td>\n      <td>0</td>\n      <td>0</td>\n      <td>0</td>\n      <td>1</td>\n      <td>1</td>\n      <td>0</td>\n      <td>0</td>\n      <td>0.981177</td>\n      <td>0.018823</td>\n      <td>0</td>\n    </tr>\n    <tr>\n      <th>1945</th>\n      <td>33.936827</td>\n      <td>-118.359824</td>\n      <td>0</td>\n      <td>0</td>\n      <td>0</td>\n      <td>0</td>\n      <td>1</td>\n      <td>1</td>\n      <td>0</td>\n      <td>20.20</td>\n      <td>...</td>\n      <td>1</td>\n      <td>0</td>\n      <td>0</td>\n      <td>0</td>\n      <td>0</td>\n      <td>0</td>\n      <td>1</td>\n      <td>0.795410</td>\n      <td>0.204590</td>\n      <td>0</td>\n    </tr>\n  </tbody>\n</table>\n<p>20 rows × 35 columns</p>\n</div>"
     },
     "execution_count": 26,
     "metadata": {},
     "output_type": "execute_result"
    }
   ],
   "source": [
    "# Get a prediction by setting a cutoff point\n",
    "cutoff = .55\n",
    "X_test['pred'] = np.where(X_test['prob_churn'] > cutoff, 1, 0)\n",
    "X_test.head(20)"
   ],
   "metadata": {
    "collapsed": false
   }
  },
  {
   "cell_type": "code",
   "execution_count": 27,
   "outputs": [
    {
     "data": {
      "text/plain": "0    1134\n1     273\nName: pred, dtype: int64"
     },
     "execution_count": 27,
     "metadata": {},
     "output_type": "execute_result"
    }
   ],
   "source": [
    "X_test['pred'].value_counts()"
   ],
   "metadata": {
    "collapsed": false
   }
  },
  {
   "cell_type": "code",
   "execution_count": 28,
   "outputs": [
    {
     "name": "stdout",
     "output_type": "stream",
     "text": [
      "The confusion matrix for your predictions is:\n",
      "[[938  74]\n",
      " [196 199]] \n",
      "\n",
      "The accuracy of your model is: 0.8081023454157783\n",
      "The recall of your model is: 0.5037974683544304\n",
      "The precision of your model is: 0.7289377289377289\n",
      "The F1-score of your model is: 0.5958083832335328\n"
     ]
    }
   ],
   "source": [
    "# Evaluate results on Test data\n",
    "get_results(y_test, X_test['pred'])"
   ],
   "metadata": {
    "collapsed": false
   }
  },
  {
   "cell_type": "code",
   "execution_count": 29,
   "outputs": [
    {
     "name": "stdout",
     "output_type": "stream",
     "text": [
      "              precision    recall  f1-score   support\n",
      "\n",
      "           0       0.83      0.93      0.87      1012\n",
      "           1       0.73      0.50      0.60       395\n",
      "\n",
      "    accuracy                           0.81      1407\n",
      "   macro avg       0.78      0.72      0.73      1407\n",
      "weighted avg       0.80      0.81      0.80      1407\n",
      "\n"
     ]
    }
   ],
   "source": [
    "# Classification report on Test\n",
    "print(metrics.classification_report(y_test, X_test['pred']))"
   ],
   "metadata": {
    "collapsed": false
   }
  },
  {
   "cell_type": "markdown",
   "source": [
    "# Model 2 - With Scaling\n",
    "Scaling X_train and X_test feature columns"
   ],
   "metadata": {
    "collapsed": false
   }
  },
  {
   "cell_type": "code",
   "execution_count": 32,
   "outputs": [],
   "source": [
    "# setting up the standard scalar function and using it to transform X_train\n",
    "st_scaler = StandardScaler()\n",
    "X_train_fitted = st_scaler.fit_transform(X_train[feature_cols])"
   ],
   "metadata": {
    "collapsed": false
   }
  },
  {
   "cell_type": "code",
   "execution_count": 33,
   "outputs": [],
   "source": [
    "X_train_scaled = pd.DataFrame(X_train_fitted, columns = feature_cols)"
   ],
   "metadata": {
    "collapsed": false
   }
  },
  {
   "cell_type": "code",
   "execution_count": 34,
   "outputs": [
    {
     "data": {
      "text/plain": "   Latitude  Longitude    Gender  Senior Citizen   Partner  Dependents  \\\n0 -0.410792   0.393461 -0.986053        -0.44047  1.037872   -0.551266   \n1 -0.005813   1.290412  1.014144        -0.44047  1.037872   -0.551266   \n2  1.722708  -1.087882 -0.986053        -0.44047  1.037872   -0.551266   \n3  1.148113  -0.187862  1.014144        -0.44047 -0.963510   -0.551266   \n4  0.363613  -0.946256  1.014144        -0.44047  1.037872    1.814006   \n\n   Tenure Months  Phone Service  Paperless Billing  Monthly Charges  ...  \\\n0      -0.335339       0.330528           0.833233         0.943953  ...   \n1       0.316564       0.330528           0.833233         0.474005  ...   \n2      -1.150218       0.330528          -1.200145         0.033947  ...   \n3      -1.150218       0.330528          -1.200145        -0.301494  ...   \n4       1.294419       0.330528          -1.200145        -1.317778  ...   \n\n   Tech Support_Yes  Streaming TV_No internet service  Streaming TV_Yes  \\\n0         -0.642345                         -0.526819          1.273726   \n1          1.556796                         -0.526819         -0.785098   \n2         -0.642345                         -0.526819          1.273726   \n3         -0.642345                         -0.526819          1.273726   \n4         -0.642345                          1.898186         -0.785098   \n\n   Streaming Movies_No internet service  Streaming Movies_Yes  \\\n0                             -0.526819              1.256619   \n1                             -0.526819             -0.795786   \n2                             -0.526819             -0.795786   \n3                             -0.526819             -0.795786   \n4                              1.898186             -0.795786   \n\n   Contract_One year  Contract_Two year  \\\n0          -0.518272          -0.560856   \n1          -0.518272          -0.560856   \n2          -0.518272          -0.560856   \n3          -0.518272          -0.560856   \n4           1.929487          -0.560856   \n\n   Payment Method_Credit card (automatic)  Payment Method_Electronic check  \\\n0                               -0.530397                         1.419320   \n1                                1.885380                        -0.704563   \n2                               -0.530397                         1.419320   \n3                                1.885380                        -0.704563   \n4                               -0.530397                        -0.704563   \n\n   Payment Method_Mailed check  \n0                    -0.543861  \n1                    -0.543861  \n2                    -0.543861  \n3                    -0.543861  \n4                     1.838706  \n\n[5 rows x 32 columns]",
      "text/html": "<div>\n<style scoped>\n    .dataframe tbody tr th:only-of-type {\n        vertical-align: middle;\n    }\n\n    .dataframe tbody tr th {\n        vertical-align: top;\n    }\n\n    .dataframe thead th {\n        text-align: right;\n    }\n</style>\n<table border=\"1\" class=\"dataframe\">\n  <thead>\n    <tr style=\"text-align: right;\">\n      <th></th>\n      <th>Latitude</th>\n      <th>Longitude</th>\n      <th>Gender</th>\n      <th>Senior Citizen</th>\n      <th>Partner</th>\n      <th>Dependents</th>\n      <th>Tenure Months</th>\n      <th>Phone Service</th>\n      <th>Paperless Billing</th>\n      <th>Monthly Charges</th>\n      <th>...</th>\n      <th>Tech Support_Yes</th>\n      <th>Streaming TV_No internet service</th>\n      <th>Streaming TV_Yes</th>\n      <th>Streaming Movies_No internet service</th>\n      <th>Streaming Movies_Yes</th>\n      <th>Contract_One year</th>\n      <th>Contract_Two year</th>\n      <th>Payment Method_Credit card (automatic)</th>\n      <th>Payment Method_Electronic check</th>\n      <th>Payment Method_Mailed check</th>\n    </tr>\n  </thead>\n  <tbody>\n    <tr>\n      <th>0</th>\n      <td>-0.410792</td>\n      <td>0.393461</td>\n      <td>-0.986053</td>\n      <td>-0.44047</td>\n      <td>1.037872</td>\n      <td>-0.551266</td>\n      <td>-0.335339</td>\n      <td>0.330528</td>\n      <td>0.833233</td>\n      <td>0.943953</td>\n      <td>...</td>\n      <td>-0.642345</td>\n      <td>-0.526819</td>\n      <td>1.273726</td>\n      <td>-0.526819</td>\n      <td>1.256619</td>\n      <td>-0.518272</td>\n      <td>-0.560856</td>\n      <td>-0.530397</td>\n      <td>1.419320</td>\n      <td>-0.543861</td>\n    </tr>\n    <tr>\n      <th>1</th>\n      <td>-0.005813</td>\n      <td>1.290412</td>\n      <td>1.014144</td>\n      <td>-0.44047</td>\n      <td>1.037872</td>\n      <td>-0.551266</td>\n      <td>0.316564</td>\n      <td>0.330528</td>\n      <td>0.833233</td>\n      <td>0.474005</td>\n      <td>...</td>\n      <td>1.556796</td>\n      <td>-0.526819</td>\n      <td>-0.785098</td>\n      <td>-0.526819</td>\n      <td>-0.795786</td>\n      <td>-0.518272</td>\n      <td>-0.560856</td>\n      <td>1.885380</td>\n      <td>-0.704563</td>\n      <td>-0.543861</td>\n    </tr>\n    <tr>\n      <th>2</th>\n      <td>1.722708</td>\n      <td>-1.087882</td>\n      <td>-0.986053</td>\n      <td>-0.44047</td>\n      <td>1.037872</td>\n      <td>-0.551266</td>\n      <td>-1.150218</td>\n      <td>0.330528</td>\n      <td>-1.200145</td>\n      <td>0.033947</td>\n      <td>...</td>\n      <td>-0.642345</td>\n      <td>-0.526819</td>\n      <td>1.273726</td>\n      <td>-0.526819</td>\n      <td>-0.795786</td>\n      <td>-0.518272</td>\n      <td>-0.560856</td>\n      <td>-0.530397</td>\n      <td>1.419320</td>\n      <td>-0.543861</td>\n    </tr>\n    <tr>\n      <th>3</th>\n      <td>1.148113</td>\n      <td>-0.187862</td>\n      <td>1.014144</td>\n      <td>-0.44047</td>\n      <td>-0.963510</td>\n      <td>-0.551266</td>\n      <td>-1.150218</td>\n      <td>0.330528</td>\n      <td>-1.200145</td>\n      <td>-0.301494</td>\n      <td>...</td>\n      <td>-0.642345</td>\n      <td>-0.526819</td>\n      <td>1.273726</td>\n      <td>-0.526819</td>\n      <td>-0.795786</td>\n      <td>-0.518272</td>\n      <td>-0.560856</td>\n      <td>1.885380</td>\n      <td>-0.704563</td>\n      <td>-0.543861</td>\n    </tr>\n    <tr>\n      <th>4</th>\n      <td>0.363613</td>\n      <td>-0.946256</td>\n      <td>1.014144</td>\n      <td>-0.44047</td>\n      <td>1.037872</td>\n      <td>1.814006</td>\n      <td>1.294419</td>\n      <td>0.330528</td>\n      <td>-1.200145</td>\n      <td>-1.317778</td>\n      <td>...</td>\n      <td>-0.642345</td>\n      <td>1.898186</td>\n      <td>-0.785098</td>\n      <td>1.898186</td>\n      <td>-0.795786</td>\n      <td>1.929487</td>\n      <td>-0.560856</td>\n      <td>-0.530397</td>\n      <td>-0.704563</td>\n      <td>1.838706</td>\n    </tr>\n  </tbody>\n</table>\n<p>5 rows × 32 columns</p>\n</div>"
     },
     "execution_count": 34,
     "metadata": {},
     "output_type": "execute_result"
    }
   ],
   "source": [
    "X_train_scaled.head()"
   ],
   "metadata": {
    "collapsed": false
   }
  },
  {
   "cell_type": "code",
   "execution_count": 35,
   "outputs": [],
   "source": [
    "# Same as above but for X_test this time\n",
    "X_test_fitted = st_scaler.transform(X_test[feature_cols])"
   ],
   "metadata": {
    "collapsed": false
   }
  },
  {
   "cell_type": "code",
   "execution_count": 36,
   "outputs": [],
   "source": [
    "X_test_scaled = pd.DataFrame(X_test_fitted, columns = feature_cols)"
   ],
   "metadata": {
    "collapsed": false
   }
  },
  {
   "cell_type": "code",
   "execution_count": 37,
   "outputs": [
    {
     "data": {
      "text/plain": "   Latitude  Longitude    Gender  Senior Citizen   Partner  Dependents  \\\n0  0.387245   0.157284  1.014144        -0.44047  1.037872   -0.551266   \n1 -0.975237   0.702377 -0.986053        -0.44047 -0.963510   -0.551266   \n2  0.125547  -0.160362  1.014144        -0.44047 -0.963510   -0.551266   \n3  1.515714  -1.078321 -0.986053        -0.44047 -0.963510   -0.551266   \n4  0.972021  -0.466533  1.014144        -0.44047 -0.963510   -0.551266   \n\n   Tenure Months  Phone Service  Paperless Billing  Monthly Charges  ...  \\\n0       0.398052       0.330528          -1.200145        -1.306154  ...   \n1       0.438796      -3.025464          -1.200145        -0.678449  ...   \n2      -0.213107       0.330528           0.833233         0.817748  ...   \n3       1.335163       0.330528           0.833233        -1.495462  ...   \n4      -0.131619       0.330528           0.833233         0.213291  ...   \n\n   Tech Support_Yes  Streaming TV_No internet service  Streaming TV_Yes  \\\n0         -0.642345                          1.898186         -0.785098   \n1          1.556796                         -0.526819         -0.785098   \n2          1.556796                         -0.526819         -0.785098   \n3         -0.642345                          1.898186         -0.785098   \n4         -0.642345                         -0.526819          1.273726   \n\n   Streaming Movies_No internet service  Streaming Movies_Yes  \\\n0                              1.898186             -0.795786   \n1                             -0.526819              1.256619   \n2                             -0.526819              1.256619   \n3                              1.898186             -0.795786   \n4                             -0.526819              1.256619   \n\n   Contract_One year  Contract_Two year  \\\n0          -0.518272           1.782989   \n1           1.929487          -0.560856   \n2          -0.518272          -0.560856   \n3          -0.518272           1.782989   \n4           1.929487          -0.560856   \n\n   Payment Method_Credit card (automatic)  Payment Method_Electronic check  \\\n0                               -0.530397                         1.419320   \n1                               -0.530397                         1.419320   \n2                               -0.530397                         1.419320   \n3                                1.885380                        -0.704563   \n4                                1.885380                        -0.704563   \n\n   Payment Method_Mailed check  \n0                    -0.543861  \n1                    -0.543861  \n2                    -0.543861  \n3                    -0.543861  \n4                    -0.543861  \n\n[5 rows x 32 columns]",
      "text/html": "<div>\n<style scoped>\n    .dataframe tbody tr th:only-of-type {\n        vertical-align: middle;\n    }\n\n    .dataframe tbody tr th {\n        vertical-align: top;\n    }\n\n    .dataframe thead th {\n        text-align: right;\n    }\n</style>\n<table border=\"1\" class=\"dataframe\">\n  <thead>\n    <tr style=\"text-align: right;\">\n      <th></th>\n      <th>Latitude</th>\n      <th>Longitude</th>\n      <th>Gender</th>\n      <th>Senior Citizen</th>\n      <th>Partner</th>\n      <th>Dependents</th>\n      <th>Tenure Months</th>\n      <th>Phone Service</th>\n      <th>Paperless Billing</th>\n      <th>Monthly Charges</th>\n      <th>...</th>\n      <th>Tech Support_Yes</th>\n      <th>Streaming TV_No internet service</th>\n      <th>Streaming TV_Yes</th>\n      <th>Streaming Movies_No internet service</th>\n      <th>Streaming Movies_Yes</th>\n      <th>Contract_One year</th>\n      <th>Contract_Two year</th>\n      <th>Payment Method_Credit card (automatic)</th>\n      <th>Payment Method_Electronic check</th>\n      <th>Payment Method_Mailed check</th>\n    </tr>\n  </thead>\n  <tbody>\n    <tr>\n      <th>0</th>\n      <td>0.387245</td>\n      <td>0.157284</td>\n      <td>1.014144</td>\n      <td>-0.44047</td>\n      <td>1.037872</td>\n      <td>-0.551266</td>\n      <td>0.398052</td>\n      <td>0.330528</td>\n      <td>-1.200145</td>\n      <td>-1.306154</td>\n      <td>...</td>\n      <td>-0.642345</td>\n      <td>1.898186</td>\n      <td>-0.785098</td>\n      <td>1.898186</td>\n      <td>-0.795786</td>\n      <td>-0.518272</td>\n      <td>1.782989</td>\n      <td>-0.530397</td>\n      <td>1.419320</td>\n      <td>-0.543861</td>\n    </tr>\n    <tr>\n      <th>1</th>\n      <td>-0.975237</td>\n      <td>0.702377</td>\n      <td>-0.986053</td>\n      <td>-0.44047</td>\n      <td>-0.963510</td>\n      <td>-0.551266</td>\n      <td>0.438796</td>\n      <td>-3.025464</td>\n      <td>-1.200145</td>\n      <td>-0.678449</td>\n      <td>...</td>\n      <td>1.556796</td>\n      <td>-0.526819</td>\n      <td>-0.785098</td>\n      <td>-0.526819</td>\n      <td>1.256619</td>\n      <td>1.929487</td>\n      <td>-0.560856</td>\n      <td>-0.530397</td>\n      <td>1.419320</td>\n      <td>-0.543861</td>\n    </tr>\n    <tr>\n      <th>2</th>\n      <td>0.125547</td>\n      <td>-0.160362</td>\n      <td>1.014144</td>\n      <td>-0.44047</td>\n      <td>-0.963510</td>\n      <td>-0.551266</td>\n      <td>-0.213107</td>\n      <td>0.330528</td>\n      <td>0.833233</td>\n      <td>0.817748</td>\n      <td>...</td>\n      <td>1.556796</td>\n      <td>-0.526819</td>\n      <td>-0.785098</td>\n      <td>-0.526819</td>\n      <td>1.256619</td>\n      <td>-0.518272</td>\n      <td>-0.560856</td>\n      <td>-0.530397</td>\n      <td>1.419320</td>\n      <td>-0.543861</td>\n    </tr>\n    <tr>\n      <th>3</th>\n      <td>1.515714</td>\n      <td>-1.078321</td>\n      <td>-0.986053</td>\n      <td>-0.44047</td>\n      <td>-0.963510</td>\n      <td>-0.551266</td>\n      <td>1.335163</td>\n      <td>0.330528</td>\n      <td>0.833233</td>\n      <td>-1.495462</td>\n      <td>...</td>\n      <td>-0.642345</td>\n      <td>1.898186</td>\n      <td>-0.785098</td>\n      <td>1.898186</td>\n      <td>-0.795786</td>\n      <td>-0.518272</td>\n      <td>1.782989</td>\n      <td>1.885380</td>\n      <td>-0.704563</td>\n      <td>-0.543861</td>\n    </tr>\n    <tr>\n      <th>4</th>\n      <td>0.972021</td>\n      <td>-0.466533</td>\n      <td>1.014144</td>\n      <td>-0.44047</td>\n      <td>-0.963510</td>\n      <td>-0.551266</td>\n      <td>-0.131619</td>\n      <td>0.330528</td>\n      <td>0.833233</td>\n      <td>0.213291</td>\n      <td>...</td>\n      <td>-0.642345</td>\n      <td>-0.526819</td>\n      <td>1.273726</td>\n      <td>-0.526819</td>\n      <td>1.256619</td>\n      <td>1.929487</td>\n      <td>-0.560856</td>\n      <td>1.885380</td>\n      <td>-0.704563</td>\n      <td>-0.543861</td>\n    </tr>\n  </tbody>\n</table>\n<p>5 rows × 32 columns</p>\n</div>"
     },
     "execution_count": 37,
     "metadata": {},
     "output_type": "execute_result"
    }
   ],
   "source": [
    "X_test_scaled.head()"
   ],
   "metadata": {
    "collapsed": false
   }
  },
  {
   "cell_type": "markdown",
   "source": [
    "Fit model on scaled training data"
   ],
   "metadata": {
    "collapsed": false
   }
  },
  {
   "cell_type": "code",
   "execution_count": 38,
   "outputs": [
    {
     "data": {
      "text/plain": "LogisticRegression(max_iter=1000, random_state=10)"
     },
     "execution_count": 38,
     "metadata": {},
     "output_type": "execute_result"
    }
   ],
   "source": [
    "# Fitting for the newly scaled X_train_scaled we just made.\n",
    "lr = LogisticRegression(random_state=10, max_iter=1000)\n",
    "lr.fit(X_train_scaled, y_train)"
   ],
   "metadata": {
    "collapsed": false
   }
  },
  {
   "cell_type": "code",
   "execution_count": 39,
   "outputs": [
    {
     "data": {
      "text/plain": "       Latitude   Longitude  Gender  Senior Citizen  Partner  Dependents  \\\n6021  35.280113 -118.962329       0               0        1           0   \n3404  36.276880 -117.033326       1               0        1           0   \n5474  40.531257 -122.148139       0               0        1           0   \n5515  39.117018 -120.212535       1               0        0           0   \n6328  37.186141 -121.843554       1               0        1           1   \n\n      Tenure Months  Phone Service  Paperless Billing  Monthly Charges  ...  \\\n6021             24              1                  1            93.00  ...   \n3404             40              1                  1            78.85  ...   \n5474              4              1                  0            65.60  ...   \n5515              4              1                  0            55.50  ...   \n6328             64              1                  0            24.90  ...   \n\n      Contract_One year  Contract_Two year  \\\n6021                  0                  0   \n3404                  0                  0   \n5474                  0                  0   \n5515                  0                  0   \n6328                  1                  0   \n\n      Payment Method_Credit card (automatic)  Payment Method_Electronic check  \\\n6021                                       0                                1   \n3404                                       1                                0   \n5474                                       0                                1   \n5515                                       1                                0   \n6328                                       0                                0   \n\n      Payment Method_Mailed check  prob_not_churn  prob_churn  pred  \\\n6021                            0        0.275853    0.724147     1   \n3404                            0        0.702186    0.297814     0   \n5474                            0        0.415106    0.584894     1   \n5515                            0        0.634202    0.365798     0   \n6328                            1        0.998405    0.001595     0   \n\n      s_prob_not_churn  s_prob_churn  \n6021          0.261920      0.738080  \n3404          0.677542      0.322458  \n5474          0.416686      0.583314  \n5515          0.654561      0.345439  \n6328          0.997801      0.002199  \n\n[5 rows x 37 columns]",
      "text/html": "<div>\n<style scoped>\n    .dataframe tbody tr th:only-of-type {\n        vertical-align: middle;\n    }\n\n    .dataframe tbody tr th {\n        vertical-align: top;\n    }\n\n    .dataframe thead th {\n        text-align: right;\n    }\n</style>\n<table border=\"1\" class=\"dataframe\">\n  <thead>\n    <tr style=\"text-align: right;\">\n      <th></th>\n      <th>Latitude</th>\n      <th>Longitude</th>\n      <th>Gender</th>\n      <th>Senior Citizen</th>\n      <th>Partner</th>\n      <th>Dependents</th>\n      <th>Tenure Months</th>\n      <th>Phone Service</th>\n      <th>Paperless Billing</th>\n      <th>Monthly Charges</th>\n      <th>...</th>\n      <th>Contract_One year</th>\n      <th>Contract_Two year</th>\n      <th>Payment Method_Credit card (automatic)</th>\n      <th>Payment Method_Electronic check</th>\n      <th>Payment Method_Mailed check</th>\n      <th>prob_not_churn</th>\n      <th>prob_churn</th>\n      <th>pred</th>\n      <th>s_prob_not_churn</th>\n      <th>s_prob_churn</th>\n    </tr>\n  </thead>\n  <tbody>\n    <tr>\n      <th>6021</th>\n      <td>35.280113</td>\n      <td>-118.962329</td>\n      <td>0</td>\n      <td>0</td>\n      <td>1</td>\n      <td>0</td>\n      <td>24</td>\n      <td>1</td>\n      <td>1</td>\n      <td>93.00</td>\n      <td>...</td>\n      <td>0</td>\n      <td>0</td>\n      <td>0</td>\n      <td>1</td>\n      <td>0</td>\n      <td>0.275853</td>\n      <td>0.724147</td>\n      <td>1</td>\n      <td>0.261920</td>\n      <td>0.738080</td>\n    </tr>\n    <tr>\n      <th>3404</th>\n      <td>36.276880</td>\n      <td>-117.033326</td>\n      <td>1</td>\n      <td>0</td>\n      <td>1</td>\n      <td>0</td>\n      <td>40</td>\n      <td>1</td>\n      <td>1</td>\n      <td>78.85</td>\n      <td>...</td>\n      <td>0</td>\n      <td>0</td>\n      <td>1</td>\n      <td>0</td>\n      <td>0</td>\n      <td>0.702186</td>\n      <td>0.297814</td>\n      <td>0</td>\n      <td>0.677542</td>\n      <td>0.322458</td>\n    </tr>\n    <tr>\n      <th>5474</th>\n      <td>40.531257</td>\n      <td>-122.148139</td>\n      <td>0</td>\n      <td>0</td>\n      <td>1</td>\n      <td>0</td>\n      <td>4</td>\n      <td>1</td>\n      <td>0</td>\n      <td>65.60</td>\n      <td>...</td>\n      <td>0</td>\n      <td>0</td>\n      <td>0</td>\n      <td>1</td>\n      <td>0</td>\n      <td>0.415106</td>\n      <td>0.584894</td>\n      <td>1</td>\n      <td>0.416686</td>\n      <td>0.583314</td>\n    </tr>\n    <tr>\n      <th>5515</th>\n      <td>39.117018</td>\n      <td>-120.212535</td>\n      <td>1</td>\n      <td>0</td>\n      <td>0</td>\n      <td>0</td>\n      <td>4</td>\n      <td>1</td>\n      <td>0</td>\n      <td>55.50</td>\n      <td>...</td>\n      <td>0</td>\n      <td>0</td>\n      <td>1</td>\n      <td>0</td>\n      <td>0</td>\n      <td>0.634202</td>\n      <td>0.365798</td>\n      <td>0</td>\n      <td>0.654561</td>\n      <td>0.345439</td>\n    </tr>\n    <tr>\n      <th>6328</th>\n      <td>37.186141</td>\n      <td>-121.843554</td>\n      <td>1</td>\n      <td>0</td>\n      <td>1</td>\n      <td>1</td>\n      <td>64</td>\n      <td>1</td>\n      <td>0</td>\n      <td>24.90</td>\n      <td>...</td>\n      <td>1</td>\n      <td>0</td>\n      <td>0</td>\n      <td>0</td>\n      <td>1</td>\n      <td>0.998405</td>\n      <td>0.001595</td>\n      <td>0</td>\n      <td>0.997801</td>\n      <td>0.002199</td>\n    </tr>\n  </tbody>\n</table>\n<p>5 rows × 37 columns</p>\n</div>"
     },
     "execution_count": 39,
     "metadata": {},
     "output_type": "execute_result"
    }
   ],
   "source": [
    "# Store the results in two columns\n",
    "X_train[['s_prob_not_churn', 's_prob_churn']] = lr.predict_proba(X_train_scaled)\n",
    "# Check progress\n",
    "X_train.head()"
   ],
   "metadata": {
    "collapsed": false
   }
  },
  {
   "cell_type": "code",
   "execution_count": 40,
   "outputs": [
    {
     "data": {
      "text/plain": "       Latitude   Longitude  Gender  Senior Citizen  Partner  Dependents  \\\n6021  35.280113 -118.962329       0               0        1           0   \n3404  36.276880 -117.033326       1               0        1           0   \n5474  40.531257 -122.148139       0               0        1           0   \n5515  39.117018 -120.212535       1               0        0           0   \n6328  37.186141 -121.843554       1               0        1           1   \n5275  40.342928 -124.063329       0               1        1           0   \n1323  34.037037 -118.705803       1               1        0           0   \n6731  34.066303 -118.435479       0               1        0           0   \n5922  33.429488 -117.609432       1               1        0           0   \n6755  34.044271 -118.185237       1               0        1           1   \n6914  33.992416 -117.807874       1               0        1           0   \n1671  38.349195 -121.902943       1               0        0           0   \n387   38.715498 -121.363411       0               0        1           0   \n3529  33.918043 -117.617809       1               0        0           0   \n1032  34.205504 -118.993111       0               0        1           0   \n4515  34.024405 -117.898722       0               0        1           1   \n3922  37.218705 -121.762429       0               0        1           1   \n1747  39.241240 -120.054765       0               1        0           0   \n6103  36.696759 -119.024051       1               0        1           0   \n6614  39.194539 -120.988066       0               0        1           1   \n\n      Tenure Months  Phone Service  Paperless Billing  Monthly Charges  ...  \\\n6021             24              1                  1            93.00  ...   \n3404             40              1                  1            78.85  ...   \n5474              4              1                  0            65.60  ...   \n5515              4              1                  0            55.50  ...   \n6328             64              1                  0            24.90  ...   \n5275             69              1                  1            95.35  ...   \n1323              2              1                  1            79.60  ...   \n6731             16              1                  1            78.75  ...   \n5922             67              1                  1            92.45  ...   \n6755             72              0                  0            53.65  ...   \n6914             21              1                  1            86.05  ...   \n1671              4              1                  1            79.00  ...   \n387              13              1                  1            74.40  ...   \n3529             15              1                  0            65.60  ...   \n1032             20              1                  1            90.20  ...   \n4515             31              1                  0            59.70  ...   \n3922             72              1                  0            26.10  ...   \n1747             66              1                  0           110.90  ...   \n6103             65              1                  1            59.80  ...   \n6614             17              0                  0            44.45  ...   \n\n      Contract_Two year  Payment Method_Credit card (automatic)  \\\n6021                  0                                       0   \n3404                  0                                       1   \n5474                  0                                       0   \n5515                  0                                       1   \n6328                  0                                       0   \n5275                  0                                       0   \n1323                  0                                       0   \n6731                  0                                       0   \n5922                  1                                       0   \n6755                  1                                       1   \n6914                  0                                       0   \n1671                  0                                       0   \n387                   0                                       1   \n3529                  0                                       1   \n1032                  0                                       0   \n4515                  0                                       0   \n3922                  1                                       0   \n1747                  0                                       1   \n6103                  1                                       1   \n6614                  0                                       1   \n\n      Payment Method_Electronic check  Payment Method_Mailed check  \\\n6021                                1                            0   \n3404                                0                            0   \n5474                                1                            0   \n5515                                0                            0   \n6328                                0                            1   \n5275                                0                            0   \n1323                                1                            0   \n6731                                1                            0   \n5922                                0                            0   \n6755                                0                            0   \n6914                                1                            0   \n1671                                1                            0   \n387                                 0                            0   \n3529                                0                            0   \n1032                                1                            0   \n4515                                0                            0   \n3922                                0                            1   \n1747                                0                            0   \n6103                                0                            0   \n6614                                0                            0   \n\n      prob_not_churn  prob_churn  pred  s_prob_not_churn  s_prob_churn  s_pred  \n6021        0.275853    0.724147     1          0.261920      0.738080       1  \n3404        0.702186    0.297814     0          0.677542      0.322458       0  \n5474        0.415106    0.584894     1          0.416686      0.583314       1  \n5515        0.634202    0.365798     0          0.654561      0.345439       0  \n6328        0.998405    0.001595     0          0.997801      0.002199       0  \n5275        0.698935    0.301065     0          0.673431      0.326569       0  \n1323        0.215543    0.784457     1          0.227623      0.772377       1  \n6731        0.334253    0.665747     1          0.335688      0.664312       1  \n5922        0.958734    0.041266     0          0.968718      0.031282       0  \n6755        0.996476    0.003524     0          0.997364      0.002636       0  \n6914        0.444008    0.555992     1          0.411902      0.588098       1  \n1671        0.287075    0.712925     1          0.284896      0.715104       1  \n387         0.363860    0.636140     1          0.371366      0.628634       1  \n3529        0.934468    0.065532     0          0.935866      0.064134       0  \n1032        0.297610    0.702390     1          0.285159      0.714841       1  \n4515        0.924897    0.075103     0          0.920101      0.079899       0  \n3922        0.999298    0.000702     0          0.999310      0.000690       0  \n1747        0.875097    0.124903     0          0.883663      0.116337       0  \n6103        0.979561    0.020439     0          0.984811      0.015189       0  \n6614        0.941647    0.058353     0          0.952979      0.047021       0  \n\n[20 rows x 38 columns]",
      "text/html": "<div>\n<style scoped>\n    .dataframe tbody tr th:only-of-type {\n        vertical-align: middle;\n    }\n\n    .dataframe tbody tr th {\n        vertical-align: top;\n    }\n\n    .dataframe thead th {\n        text-align: right;\n    }\n</style>\n<table border=\"1\" class=\"dataframe\">\n  <thead>\n    <tr style=\"text-align: right;\">\n      <th></th>\n      <th>Latitude</th>\n      <th>Longitude</th>\n      <th>Gender</th>\n      <th>Senior Citizen</th>\n      <th>Partner</th>\n      <th>Dependents</th>\n      <th>Tenure Months</th>\n      <th>Phone Service</th>\n      <th>Paperless Billing</th>\n      <th>Monthly Charges</th>\n      <th>...</th>\n      <th>Contract_Two year</th>\n      <th>Payment Method_Credit card (automatic)</th>\n      <th>Payment Method_Electronic check</th>\n      <th>Payment Method_Mailed check</th>\n      <th>prob_not_churn</th>\n      <th>prob_churn</th>\n      <th>pred</th>\n      <th>s_prob_not_churn</th>\n      <th>s_prob_churn</th>\n      <th>s_pred</th>\n    </tr>\n  </thead>\n  <tbody>\n    <tr>\n      <th>6021</th>\n      <td>35.280113</td>\n      <td>-118.962329</td>\n      <td>0</td>\n      <td>0</td>\n      <td>1</td>\n      <td>0</td>\n      <td>24</td>\n      <td>1</td>\n      <td>1</td>\n      <td>93.00</td>\n      <td>...</td>\n      <td>0</td>\n      <td>0</td>\n      <td>1</td>\n      <td>0</td>\n      <td>0.275853</td>\n      <td>0.724147</td>\n      <td>1</td>\n      <td>0.261920</td>\n      <td>0.738080</td>\n      <td>1</td>\n    </tr>\n    <tr>\n      <th>3404</th>\n      <td>36.276880</td>\n      <td>-117.033326</td>\n      <td>1</td>\n      <td>0</td>\n      <td>1</td>\n      <td>0</td>\n      <td>40</td>\n      <td>1</td>\n      <td>1</td>\n      <td>78.85</td>\n      <td>...</td>\n      <td>0</td>\n      <td>1</td>\n      <td>0</td>\n      <td>0</td>\n      <td>0.702186</td>\n      <td>0.297814</td>\n      <td>0</td>\n      <td>0.677542</td>\n      <td>0.322458</td>\n      <td>0</td>\n    </tr>\n    <tr>\n      <th>5474</th>\n      <td>40.531257</td>\n      <td>-122.148139</td>\n      <td>0</td>\n      <td>0</td>\n      <td>1</td>\n      <td>0</td>\n      <td>4</td>\n      <td>1</td>\n      <td>0</td>\n      <td>65.60</td>\n      <td>...</td>\n      <td>0</td>\n      <td>0</td>\n      <td>1</td>\n      <td>0</td>\n      <td>0.415106</td>\n      <td>0.584894</td>\n      <td>1</td>\n      <td>0.416686</td>\n      <td>0.583314</td>\n      <td>1</td>\n    </tr>\n    <tr>\n      <th>5515</th>\n      <td>39.117018</td>\n      <td>-120.212535</td>\n      <td>1</td>\n      <td>0</td>\n      <td>0</td>\n      <td>0</td>\n      <td>4</td>\n      <td>1</td>\n      <td>0</td>\n      <td>55.50</td>\n      <td>...</td>\n      <td>0</td>\n      <td>1</td>\n      <td>0</td>\n      <td>0</td>\n      <td>0.634202</td>\n      <td>0.365798</td>\n      <td>0</td>\n      <td>0.654561</td>\n      <td>0.345439</td>\n      <td>0</td>\n    </tr>\n    <tr>\n      <th>6328</th>\n      <td>37.186141</td>\n      <td>-121.843554</td>\n      <td>1</td>\n      <td>0</td>\n      <td>1</td>\n      <td>1</td>\n      <td>64</td>\n      <td>1</td>\n      <td>0</td>\n      <td>24.90</td>\n      <td>...</td>\n      <td>0</td>\n      <td>0</td>\n      <td>0</td>\n      <td>1</td>\n      <td>0.998405</td>\n      <td>0.001595</td>\n      <td>0</td>\n      <td>0.997801</td>\n      <td>0.002199</td>\n      <td>0</td>\n    </tr>\n    <tr>\n      <th>5275</th>\n      <td>40.342928</td>\n      <td>-124.063329</td>\n      <td>0</td>\n      <td>1</td>\n      <td>1</td>\n      <td>0</td>\n      <td>69</td>\n      <td>1</td>\n      <td>1</td>\n      <td>95.35</td>\n      <td>...</td>\n      <td>0</td>\n      <td>0</td>\n      <td>0</td>\n      <td>0</td>\n      <td>0.698935</td>\n      <td>0.301065</td>\n      <td>0</td>\n      <td>0.673431</td>\n      <td>0.326569</td>\n      <td>0</td>\n    </tr>\n    <tr>\n      <th>1323</th>\n      <td>34.037037</td>\n      <td>-118.705803</td>\n      <td>1</td>\n      <td>1</td>\n      <td>0</td>\n      <td>0</td>\n      <td>2</td>\n      <td>1</td>\n      <td>1</td>\n      <td>79.60</td>\n      <td>...</td>\n      <td>0</td>\n      <td>0</td>\n      <td>1</td>\n      <td>0</td>\n      <td>0.215543</td>\n      <td>0.784457</td>\n      <td>1</td>\n      <td>0.227623</td>\n      <td>0.772377</td>\n      <td>1</td>\n    </tr>\n    <tr>\n      <th>6731</th>\n      <td>34.066303</td>\n      <td>-118.435479</td>\n      <td>0</td>\n      <td>1</td>\n      <td>0</td>\n      <td>0</td>\n      <td>16</td>\n      <td>1</td>\n      <td>1</td>\n      <td>78.75</td>\n      <td>...</td>\n      <td>0</td>\n      <td>0</td>\n      <td>1</td>\n      <td>0</td>\n      <td>0.334253</td>\n      <td>0.665747</td>\n      <td>1</td>\n      <td>0.335688</td>\n      <td>0.664312</td>\n      <td>1</td>\n    </tr>\n    <tr>\n      <th>5922</th>\n      <td>33.429488</td>\n      <td>-117.609432</td>\n      <td>1</td>\n      <td>1</td>\n      <td>0</td>\n      <td>0</td>\n      <td>67</td>\n      <td>1</td>\n      <td>1</td>\n      <td>92.45</td>\n      <td>...</td>\n      <td>1</td>\n      <td>0</td>\n      <td>0</td>\n      <td>0</td>\n      <td>0.958734</td>\n      <td>0.041266</td>\n      <td>0</td>\n      <td>0.968718</td>\n      <td>0.031282</td>\n      <td>0</td>\n    </tr>\n    <tr>\n      <th>6755</th>\n      <td>34.044271</td>\n      <td>-118.185237</td>\n      <td>1</td>\n      <td>0</td>\n      <td>1</td>\n      <td>1</td>\n      <td>72</td>\n      <td>0</td>\n      <td>0</td>\n      <td>53.65</td>\n      <td>...</td>\n      <td>1</td>\n      <td>1</td>\n      <td>0</td>\n      <td>0</td>\n      <td>0.996476</td>\n      <td>0.003524</td>\n      <td>0</td>\n      <td>0.997364</td>\n      <td>0.002636</td>\n      <td>0</td>\n    </tr>\n    <tr>\n      <th>6914</th>\n      <td>33.992416</td>\n      <td>-117.807874</td>\n      <td>1</td>\n      <td>0</td>\n      <td>1</td>\n      <td>0</td>\n      <td>21</td>\n      <td>1</td>\n      <td>1</td>\n      <td>86.05</td>\n      <td>...</td>\n      <td>0</td>\n      <td>0</td>\n      <td>1</td>\n      <td>0</td>\n      <td>0.444008</td>\n      <td>0.555992</td>\n      <td>1</td>\n      <td>0.411902</td>\n      <td>0.588098</td>\n      <td>1</td>\n    </tr>\n    <tr>\n      <th>1671</th>\n      <td>38.349195</td>\n      <td>-121.902943</td>\n      <td>1</td>\n      <td>0</td>\n      <td>0</td>\n      <td>0</td>\n      <td>4</td>\n      <td>1</td>\n      <td>1</td>\n      <td>79.00</td>\n      <td>...</td>\n      <td>0</td>\n      <td>0</td>\n      <td>1</td>\n      <td>0</td>\n      <td>0.287075</td>\n      <td>0.712925</td>\n      <td>1</td>\n      <td>0.284896</td>\n      <td>0.715104</td>\n      <td>1</td>\n    </tr>\n    <tr>\n      <th>387</th>\n      <td>38.715498</td>\n      <td>-121.363411</td>\n      <td>0</td>\n      <td>0</td>\n      <td>1</td>\n      <td>0</td>\n      <td>13</td>\n      <td>1</td>\n      <td>1</td>\n      <td>74.40</td>\n      <td>...</td>\n      <td>0</td>\n      <td>1</td>\n      <td>0</td>\n      <td>0</td>\n      <td>0.363860</td>\n      <td>0.636140</td>\n      <td>1</td>\n      <td>0.371366</td>\n      <td>0.628634</td>\n      <td>1</td>\n    </tr>\n    <tr>\n      <th>3529</th>\n      <td>33.918043</td>\n      <td>-117.617809</td>\n      <td>1</td>\n      <td>0</td>\n      <td>0</td>\n      <td>0</td>\n      <td>15</td>\n      <td>1</td>\n      <td>0</td>\n      <td>65.60</td>\n      <td>...</td>\n      <td>0</td>\n      <td>1</td>\n      <td>0</td>\n      <td>0</td>\n      <td>0.934468</td>\n      <td>0.065532</td>\n      <td>0</td>\n      <td>0.935866</td>\n      <td>0.064134</td>\n      <td>0</td>\n    </tr>\n    <tr>\n      <th>1032</th>\n      <td>34.205504</td>\n      <td>-118.993111</td>\n      <td>0</td>\n      <td>0</td>\n      <td>1</td>\n      <td>0</td>\n      <td>20</td>\n      <td>1</td>\n      <td>1</td>\n      <td>90.20</td>\n      <td>...</td>\n      <td>0</td>\n      <td>0</td>\n      <td>1</td>\n      <td>0</td>\n      <td>0.297610</td>\n      <td>0.702390</td>\n      <td>1</td>\n      <td>0.285159</td>\n      <td>0.714841</td>\n      <td>1</td>\n    </tr>\n    <tr>\n      <th>4515</th>\n      <td>34.024405</td>\n      <td>-117.898722</td>\n      <td>0</td>\n      <td>0</td>\n      <td>1</td>\n      <td>1</td>\n      <td>31</td>\n      <td>1</td>\n      <td>0</td>\n      <td>59.70</td>\n      <td>...</td>\n      <td>0</td>\n      <td>0</td>\n      <td>0</td>\n      <td>0</td>\n      <td>0.924897</td>\n      <td>0.075103</td>\n      <td>0</td>\n      <td>0.920101</td>\n      <td>0.079899</td>\n      <td>0</td>\n    </tr>\n    <tr>\n      <th>3922</th>\n      <td>37.218705</td>\n      <td>-121.762429</td>\n      <td>0</td>\n      <td>0</td>\n      <td>1</td>\n      <td>1</td>\n      <td>72</td>\n      <td>1</td>\n      <td>0</td>\n      <td>26.10</td>\n      <td>...</td>\n      <td>1</td>\n      <td>0</td>\n      <td>0</td>\n      <td>1</td>\n      <td>0.999298</td>\n      <td>0.000702</td>\n      <td>0</td>\n      <td>0.999310</td>\n      <td>0.000690</td>\n      <td>0</td>\n    </tr>\n    <tr>\n      <th>1747</th>\n      <td>39.241240</td>\n      <td>-120.054765</td>\n      <td>0</td>\n      <td>1</td>\n      <td>0</td>\n      <td>0</td>\n      <td>66</td>\n      <td>1</td>\n      <td>0</td>\n      <td>110.90</td>\n      <td>...</td>\n      <td>0</td>\n      <td>1</td>\n      <td>0</td>\n      <td>0</td>\n      <td>0.875097</td>\n      <td>0.124903</td>\n      <td>0</td>\n      <td>0.883663</td>\n      <td>0.116337</td>\n      <td>0</td>\n    </tr>\n    <tr>\n      <th>6103</th>\n      <td>36.696759</td>\n      <td>-119.024051</td>\n      <td>1</td>\n      <td>0</td>\n      <td>1</td>\n      <td>0</td>\n      <td>65</td>\n      <td>1</td>\n      <td>1</td>\n      <td>59.80</td>\n      <td>...</td>\n      <td>1</td>\n      <td>1</td>\n      <td>0</td>\n      <td>0</td>\n      <td>0.979561</td>\n      <td>0.020439</td>\n      <td>0</td>\n      <td>0.984811</td>\n      <td>0.015189</td>\n      <td>0</td>\n    </tr>\n    <tr>\n      <th>6614</th>\n      <td>39.194539</td>\n      <td>-120.988066</td>\n      <td>0</td>\n      <td>0</td>\n      <td>1</td>\n      <td>1</td>\n      <td>17</td>\n      <td>0</td>\n      <td>0</td>\n      <td>44.45</td>\n      <td>...</td>\n      <td>0</td>\n      <td>1</td>\n      <td>0</td>\n      <td>0</td>\n      <td>0.941647</td>\n      <td>0.058353</td>\n      <td>0</td>\n      <td>0.952979</td>\n      <td>0.047021</td>\n      <td>0</td>\n    </tr>\n  </tbody>\n</table>\n<p>20 rows × 38 columns</p>\n</div>"
     },
     "execution_count": 40,
     "metadata": {},
     "output_type": "execute_result"
    }
   ],
   "source": [
    "# Get a prediction by setting a cutoff point\n",
    "cutoff = .55\n",
    "X_train['s_pred'] = np.where(X_train['s_prob_churn'] > cutoff, 1, 0)\n",
    "X_train.head(20)"
   ],
   "metadata": {
    "collapsed": false
   }
  },
  {
   "cell_type": "code",
   "execution_count": 41,
   "outputs": [],
   "source": [
    "# Predict on test\n",
    "X_test[['s_prob_not_churn', 's_prob_churn']] = lr.predict_proba(X_test_scaled)"
   ],
   "metadata": {
    "collapsed": false
   }
  },
  {
   "cell_type": "code",
   "execution_count": 42,
   "outputs": [
    {
     "data": {
      "text/plain": "       Latitude   Longitude  Gender  Senior Citizen  Partner  Dependents  \\\n2476  37.244307 -119.470256       1               0        1           0   \n6773  33.890853 -118.297967       0               0        0           0   \n6116  36.600193 -120.153393       1               0        0           0   \n3047  40.021787 -122.127576       0               0        0           0   \n4092  38.683605 -120.811852       1               0        0           0   \n3218  34.122671 -118.112911       0               0        0           1   \n3768  37.776718 -122.495781       1               0        1           0   \n3463  33.739412 -117.173334       1               0        0           0   \n3414  34.256500 -117.193350       1               0        0           0   \n1192  37.609095 -121.263381       1               0        0           0   \n2168  32.730583 -115.501083       1               0        0           0   \n1287  41.280341 -120.150381       1               0        0           0   \n2574  38.050558 -121.646924       1               1        1           1   \n6569  38.584505 -121.491956       1               0        1           1   \n2510  36.596271 -121.442274       0               0        1           0   \n3252  34.152875 -118.486056       0               0        0           0   \n1971  33.847755 -118.112532       1               0        0           0   \n132   33.581045 -117.147190       0               0        0           0   \n5186  38.109125 -120.078597       0               1        1           0   \n1945  33.936827 -118.359824       0               0        0           0   \n\n      Tenure Months  Phone Service  Paperless Billing  Monthly Charges  ...  \\\n2476             42              1                  0            25.25  ...   \n6773             43              0                  0            44.15  ...   \n6116             27              1                  1            89.20  ...   \n3047             65              1                  1            19.55  ...   \n4092             29              1                  1            71.00  ...   \n3218             32              1                  0            20.50  ...   \n3768             71              1                  0            25.00  ...   \n3463             19              1                  0            20.25  ...   \n3414             33              1                  0            59.40  ...   \n1192              3              1                  0            85.80  ...   \n2168             11              1                  0            20.05  ...   \n1287              1              0                  1            35.75  ...   \n2574             32              1                  1            91.35  ...   \n6569             54              1                  1            59.80  ...   \n2510             72              0                  1            64.80  ...   \n3252             26              0                  1            44.65  ...   \n1971             43              1                  1            25.70  ...   \n132              40              1                  0           104.80  ...   \n5186             72              1                  0            77.35  ...   \n1945              1              1                  0            20.20  ...   \n\n      Contract_Two year  Payment Method_Credit card (automatic)  \\\n2476                  1                                       0   \n6773                  0                                       0   \n6116                  0                                       0   \n3047                  1                                       1   \n4092                  0                                       1   \n3218                  1                                       0   \n3768                  1                                       0   \n3463                  0                                       1   \n3414                  0                                       0   \n1192                  0                                       0   \n2168                  0                                       1   \n1287                  0                                       0   \n2574                  0                                       0   \n6569                  1                                       0   \n2510                  1                                       1   \n3252                  0                                       0   \n1971                  1                                       1   \n132                   0                                       0   \n5186                  1                                       1   \n1945                  0                                       0   \n\n      Payment Method_Electronic check  Payment Method_Mailed check  \\\n2476                                1                            0   \n6773                                1                            0   \n6116                                1                            0   \n3047                                0                            0   \n4092                                0                            0   \n3218                                0                            1   \n3768                                0                            0   \n3463                                0                            0   \n3414                                1                            0   \n1192                                1                            0   \n2168                                0                            0   \n1287                                1                            0   \n2574                                0                            1   \n6569                                0                            0   \n2510                                0                            0   \n3252                                0                            0   \n1971                                0                            0   \n132                                 0                            0   \n5186                                0                            0   \n1945                                0                            1   \n\n      prob_not_churn  prob_churn  pred  s_prob_not_churn  s_prob_churn  s_pred  \n2476        0.978067    0.021933     0          0.980746      0.019254       0  \n6773        0.917507    0.082493     0          0.916425      0.083575       0  \n6116        0.559307    0.440693     0          0.517452      0.482548       0  \n3047        0.997083    0.002917     0          0.997205      0.002795       0  \n4092        0.763053    0.236947     0          0.797535      0.202465       0  \n3218        0.995974    0.004026     0          0.996960      0.003040       0  \n3768        0.996797    0.003203     0          0.996667      0.003333       0  \n3463        0.955256    0.044744     0          0.952896      0.047104       0  \n3414        0.940812    0.059188     0          0.934118      0.065882       0  \n1192        0.448282    0.551718     1          0.421009      0.578991       1  \n2168        0.928938    0.071062     0          0.929918      0.070082       0  \n1287        0.264479    0.735521     1          0.308697      0.691303       1  \n2574        0.727697    0.272303     0          0.745394      0.254606       0  \n6569        0.986150    0.013850     0          0.990894      0.009106       0  \n2510        0.980344    0.019656     0          0.984544      0.015456       0  \n3252        0.745443    0.254557     0          0.738027      0.261973       0  \n1971        0.983652    0.016348     0          0.986574      0.013426       0  \n132         0.691290    0.308710     0          0.658481      0.341519       0  \n5186        0.981177    0.018823     0          0.986560      0.013440       0  \n1945        0.795410    0.204590     0          0.775522      0.224478       0  \n\n[20 rows x 38 columns]",
      "text/html": "<div>\n<style scoped>\n    .dataframe tbody tr th:only-of-type {\n        vertical-align: middle;\n    }\n\n    .dataframe tbody tr th {\n        vertical-align: top;\n    }\n\n    .dataframe thead th {\n        text-align: right;\n    }\n</style>\n<table border=\"1\" class=\"dataframe\">\n  <thead>\n    <tr style=\"text-align: right;\">\n      <th></th>\n      <th>Latitude</th>\n      <th>Longitude</th>\n      <th>Gender</th>\n      <th>Senior Citizen</th>\n      <th>Partner</th>\n      <th>Dependents</th>\n      <th>Tenure Months</th>\n      <th>Phone Service</th>\n      <th>Paperless Billing</th>\n      <th>Monthly Charges</th>\n      <th>...</th>\n      <th>Contract_Two year</th>\n      <th>Payment Method_Credit card (automatic)</th>\n      <th>Payment Method_Electronic check</th>\n      <th>Payment Method_Mailed check</th>\n      <th>prob_not_churn</th>\n      <th>prob_churn</th>\n      <th>pred</th>\n      <th>s_prob_not_churn</th>\n      <th>s_prob_churn</th>\n      <th>s_pred</th>\n    </tr>\n  </thead>\n  <tbody>\n    <tr>\n      <th>2476</th>\n      <td>37.244307</td>\n      <td>-119.470256</td>\n      <td>1</td>\n      <td>0</td>\n      <td>1</td>\n      <td>0</td>\n      <td>42</td>\n      <td>1</td>\n      <td>0</td>\n      <td>25.25</td>\n      <td>...</td>\n      <td>1</td>\n      <td>0</td>\n      <td>1</td>\n      <td>0</td>\n      <td>0.978067</td>\n      <td>0.021933</td>\n      <td>0</td>\n      <td>0.980746</td>\n      <td>0.019254</td>\n      <td>0</td>\n    </tr>\n    <tr>\n      <th>6773</th>\n      <td>33.890853</td>\n      <td>-118.297967</td>\n      <td>0</td>\n      <td>0</td>\n      <td>0</td>\n      <td>0</td>\n      <td>43</td>\n      <td>0</td>\n      <td>0</td>\n      <td>44.15</td>\n      <td>...</td>\n      <td>0</td>\n      <td>0</td>\n      <td>1</td>\n      <td>0</td>\n      <td>0.917507</td>\n      <td>0.082493</td>\n      <td>0</td>\n      <td>0.916425</td>\n      <td>0.083575</td>\n      <td>0</td>\n    </tr>\n    <tr>\n      <th>6116</th>\n      <td>36.600193</td>\n      <td>-120.153393</td>\n      <td>1</td>\n      <td>0</td>\n      <td>0</td>\n      <td>0</td>\n      <td>27</td>\n      <td>1</td>\n      <td>1</td>\n      <td>89.20</td>\n      <td>...</td>\n      <td>0</td>\n      <td>0</td>\n      <td>1</td>\n      <td>0</td>\n      <td>0.559307</td>\n      <td>0.440693</td>\n      <td>0</td>\n      <td>0.517452</td>\n      <td>0.482548</td>\n      <td>0</td>\n    </tr>\n    <tr>\n      <th>3047</th>\n      <td>40.021787</td>\n      <td>-122.127576</td>\n      <td>0</td>\n      <td>0</td>\n      <td>0</td>\n      <td>0</td>\n      <td>65</td>\n      <td>1</td>\n      <td>1</td>\n      <td>19.55</td>\n      <td>...</td>\n      <td>1</td>\n      <td>1</td>\n      <td>0</td>\n      <td>0</td>\n      <td>0.997083</td>\n      <td>0.002917</td>\n      <td>0</td>\n      <td>0.997205</td>\n      <td>0.002795</td>\n      <td>0</td>\n    </tr>\n    <tr>\n      <th>4092</th>\n      <td>38.683605</td>\n      <td>-120.811852</td>\n      <td>1</td>\n      <td>0</td>\n      <td>0</td>\n      <td>0</td>\n      <td>29</td>\n      <td>1</td>\n      <td>1</td>\n      <td>71.00</td>\n      <td>...</td>\n      <td>0</td>\n      <td>1</td>\n      <td>0</td>\n      <td>0</td>\n      <td>0.763053</td>\n      <td>0.236947</td>\n      <td>0</td>\n      <td>0.797535</td>\n      <td>0.202465</td>\n      <td>0</td>\n    </tr>\n    <tr>\n      <th>3218</th>\n      <td>34.122671</td>\n      <td>-118.112911</td>\n      <td>0</td>\n      <td>0</td>\n      <td>0</td>\n      <td>1</td>\n      <td>32</td>\n      <td>1</td>\n      <td>0</td>\n      <td>20.50</td>\n      <td>...</td>\n      <td>1</td>\n      <td>0</td>\n      <td>0</td>\n      <td>1</td>\n      <td>0.995974</td>\n      <td>0.004026</td>\n      <td>0</td>\n      <td>0.996960</td>\n      <td>0.003040</td>\n      <td>0</td>\n    </tr>\n    <tr>\n      <th>3768</th>\n      <td>37.776718</td>\n      <td>-122.495781</td>\n      <td>1</td>\n      <td>0</td>\n      <td>1</td>\n      <td>0</td>\n      <td>71</td>\n      <td>1</td>\n      <td>0</td>\n      <td>25.00</td>\n      <td>...</td>\n      <td>1</td>\n      <td>0</td>\n      <td>0</td>\n      <td>0</td>\n      <td>0.996797</td>\n      <td>0.003203</td>\n      <td>0</td>\n      <td>0.996667</td>\n      <td>0.003333</td>\n      <td>0</td>\n    </tr>\n    <tr>\n      <th>3463</th>\n      <td>33.739412</td>\n      <td>-117.173334</td>\n      <td>1</td>\n      <td>0</td>\n      <td>0</td>\n      <td>0</td>\n      <td>19</td>\n      <td>1</td>\n      <td>0</td>\n      <td>20.25</td>\n      <td>...</td>\n      <td>0</td>\n      <td>1</td>\n      <td>0</td>\n      <td>0</td>\n      <td>0.955256</td>\n      <td>0.044744</td>\n      <td>0</td>\n      <td>0.952896</td>\n      <td>0.047104</td>\n      <td>0</td>\n    </tr>\n    <tr>\n      <th>3414</th>\n      <td>34.256500</td>\n      <td>-117.193350</td>\n      <td>1</td>\n      <td>0</td>\n      <td>0</td>\n      <td>0</td>\n      <td>33</td>\n      <td>1</td>\n      <td>0</td>\n      <td>59.40</td>\n      <td>...</td>\n      <td>0</td>\n      <td>0</td>\n      <td>1</td>\n      <td>0</td>\n      <td>0.940812</td>\n      <td>0.059188</td>\n      <td>0</td>\n      <td>0.934118</td>\n      <td>0.065882</td>\n      <td>0</td>\n    </tr>\n    <tr>\n      <th>1192</th>\n      <td>37.609095</td>\n      <td>-121.263381</td>\n      <td>1</td>\n      <td>0</td>\n      <td>0</td>\n      <td>0</td>\n      <td>3</td>\n      <td>1</td>\n      <td>0</td>\n      <td>85.80</td>\n      <td>...</td>\n      <td>0</td>\n      <td>0</td>\n      <td>1</td>\n      <td>0</td>\n      <td>0.448282</td>\n      <td>0.551718</td>\n      <td>1</td>\n      <td>0.421009</td>\n      <td>0.578991</td>\n      <td>1</td>\n    </tr>\n    <tr>\n      <th>2168</th>\n      <td>32.730583</td>\n      <td>-115.501083</td>\n      <td>1</td>\n      <td>0</td>\n      <td>0</td>\n      <td>0</td>\n      <td>11</td>\n      <td>1</td>\n      <td>0</td>\n      <td>20.05</td>\n      <td>...</td>\n      <td>0</td>\n      <td>1</td>\n      <td>0</td>\n      <td>0</td>\n      <td>0.928938</td>\n      <td>0.071062</td>\n      <td>0</td>\n      <td>0.929918</td>\n      <td>0.070082</td>\n      <td>0</td>\n    </tr>\n    <tr>\n      <th>1287</th>\n      <td>41.280341</td>\n      <td>-120.150381</td>\n      <td>1</td>\n      <td>0</td>\n      <td>0</td>\n      <td>0</td>\n      <td>1</td>\n      <td>0</td>\n      <td>1</td>\n      <td>35.75</td>\n      <td>...</td>\n      <td>0</td>\n      <td>0</td>\n      <td>1</td>\n      <td>0</td>\n      <td>0.264479</td>\n      <td>0.735521</td>\n      <td>1</td>\n      <td>0.308697</td>\n      <td>0.691303</td>\n      <td>1</td>\n    </tr>\n    <tr>\n      <th>2574</th>\n      <td>38.050558</td>\n      <td>-121.646924</td>\n      <td>1</td>\n      <td>1</td>\n      <td>1</td>\n      <td>1</td>\n      <td>32</td>\n      <td>1</td>\n      <td>1</td>\n      <td>91.35</td>\n      <td>...</td>\n      <td>0</td>\n      <td>0</td>\n      <td>0</td>\n      <td>1</td>\n      <td>0.727697</td>\n      <td>0.272303</td>\n      <td>0</td>\n      <td>0.745394</td>\n      <td>0.254606</td>\n      <td>0</td>\n    </tr>\n    <tr>\n      <th>6569</th>\n      <td>38.584505</td>\n      <td>-121.491956</td>\n      <td>1</td>\n      <td>0</td>\n      <td>1</td>\n      <td>1</td>\n      <td>54</td>\n      <td>1</td>\n      <td>1</td>\n      <td>59.80</td>\n      <td>...</td>\n      <td>1</td>\n      <td>0</td>\n      <td>0</td>\n      <td>0</td>\n      <td>0.986150</td>\n      <td>0.013850</td>\n      <td>0</td>\n      <td>0.990894</td>\n      <td>0.009106</td>\n      <td>0</td>\n    </tr>\n    <tr>\n      <th>2510</th>\n      <td>36.596271</td>\n      <td>-121.442274</td>\n      <td>0</td>\n      <td>0</td>\n      <td>1</td>\n      <td>0</td>\n      <td>72</td>\n      <td>0</td>\n      <td>1</td>\n      <td>64.80</td>\n      <td>...</td>\n      <td>1</td>\n      <td>1</td>\n      <td>0</td>\n      <td>0</td>\n      <td>0.980344</td>\n      <td>0.019656</td>\n      <td>0</td>\n      <td>0.984544</td>\n      <td>0.015456</td>\n      <td>0</td>\n    </tr>\n    <tr>\n      <th>3252</th>\n      <td>34.152875</td>\n      <td>-118.486056</td>\n      <td>0</td>\n      <td>0</td>\n      <td>0</td>\n      <td>0</td>\n      <td>26</td>\n      <td>0</td>\n      <td>1</td>\n      <td>44.65</td>\n      <td>...</td>\n      <td>0</td>\n      <td>0</td>\n      <td>0</td>\n      <td>0</td>\n      <td>0.745443</td>\n      <td>0.254557</td>\n      <td>0</td>\n      <td>0.738027</td>\n      <td>0.261973</td>\n      <td>0</td>\n    </tr>\n    <tr>\n      <th>1971</th>\n      <td>33.847755</td>\n      <td>-118.112532</td>\n      <td>1</td>\n      <td>0</td>\n      <td>0</td>\n      <td>0</td>\n      <td>43</td>\n      <td>1</td>\n      <td>1</td>\n      <td>25.70</td>\n      <td>...</td>\n      <td>1</td>\n      <td>1</td>\n      <td>0</td>\n      <td>0</td>\n      <td>0.983652</td>\n      <td>0.016348</td>\n      <td>0</td>\n      <td>0.986574</td>\n      <td>0.013426</td>\n      <td>0</td>\n    </tr>\n    <tr>\n      <th>132</th>\n      <td>33.581045</td>\n      <td>-117.147190</td>\n      <td>0</td>\n      <td>0</td>\n      <td>0</td>\n      <td>0</td>\n      <td>40</td>\n      <td>1</td>\n      <td>0</td>\n      <td>104.80</td>\n      <td>...</td>\n      <td>0</td>\n      <td>0</td>\n      <td>0</td>\n      <td>0</td>\n      <td>0.691290</td>\n      <td>0.308710</td>\n      <td>0</td>\n      <td>0.658481</td>\n      <td>0.341519</td>\n      <td>0</td>\n    </tr>\n    <tr>\n      <th>5186</th>\n      <td>38.109125</td>\n      <td>-120.078597</td>\n      <td>0</td>\n      <td>1</td>\n      <td>1</td>\n      <td>0</td>\n      <td>72</td>\n      <td>1</td>\n      <td>0</td>\n      <td>77.35</td>\n      <td>...</td>\n      <td>1</td>\n      <td>1</td>\n      <td>0</td>\n      <td>0</td>\n      <td>0.981177</td>\n      <td>0.018823</td>\n      <td>0</td>\n      <td>0.986560</td>\n      <td>0.013440</td>\n      <td>0</td>\n    </tr>\n    <tr>\n      <th>1945</th>\n      <td>33.936827</td>\n      <td>-118.359824</td>\n      <td>0</td>\n      <td>0</td>\n      <td>0</td>\n      <td>0</td>\n      <td>1</td>\n      <td>1</td>\n      <td>0</td>\n      <td>20.20</td>\n      <td>...</td>\n      <td>0</td>\n      <td>0</td>\n      <td>0</td>\n      <td>1</td>\n      <td>0.795410</td>\n      <td>0.204590</td>\n      <td>0</td>\n      <td>0.775522</td>\n      <td>0.224478</td>\n      <td>0</td>\n    </tr>\n  </tbody>\n</table>\n<p>20 rows × 38 columns</p>\n</div>"
     },
     "execution_count": 42,
     "metadata": {},
     "output_type": "execute_result"
    }
   ],
   "source": [
    "cutoff = .55\n",
    "X_test['s_pred'] = np.where(X_test['s_prob_churn'] > cutoff, 1, 0)\n",
    "X_test.head(20)"
   ],
   "metadata": {
    "collapsed": false
   }
  },
  {
   "cell_type": "markdown",
   "source": [
    "# Evaluate scaled model"
   ],
   "metadata": {
    "collapsed": false
   }
  },
  {
   "cell_type": "code",
   "execution_count": 43,
   "outputs": [
    {
     "name": "stdout",
     "output_type": "stream",
     "text": [
      "The confusion matrix for your predictions is:\n",
      "[[3829  322]\n",
      " [ 726  748]] \n",
      "\n",
      "The accuracy of your model is: 0.8136888888888889\n",
      "The recall of your model is: 0.5074626865671642\n",
      "The precision of your model is: 0.6990654205607477\n",
      "The F1-score of your model is: 0.5880503144654088\n"
     ]
    }
   ],
   "source": [
    "# Evaluate on train\n",
    "get_results(y_train, X_train['s_pred'])"
   ],
   "metadata": {
    "collapsed": false
   }
  },
  {
   "cell_type": "code",
   "execution_count": 44,
   "outputs": [
    {
     "name": "stdout",
     "output_type": "stream",
     "text": [
      "The confusion matrix for your predictions is:\n",
      "[[935  77]\n",
      " [193 202]] \n",
      "\n",
      "The accuracy of your model is: 0.8081023454157783\n",
      "The recall of your model is: 0.5113924050632911\n",
      "The precision of your model is: 0.7240143369175627\n",
      "The F1-score of your model is: 0.5994065281899109\n"
     ]
    }
   ],
   "source": [
    "# Evaluate on test\n",
    "get_results(y_test, X_test['s_pred'])"
   ],
   "metadata": {
    "collapsed": false
   }
  },
  {
   "cell_type": "code",
   "execution_count": 45,
   "outputs": [
    {
     "data": {
      "text/plain": "       Latitude   Longitude  Gender  Senior Citizen  Partner  Dependents  \\\n6021  35.280113 -118.962329       0               0        1           0   \n3404  36.276880 -117.033326       1               0        1           0   \n5474  40.531257 -122.148139       0               0        1           0   \n5515  39.117018 -120.212535       1               0        0           0   \n6328  37.186141 -121.843554       1               0        1           1   \n\n      Tenure Months  Phone Service  Paperless Billing  Monthly Charges  ...  \\\n6021             24              1                  1            93.00  ...   \n3404             40              1                  1            78.85  ...   \n5474              4              1                  0            65.60  ...   \n5515              4              1                  0            55.50  ...   \n6328             64              1                  0            24.90  ...   \n\n      Contract_Two year  Payment Method_Credit card (automatic)  \\\n6021                  0                                       0   \n3404                  0                                       1   \n5474                  0                                       0   \n5515                  0                                       1   \n6328                  0                                       0   \n\n      Payment Method_Electronic check  Payment Method_Mailed check  \\\n6021                                1                            0   \n3404                                0                            0   \n5474                                1                            0   \n5515                                0                            0   \n6328                                0                            1   \n\n      prob_not_churn  prob_churn  pred  s_prob_not_churn  s_prob_churn  s_pred  \n6021        0.275853    0.724147     1          0.261920      0.738080       1  \n3404        0.702186    0.297814     0          0.677542      0.322458       0  \n5474        0.415106    0.584894     1          0.416686      0.583314       1  \n5515        0.634202    0.365798     0          0.654561      0.345439       0  \n6328        0.998405    0.001595     0          0.997801      0.002199       0  \n\n[5 rows x 38 columns]",
      "text/html": "<div>\n<style scoped>\n    .dataframe tbody tr th:only-of-type {\n        vertical-align: middle;\n    }\n\n    .dataframe tbody tr th {\n        vertical-align: top;\n    }\n\n    .dataframe thead th {\n        text-align: right;\n    }\n</style>\n<table border=\"1\" class=\"dataframe\">\n  <thead>\n    <tr style=\"text-align: right;\">\n      <th></th>\n      <th>Latitude</th>\n      <th>Longitude</th>\n      <th>Gender</th>\n      <th>Senior Citizen</th>\n      <th>Partner</th>\n      <th>Dependents</th>\n      <th>Tenure Months</th>\n      <th>Phone Service</th>\n      <th>Paperless Billing</th>\n      <th>Monthly Charges</th>\n      <th>...</th>\n      <th>Contract_Two year</th>\n      <th>Payment Method_Credit card (automatic)</th>\n      <th>Payment Method_Electronic check</th>\n      <th>Payment Method_Mailed check</th>\n      <th>prob_not_churn</th>\n      <th>prob_churn</th>\n      <th>pred</th>\n      <th>s_prob_not_churn</th>\n      <th>s_prob_churn</th>\n      <th>s_pred</th>\n    </tr>\n  </thead>\n  <tbody>\n    <tr>\n      <th>6021</th>\n      <td>35.280113</td>\n      <td>-118.962329</td>\n      <td>0</td>\n      <td>0</td>\n      <td>1</td>\n      <td>0</td>\n      <td>24</td>\n      <td>1</td>\n      <td>1</td>\n      <td>93.00</td>\n      <td>...</td>\n      <td>0</td>\n      <td>0</td>\n      <td>1</td>\n      <td>0</td>\n      <td>0.275853</td>\n      <td>0.724147</td>\n      <td>1</td>\n      <td>0.261920</td>\n      <td>0.738080</td>\n      <td>1</td>\n    </tr>\n    <tr>\n      <th>3404</th>\n      <td>36.276880</td>\n      <td>-117.033326</td>\n      <td>1</td>\n      <td>0</td>\n      <td>1</td>\n      <td>0</td>\n      <td>40</td>\n      <td>1</td>\n      <td>1</td>\n      <td>78.85</td>\n      <td>...</td>\n      <td>0</td>\n      <td>1</td>\n      <td>0</td>\n      <td>0</td>\n      <td>0.702186</td>\n      <td>0.297814</td>\n      <td>0</td>\n      <td>0.677542</td>\n      <td>0.322458</td>\n      <td>0</td>\n    </tr>\n    <tr>\n      <th>5474</th>\n      <td>40.531257</td>\n      <td>-122.148139</td>\n      <td>0</td>\n      <td>0</td>\n      <td>1</td>\n      <td>0</td>\n      <td>4</td>\n      <td>1</td>\n      <td>0</td>\n      <td>65.60</td>\n      <td>...</td>\n      <td>0</td>\n      <td>0</td>\n      <td>1</td>\n      <td>0</td>\n      <td>0.415106</td>\n      <td>0.584894</td>\n      <td>1</td>\n      <td>0.416686</td>\n      <td>0.583314</td>\n      <td>1</td>\n    </tr>\n    <tr>\n      <th>5515</th>\n      <td>39.117018</td>\n      <td>-120.212535</td>\n      <td>1</td>\n      <td>0</td>\n      <td>0</td>\n      <td>0</td>\n      <td>4</td>\n      <td>1</td>\n      <td>0</td>\n      <td>55.50</td>\n      <td>...</td>\n      <td>0</td>\n      <td>1</td>\n      <td>0</td>\n      <td>0</td>\n      <td>0.634202</td>\n      <td>0.365798</td>\n      <td>0</td>\n      <td>0.654561</td>\n      <td>0.345439</td>\n      <td>0</td>\n    </tr>\n    <tr>\n      <th>6328</th>\n      <td>37.186141</td>\n      <td>-121.843554</td>\n      <td>1</td>\n      <td>0</td>\n      <td>1</td>\n      <td>1</td>\n      <td>64</td>\n      <td>1</td>\n      <td>0</td>\n      <td>24.90</td>\n      <td>...</td>\n      <td>0</td>\n      <td>0</td>\n      <td>0</td>\n      <td>1</td>\n      <td>0.998405</td>\n      <td>0.001595</td>\n      <td>0</td>\n      <td>0.997801</td>\n      <td>0.002199</td>\n      <td>0</td>\n    </tr>\n  </tbody>\n</table>\n<p>5 rows × 38 columns</p>\n</div>"
     },
     "execution_count": 45,
     "metadata": {},
     "output_type": "execute_result"
    }
   ],
   "source": [
    "X_train.head()"
   ],
   "metadata": {
    "collapsed": false
   }
  },
  {
   "cell_type": "markdown",
   "source": [
    "# Model 3 - with scaling (long/lat removed)"
   ],
   "metadata": {
    "collapsed": false
   }
  },
  {
   "cell_type": "code",
   "execution_count": 46,
   "outputs": [
    {
     "data": {
      "text/plain": "     Gender  Senior Citizen   Partner  Dependents  Tenure Months  \\\n0 -0.986053        -0.44047  1.037872   -0.551266      -0.335339   \n1  1.014144        -0.44047  1.037872   -0.551266       0.316564   \n2 -0.986053        -0.44047  1.037872   -0.551266      -1.150218   \n3  1.014144        -0.44047 -0.963510   -0.551266      -1.150218   \n4  1.014144        -0.44047  1.037872    1.814006       1.294419   \n\n   Phone Service  Paperless Billing  Monthly Charges  Total Charges  \\\n0       0.330528           0.833233         0.943953      -0.007413   \n1       0.330528           0.833233         0.474005       0.381182   \n2       0.330528          -1.200145         0.033947      -0.890882   \n3       0.330528          -1.200145        -0.301494      -0.900941   \n4       0.330528          -1.200145        -1.317778      -0.295962   \n\n   Multiple Lines_No phone service  ...  Tech Support_Yes  \\\n0                        -0.330528  ...         -0.642345   \n1                        -0.330528  ...          1.556796   \n2                        -0.330528  ...         -0.642345   \n3                        -0.330528  ...         -0.642345   \n4                        -0.330528  ...         -0.642345   \n\n   Streaming TV_No internet service  Streaming TV_Yes  \\\n0                         -0.526819          1.273726   \n1                         -0.526819         -0.785098   \n2                         -0.526819          1.273726   \n3                         -0.526819          1.273726   \n4                          1.898186         -0.785098   \n\n   Streaming Movies_No internet service  Streaming Movies_Yes  \\\n0                             -0.526819              1.256619   \n1                             -0.526819             -0.795786   \n2                             -0.526819             -0.795786   \n3                             -0.526819             -0.795786   \n4                              1.898186             -0.795786   \n\n   Contract_One year  Contract_Two year  \\\n0          -0.518272          -0.560856   \n1          -0.518272          -0.560856   \n2          -0.518272          -0.560856   \n3          -0.518272          -0.560856   \n4           1.929487          -0.560856   \n\n   Payment Method_Credit card (automatic)  Payment Method_Electronic check  \\\n0                               -0.530397                         1.419320   \n1                                1.885380                        -0.704563   \n2                               -0.530397                         1.419320   \n3                                1.885380                        -0.704563   \n4                               -0.530397                        -0.704563   \n\n   Payment Method_Mailed check  \n0                    -0.543861  \n1                    -0.543861  \n2                    -0.543861  \n3                    -0.543861  \n4                     1.838706  \n\n[5 rows x 30 columns]",
      "text/html": "<div>\n<style scoped>\n    .dataframe tbody tr th:only-of-type {\n        vertical-align: middle;\n    }\n\n    .dataframe tbody tr th {\n        vertical-align: top;\n    }\n\n    .dataframe thead th {\n        text-align: right;\n    }\n</style>\n<table border=\"1\" class=\"dataframe\">\n  <thead>\n    <tr style=\"text-align: right;\">\n      <th></th>\n      <th>Gender</th>\n      <th>Senior Citizen</th>\n      <th>Partner</th>\n      <th>Dependents</th>\n      <th>Tenure Months</th>\n      <th>Phone Service</th>\n      <th>Paperless Billing</th>\n      <th>Monthly Charges</th>\n      <th>Total Charges</th>\n      <th>Multiple Lines_No phone service</th>\n      <th>...</th>\n      <th>Tech Support_Yes</th>\n      <th>Streaming TV_No internet service</th>\n      <th>Streaming TV_Yes</th>\n      <th>Streaming Movies_No internet service</th>\n      <th>Streaming Movies_Yes</th>\n      <th>Contract_One year</th>\n      <th>Contract_Two year</th>\n      <th>Payment Method_Credit card (automatic)</th>\n      <th>Payment Method_Electronic check</th>\n      <th>Payment Method_Mailed check</th>\n    </tr>\n  </thead>\n  <tbody>\n    <tr>\n      <th>0</th>\n      <td>-0.986053</td>\n      <td>-0.44047</td>\n      <td>1.037872</td>\n      <td>-0.551266</td>\n      <td>-0.335339</td>\n      <td>0.330528</td>\n      <td>0.833233</td>\n      <td>0.943953</td>\n      <td>-0.007413</td>\n      <td>-0.330528</td>\n      <td>...</td>\n      <td>-0.642345</td>\n      <td>-0.526819</td>\n      <td>1.273726</td>\n      <td>-0.526819</td>\n      <td>1.256619</td>\n      <td>-0.518272</td>\n      <td>-0.560856</td>\n      <td>-0.530397</td>\n      <td>1.419320</td>\n      <td>-0.543861</td>\n    </tr>\n    <tr>\n      <th>1</th>\n      <td>1.014144</td>\n      <td>-0.44047</td>\n      <td>1.037872</td>\n      <td>-0.551266</td>\n      <td>0.316564</td>\n      <td>0.330528</td>\n      <td>0.833233</td>\n      <td>0.474005</td>\n      <td>0.381182</td>\n      <td>-0.330528</td>\n      <td>...</td>\n      <td>1.556796</td>\n      <td>-0.526819</td>\n      <td>-0.785098</td>\n      <td>-0.526819</td>\n      <td>-0.795786</td>\n      <td>-0.518272</td>\n      <td>-0.560856</td>\n      <td>1.885380</td>\n      <td>-0.704563</td>\n      <td>-0.543861</td>\n    </tr>\n    <tr>\n      <th>2</th>\n      <td>-0.986053</td>\n      <td>-0.44047</td>\n      <td>1.037872</td>\n      <td>-0.551266</td>\n      <td>-1.150218</td>\n      <td>0.330528</td>\n      <td>-1.200145</td>\n      <td>0.033947</td>\n      <td>-0.890882</td>\n      <td>-0.330528</td>\n      <td>...</td>\n      <td>-0.642345</td>\n      <td>-0.526819</td>\n      <td>1.273726</td>\n      <td>-0.526819</td>\n      <td>-0.795786</td>\n      <td>-0.518272</td>\n      <td>-0.560856</td>\n      <td>-0.530397</td>\n      <td>1.419320</td>\n      <td>-0.543861</td>\n    </tr>\n    <tr>\n      <th>3</th>\n      <td>1.014144</td>\n      <td>-0.44047</td>\n      <td>-0.963510</td>\n      <td>-0.551266</td>\n      <td>-1.150218</td>\n      <td>0.330528</td>\n      <td>-1.200145</td>\n      <td>-0.301494</td>\n      <td>-0.900941</td>\n      <td>-0.330528</td>\n      <td>...</td>\n      <td>-0.642345</td>\n      <td>-0.526819</td>\n      <td>1.273726</td>\n      <td>-0.526819</td>\n      <td>-0.795786</td>\n      <td>-0.518272</td>\n      <td>-0.560856</td>\n      <td>1.885380</td>\n      <td>-0.704563</td>\n      <td>-0.543861</td>\n    </tr>\n    <tr>\n      <th>4</th>\n      <td>1.014144</td>\n      <td>-0.44047</td>\n      <td>1.037872</td>\n      <td>1.814006</td>\n      <td>1.294419</td>\n      <td>0.330528</td>\n      <td>-1.200145</td>\n      <td>-1.317778</td>\n      <td>-0.295962</td>\n      <td>-0.330528</td>\n      <td>...</td>\n      <td>-0.642345</td>\n      <td>1.898186</td>\n      <td>-0.785098</td>\n      <td>1.898186</td>\n      <td>-0.795786</td>\n      <td>1.929487</td>\n      <td>-0.560856</td>\n      <td>-0.530397</td>\n      <td>-0.704563</td>\n      <td>1.838706</td>\n    </tr>\n  </tbody>\n</table>\n<p>5 rows × 30 columns</p>\n</div>"
     },
     "execution_count": 46,
     "metadata": {},
     "output_type": "execute_result"
    }
   ],
   "source": [
    "# Setting up the many columns we wish to scale (excluding long/lat as they mess up the scaling and have negligible impact on the model as a whole.\n",
    "st_scaler = StandardScaler()\n",
    "scaled_cols = [ 'Gender',\n",
    "                'Senior Citizen',\n",
    "                'Partner',\n",
    "                'Dependents',\n",
    "                'Tenure Months',\n",
    "                'Phone Service',\n",
    "                'Paperless Billing',\n",
    "                'Monthly Charges',\n",
    "                'Total Charges',\n",
    "                'Multiple Lines_No phone service',\n",
    "                'Multiple Lines_Yes',\n",
    "                'Internet Service_Fiber optic',\n",
    "                'Internet Service_No',\n",
    "                'Online Security_No internet service',\n",
    "                'Online Security_Yes',\n",
    "                'Online Backup_No internet service',\n",
    "                'Online Backup_Yes',\n",
    "                'Device Protection_No internet service',\n",
    "                'Device Protection_Yes',\n",
    "                'Tech Support_No internet service',\n",
    "                'Tech Support_Yes',\n",
    "                'Streaming TV_No internet service',\n",
    "                'Streaming TV_Yes',\n",
    "                'Streaming Movies_No internet service',\n",
    "                'Streaming Movies_Yes',\n",
    "                'Contract_One year',\n",
    "                'Contract_Two year',\n",
    "                'Payment Method_Credit card (automatic)',\n",
    "                'Payment Method_Electronic check',\n",
    "                'Payment Method_Mailed check']\n",
    "# Applying the scalar function to X_train (again) using the specified columns now.\n",
    "X_train_fitted2 = st_scaler.fit_transform(X_train[scaled_cols])\n",
    "X_train_scaled2 = pd.DataFrame(X_train_fitted2, columns= scaled_cols)\n",
    "X_train_scaled2.head()"
   ],
   "metadata": {
    "collapsed": false
   }
  },
  {
   "cell_type": "code",
   "execution_count": 47,
   "outputs": [
    {
     "data": {
      "text/plain": "     Gender  Senior Citizen   Partner  Dependents  Tenure Months  \\\n0  1.014144        -0.44047  1.037872   -0.551266       0.398052   \n1 -0.986053        -0.44047 -0.963510   -0.551266       0.438796   \n2  1.014144        -0.44047 -0.963510   -0.551266      -0.213107   \n3 -0.986053        -0.44047 -0.963510   -0.551266       1.335163   \n4  1.014144        -0.44047 -0.963510   -0.551266      -0.131619   \n\n   Phone Service  Paperless Billing  Monthly Charges  Total Charges  \\\n0       0.330528          -1.200145        -1.306154      -0.511440   \n1      -3.025464          -1.200145        -0.678449      -0.147476   \n2       0.330528           0.833233         0.817748       0.052526   \n3       0.330528           0.833233        -1.495462      -0.462601   \n4       0.330528           0.833233         0.213291      -0.081678   \n\n   Multiple Lines_No phone service  ...  Tech Support_Yes  \\\n0                        -0.330528  ...         -0.642345   \n1                         3.025464  ...          1.556796   \n2                        -0.330528  ...          1.556796   \n3                        -0.330528  ...         -0.642345   \n4                        -0.330528  ...         -0.642345   \n\n   Streaming TV_No internet service  Streaming TV_Yes  \\\n0                          1.898186         -0.785098   \n1                         -0.526819         -0.785098   \n2                         -0.526819         -0.785098   \n3                          1.898186         -0.785098   \n4                         -0.526819          1.273726   \n\n   Streaming Movies_No internet service  Streaming Movies_Yes  \\\n0                              1.898186             -0.795786   \n1                             -0.526819              1.256619   \n2                             -0.526819              1.256619   \n3                              1.898186             -0.795786   \n4                             -0.526819              1.256619   \n\n   Contract_One year  Contract_Two year  \\\n0          -0.518272           1.782989   \n1           1.929487          -0.560856   \n2          -0.518272          -0.560856   \n3          -0.518272           1.782989   \n4           1.929487          -0.560856   \n\n   Payment Method_Credit card (automatic)  Payment Method_Electronic check  \\\n0                               -0.530397                         1.419320   \n1                               -0.530397                         1.419320   \n2                               -0.530397                         1.419320   \n3                                1.885380                        -0.704563   \n4                                1.885380                        -0.704563   \n\n   Payment Method_Mailed check  \n0                    -0.543861  \n1                    -0.543861  \n2                    -0.543861  \n3                    -0.543861  \n4                    -0.543861  \n\n[5 rows x 30 columns]",
      "text/html": "<div>\n<style scoped>\n    .dataframe tbody tr th:only-of-type {\n        vertical-align: middle;\n    }\n\n    .dataframe tbody tr th {\n        vertical-align: top;\n    }\n\n    .dataframe thead th {\n        text-align: right;\n    }\n</style>\n<table border=\"1\" class=\"dataframe\">\n  <thead>\n    <tr style=\"text-align: right;\">\n      <th></th>\n      <th>Gender</th>\n      <th>Senior Citizen</th>\n      <th>Partner</th>\n      <th>Dependents</th>\n      <th>Tenure Months</th>\n      <th>Phone Service</th>\n      <th>Paperless Billing</th>\n      <th>Monthly Charges</th>\n      <th>Total Charges</th>\n      <th>Multiple Lines_No phone service</th>\n      <th>...</th>\n      <th>Tech Support_Yes</th>\n      <th>Streaming TV_No internet service</th>\n      <th>Streaming TV_Yes</th>\n      <th>Streaming Movies_No internet service</th>\n      <th>Streaming Movies_Yes</th>\n      <th>Contract_One year</th>\n      <th>Contract_Two year</th>\n      <th>Payment Method_Credit card (automatic)</th>\n      <th>Payment Method_Electronic check</th>\n      <th>Payment Method_Mailed check</th>\n    </tr>\n  </thead>\n  <tbody>\n    <tr>\n      <th>0</th>\n      <td>1.014144</td>\n      <td>-0.44047</td>\n      <td>1.037872</td>\n      <td>-0.551266</td>\n      <td>0.398052</td>\n      <td>0.330528</td>\n      <td>-1.200145</td>\n      <td>-1.306154</td>\n      <td>-0.511440</td>\n      <td>-0.330528</td>\n      <td>...</td>\n      <td>-0.642345</td>\n      <td>1.898186</td>\n      <td>-0.785098</td>\n      <td>1.898186</td>\n      <td>-0.795786</td>\n      <td>-0.518272</td>\n      <td>1.782989</td>\n      <td>-0.530397</td>\n      <td>1.419320</td>\n      <td>-0.543861</td>\n    </tr>\n    <tr>\n      <th>1</th>\n      <td>-0.986053</td>\n      <td>-0.44047</td>\n      <td>-0.963510</td>\n      <td>-0.551266</td>\n      <td>0.438796</td>\n      <td>-3.025464</td>\n      <td>-1.200145</td>\n      <td>-0.678449</td>\n      <td>-0.147476</td>\n      <td>3.025464</td>\n      <td>...</td>\n      <td>1.556796</td>\n      <td>-0.526819</td>\n      <td>-0.785098</td>\n      <td>-0.526819</td>\n      <td>1.256619</td>\n      <td>1.929487</td>\n      <td>-0.560856</td>\n      <td>-0.530397</td>\n      <td>1.419320</td>\n      <td>-0.543861</td>\n    </tr>\n    <tr>\n      <th>2</th>\n      <td>1.014144</td>\n      <td>-0.44047</td>\n      <td>-0.963510</td>\n      <td>-0.551266</td>\n      <td>-0.213107</td>\n      <td>0.330528</td>\n      <td>0.833233</td>\n      <td>0.817748</td>\n      <td>0.052526</td>\n      <td>-0.330528</td>\n      <td>...</td>\n      <td>1.556796</td>\n      <td>-0.526819</td>\n      <td>-0.785098</td>\n      <td>-0.526819</td>\n      <td>1.256619</td>\n      <td>-0.518272</td>\n      <td>-0.560856</td>\n      <td>-0.530397</td>\n      <td>1.419320</td>\n      <td>-0.543861</td>\n    </tr>\n    <tr>\n      <th>3</th>\n      <td>-0.986053</td>\n      <td>-0.44047</td>\n      <td>-0.963510</td>\n      <td>-0.551266</td>\n      <td>1.335163</td>\n      <td>0.330528</td>\n      <td>0.833233</td>\n      <td>-1.495462</td>\n      <td>-0.462601</td>\n      <td>-0.330528</td>\n      <td>...</td>\n      <td>-0.642345</td>\n      <td>1.898186</td>\n      <td>-0.785098</td>\n      <td>1.898186</td>\n      <td>-0.795786</td>\n      <td>-0.518272</td>\n      <td>1.782989</td>\n      <td>1.885380</td>\n      <td>-0.704563</td>\n      <td>-0.543861</td>\n    </tr>\n    <tr>\n      <th>4</th>\n      <td>1.014144</td>\n      <td>-0.44047</td>\n      <td>-0.963510</td>\n      <td>-0.551266</td>\n      <td>-0.131619</td>\n      <td>0.330528</td>\n      <td>0.833233</td>\n      <td>0.213291</td>\n      <td>-0.081678</td>\n      <td>-0.330528</td>\n      <td>...</td>\n      <td>-0.642345</td>\n      <td>-0.526819</td>\n      <td>1.273726</td>\n      <td>-0.526819</td>\n      <td>1.256619</td>\n      <td>1.929487</td>\n      <td>-0.560856</td>\n      <td>1.885380</td>\n      <td>-0.704563</td>\n      <td>-0.543861</td>\n    </tr>\n  </tbody>\n</table>\n<p>5 rows × 30 columns</p>\n</div>"
     },
     "execution_count": 47,
     "metadata": {},
     "output_type": "execute_result"
    }
   ],
   "source": [
    "# Same as above for test\n",
    "X_test_fitted2 = st_scaler.transform(X_test[scaled_cols])\n",
    "X_test_scaled2 = pd.DataFrame(X_test_fitted2, columns=scaled_cols)\n",
    "X_test_scaled2.head()"
   ],
   "metadata": {
    "collapsed": false
   }
  },
  {
   "cell_type": "code",
   "execution_count": 48,
   "outputs": [
    {
     "data": {
      "text/plain": "       Latitude   Longitude  Gender  Senior Citizen  Partner  Dependents  \\\n6021  35.280113 -118.962329       0               0        1           0   \n3404  36.276880 -117.033326       1               0        1           0   \n5474  40.531257 -122.148139       0               0        1           0   \n5515  39.117018 -120.212535       1               0        0           0   \n6328  37.186141 -121.843554       1               0        1           1   \n\n      Tenure Months  Phone Service  Paperless Billing  Monthly Charges  ...  \\\n6021             24              1                  1            93.00  ...   \n3404             40              1                  1            78.85  ...   \n5474              4              1                  0            65.60  ...   \n5515              4              1                  0            55.50  ...   \n6328             64              1                  0            24.90  ...   \n\n      Payment Method_Electronic check  Payment Method_Mailed check  \\\n6021                                1                            0   \n3404                                0                            0   \n5474                                1                            0   \n5515                                0                            0   \n6328                                0                            1   \n\n      prob_not_churn  prob_churn  pred  s_prob_not_churn  s_prob_churn  \\\n6021        0.275853    0.724147     1          0.261920      0.738080   \n3404        0.702186    0.297814     0          0.677542      0.322458   \n5474        0.415106    0.584894     1          0.416686      0.583314   \n5515        0.634202    0.365798     0          0.654561      0.345439   \n6328        0.998405    0.001595     0          0.997801      0.002199   \n\n      s_pred  s2_prob_not_churn  s2_prob_churn  \n6021       1           0.262052       0.737948  \n3404       0           0.667515       0.332485  \n5474       1           0.413229       0.586771  \n5515       0           0.647993       0.352007  \n6328       0           0.997852       0.002148  \n\n[5 rows x 40 columns]",
      "text/html": "<div>\n<style scoped>\n    .dataframe tbody tr th:only-of-type {\n        vertical-align: middle;\n    }\n\n    .dataframe tbody tr th {\n        vertical-align: top;\n    }\n\n    .dataframe thead th {\n        text-align: right;\n    }\n</style>\n<table border=\"1\" class=\"dataframe\">\n  <thead>\n    <tr style=\"text-align: right;\">\n      <th></th>\n      <th>Latitude</th>\n      <th>Longitude</th>\n      <th>Gender</th>\n      <th>Senior Citizen</th>\n      <th>Partner</th>\n      <th>Dependents</th>\n      <th>Tenure Months</th>\n      <th>Phone Service</th>\n      <th>Paperless Billing</th>\n      <th>Monthly Charges</th>\n      <th>...</th>\n      <th>Payment Method_Electronic check</th>\n      <th>Payment Method_Mailed check</th>\n      <th>prob_not_churn</th>\n      <th>prob_churn</th>\n      <th>pred</th>\n      <th>s_prob_not_churn</th>\n      <th>s_prob_churn</th>\n      <th>s_pred</th>\n      <th>s2_prob_not_churn</th>\n      <th>s2_prob_churn</th>\n    </tr>\n  </thead>\n  <tbody>\n    <tr>\n      <th>6021</th>\n      <td>35.280113</td>\n      <td>-118.962329</td>\n      <td>0</td>\n      <td>0</td>\n      <td>1</td>\n      <td>0</td>\n      <td>24</td>\n      <td>1</td>\n      <td>1</td>\n      <td>93.00</td>\n      <td>...</td>\n      <td>1</td>\n      <td>0</td>\n      <td>0.275853</td>\n      <td>0.724147</td>\n      <td>1</td>\n      <td>0.261920</td>\n      <td>0.738080</td>\n      <td>1</td>\n      <td>0.262052</td>\n      <td>0.737948</td>\n    </tr>\n    <tr>\n      <th>3404</th>\n      <td>36.276880</td>\n      <td>-117.033326</td>\n      <td>1</td>\n      <td>0</td>\n      <td>1</td>\n      <td>0</td>\n      <td>40</td>\n      <td>1</td>\n      <td>1</td>\n      <td>78.85</td>\n      <td>...</td>\n      <td>0</td>\n      <td>0</td>\n      <td>0.702186</td>\n      <td>0.297814</td>\n      <td>0</td>\n      <td>0.677542</td>\n      <td>0.322458</td>\n      <td>0</td>\n      <td>0.667515</td>\n      <td>0.332485</td>\n    </tr>\n    <tr>\n      <th>5474</th>\n      <td>40.531257</td>\n      <td>-122.148139</td>\n      <td>0</td>\n      <td>0</td>\n      <td>1</td>\n      <td>0</td>\n      <td>4</td>\n      <td>1</td>\n      <td>0</td>\n      <td>65.60</td>\n      <td>...</td>\n      <td>1</td>\n      <td>0</td>\n      <td>0.415106</td>\n      <td>0.584894</td>\n      <td>1</td>\n      <td>0.416686</td>\n      <td>0.583314</td>\n      <td>1</td>\n      <td>0.413229</td>\n      <td>0.586771</td>\n    </tr>\n    <tr>\n      <th>5515</th>\n      <td>39.117018</td>\n      <td>-120.212535</td>\n      <td>1</td>\n      <td>0</td>\n      <td>0</td>\n      <td>0</td>\n      <td>4</td>\n      <td>1</td>\n      <td>0</td>\n      <td>55.50</td>\n      <td>...</td>\n      <td>0</td>\n      <td>0</td>\n      <td>0.634202</td>\n      <td>0.365798</td>\n      <td>0</td>\n      <td>0.654561</td>\n      <td>0.345439</td>\n      <td>0</td>\n      <td>0.647993</td>\n      <td>0.352007</td>\n    </tr>\n    <tr>\n      <th>6328</th>\n      <td>37.186141</td>\n      <td>-121.843554</td>\n      <td>1</td>\n      <td>0</td>\n      <td>1</td>\n      <td>1</td>\n      <td>64</td>\n      <td>1</td>\n      <td>0</td>\n      <td>24.90</td>\n      <td>...</td>\n      <td>0</td>\n      <td>1</td>\n      <td>0.998405</td>\n      <td>0.001595</td>\n      <td>0</td>\n      <td>0.997801</td>\n      <td>0.002199</td>\n      <td>0</td>\n      <td>0.997852</td>\n      <td>0.002148</td>\n    </tr>\n  </tbody>\n</table>\n<p>5 rows × 40 columns</p>\n</div>"
     },
     "execution_count": 48,
     "metadata": {},
     "output_type": "execute_result"
    }
   ],
   "source": [
    "# Apply Logistic regression\n",
    "lr = LogisticRegression(random_state=10, max_iter=1000)\n",
    "lr.fit(X_train_scaled2, y_train)\n",
    "# Store the results in two columns\n",
    "X_train[['s2_prob_not_churn', 's2_prob_churn']] = lr.predict_proba(X_train_scaled2)\n",
    "# Check progress\n",
    "X_train.head()"
   ],
   "metadata": {
    "collapsed": false
   }
  },
  {
   "cell_type": "code",
   "execution_count": 49,
   "outputs": [
    {
     "data": {
      "text/plain": "       Latitude   Longitude  Gender  Senior Citizen  Partner  Dependents  \\\n6021  35.280113 -118.962329       0               0        1           0   \n3404  36.276880 -117.033326       1               0        1           0   \n5474  40.531257 -122.148139       0               0        1           0   \n5515  39.117018 -120.212535       1               0        0           0   \n6328  37.186141 -121.843554       1               0        1           1   \n5275  40.342928 -124.063329       0               1        1           0   \n1323  34.037037 -118.705803       1               1        0           0   \n6731  34.066303 -118.435479       0               1        0           0   \n5922  33.429488 -117.609432       1               1        0           0   \n6755  34.044271 -118.185237       1               0        1           1   \n6914  33.992416 -117.807874       1               0        1           0   \n1671  38.349195 -121.902943       1               0        0           0   \n387   38.715498 -121.363411       0               0        1           0   \n3529  33.918043 -117.617809       1               0        0           0   \n1032  34.205504 -118.993111       0               0        1           0   \n4515  34.024405 -117.898722       0               0        1           1   \n3922  37.218705 -121.762429       0               0        1           1   \n1747  39.241240 -120.054765       0               1        0           0   \n6103  36.696759 -119.024051       1               0        1           0   \n6614  39.194539 -120.988066       0               0        1           1   \n\n      Tenure Months  Phone Service  Paperless Billing  Monthly Charges  ...  \\\n6021             24              1                  1            93.00  ...   \n3404             40              1                  1            78.85  ...   \n5474              4              1                  0            65.60  ...   \n5515              4              1                  0            55.50  ...   \n6328             64              1                  0            24.90  ...   \n5275             69              1                  1            95.35  ...   \n1323              2              1                  1            79.60  ...   \n6731             16              1                  1            78.75  ...   \n5922             67              1                  1            92.45  ...   \n6755             72              0                  0            53.65  ...   \n6914             21              1                  1            86.05  ...   \n1671              4              1                  1            79.00  ...   \n387              13              1                  1            74.40  ...   \n3529             15              1                  0            65.60  ...   \n1032             20              1                  1            90.20  ...   \n4515             31              1                  0            59.70  ...   \n3922             72              1                  0            26.10  ...   \n1747             66              1                  0           110.90  ...   \n6103             65              1                  1            59.80  ...   \n6614             17              0                  0            44.45  ...   \n\n      Payment Method_Mailed check  prob_not_churn  prob_churn  pred  \\\n6021                            0        0.275853    0.724147     1   \n3404                            0        0.702186    0.297814     0   \n5474                            0        0.415106    0.584894     1   \n5515                            0        0.634202    0.365798     0   \n6328                            1        0.998405    0.001595     0   \n5275                            0        0.698935    0.301065     0   \n1323                            0        0.215543    0.784457     1   \n6731                            0        0.334253    0.665747     1   \n5922                            0        0.958734    0.041266     0   \n6755                            0        0.996476    0.003524     0   \n6914                            0        0.444008    0.555992     1   \n1671                            0        0.287075    0.712925     1   \n387                             0        0.363860    0.636140     1   \n3529                            0        0.934468    0.065532     0   \n1032                            0        0.297610    0.702390     1   \n4515                            0        0.924897    0.075103     0   \n3922                            1        0.999298    0.000702     0   \n1747                            0        0.875097    0.124903     0   \n6103                            0        0.979561    0.020439     0   \n6614                            0        0.941647    0.058353     0   \n\n      s_prob_not_churn  s_prob_churn  s_pred  s2_prob_not_churn  \\\n6021          0.261920      0.738080       1           0.262052   \n3404          0.677542      0.322458       0           0.667515   \n5474          0.416686      0.583314       1           0.413229   \n5515          0.654561      0.345439       0           0.647993   \n6328          0.997801      0.002199       0           0.997852   \n5275          0.673431      0.326569       0           0.677000   \n1323          0.227623      0.772377       1           0.229417   \n6731          0.335688      0.664312       1           0.337045   \n5922          0.968718      0.031282       0           0.968722   \n6755          0.997364      0.002636       0           0.997371   \n6914          0.411902      0.588098       1           0.411401   \n1671          0.284896      0.715104       1           0.286687   \n387           0.371366      0.628634       1           0.369704   \n3529          0.935866      0.064134       0           0.935483   \n1032          0.285159      0.714841       1           0.288081   \n4515          0.920101      0.079899       0           0.920029   \n3922          0.999310      0.000690       0           0.999324   \n1747          0.883663      0.116337       0           0.880119   \n6103          0.984811      0.015189       0           0.984548   \n6614          0.952979      0.047021       0           0.952146   \n\n      s2_prob_churn  s2_pred  \n6021       0.737948        1  \n3404       0.332485        0  \n5474       0.586771        1  \n5515       0.352007        0  \n6328       0.002148        0  \n5275       0.323000        0  \n1323       0.770583        1  \n6731       0.662955        1  \n5922       0.031278        0  \n6755       0.002629        0  \n6914       0.588599        1  \n1671       0.713313        1  \n387        0.630296        1  \n3529       0.064517        0  \n1032       0.711919        1  \n4515       0.079971        0  \n3922       0.000676        0  \n1747       0.119881        0  \n6103       0.015452        0  \n6614       0.047854        0  \n\n[20 rows x 41 columns]",
      "text/html": "<div>\n<style scoped>\n    .dataframe tbody tr th:only-of-type {\n        vertical-align: middle;\n    }\n\n    .dataframe tbody tr th {\n        vertical-align: top;\n    }\n\n    .dataframe thead th {\n        text-align: right;\n    }\n</style>\n<table border=\"1\" class=\"dataframe\">\n  <thead>\n    <tr style=\"text-align: right;\">\n      <th></th>\n      <th>Latitude</th>\n      <th>Longitude</th>\n      <th>Gender</th>\n      <th>Senior Citizen</th>\n      <th>Partner</th>\n      <th>Dependents</th>\n      <th>Tenure Months</th>\n      <th>Phone Service</th>\n      <th>Paperless Billing</th>\n      <th>Monthly Charges</th>\n      <th>...</th>\n      <th>Payment Method_Mailed check</th>\n      <th>prob_not_churn</th>\n      <th>prob_churn</th>\n      <th>pred</th>\n      <th>s_prob_not_churn</th>\n      <th>s_prob_churn</th>\n      <th>s_pred</th>\n      <th>s2_prob_not_churn</th>\n      <th>s2_prob_churn</th>\n      <th>s2_pred</th>\n    </tr>\n  </thead>\n  <tbody>\n    <tr>\n      <th>6021</th>\n      <td>35.280113</td>\n      <td>-118.962329</td>\n      <td>0</td>\n      <td>0</td>\n      <td>1</td>\n      <td>0</td>\n      <td>24</td>\n      <td>1</td>\n      <td>1</td>\n      <td>93.00</td>\n      <td>...</td>\n      <td>0</td>\n      <td>0.275853</td>\n      <td>0.724147</td>\n      <td>1</td>\n      <td>0.261920</td>\n      <td>0.738080</td>\n      <td>1</td>\n      <td>0.262052</td>\n      <td>0.737948</td>\n      <td>1</td>\n    </tr>\n    <tr>\n      <th>3404</th>\n      <td>36.276880</td>\n      <td>-117.033326</td>\n      <td>1</td>\n      <td>0</td>\n      <td>1</td>\n      <td>0</td>\n      <td>40</td>\n      <td>1</td>\n      <td>1</td>\n      <td>78.85</td>\n      <td>...</td>\n      <td>0</td>\n      <td>0.702186</td>\n      <td>0.297814</td>\n      <td>0</td>\n      <td>0.677542</td>\n      <td>0.322458</td>\n      <td>0</td>\n      <td>0.667515</td>\n      <td>0.332485</td>\n      <td>0</td>\n    </tr>\n    <tr>\n      <th>5474</th>\n      <td>40.531257</td>\n      <td>-122.148139</td>\n      <td>0</td>\n      <td>0</td>\n      <td>1</td>\n      <td>0</td>\n      <td>4</td>\n      <td>1</td>\n      <td>0</td>\n      <td>65.60</td>\n      <td>...</td>\n      <td>0</td>\n      <td>0.415106</td>\n      <td>0.584894</td>\n      <td>1</td>\n      <td>0.416686</td>\n      <td>0.583314</td>\n      <td>1</td>\n      <td>0.413229</td>\n      <td>0.586771</td>\n      <td>1</td>\n    </tr>\n    <tr>\n      <th>5515</th>\n      <td>39.117018</td>\n      <td>-120.212535</td>\n      <td>1</td>\n      <td>0</td>\n      <td>0</td>\n      <td>0</td>\n      <td>4</td>\n      <td>1</td>\n      <td>0</td>\n      <td>55.50</td>\n      <td>...</td>\n      <td>0</td>\n      <td>0.634202</td>\n      <td>0.365798</td>\n      <td>0</td>\n      <td>0.654561</td>\n      <td>0.345439</td>\n      <td>0</td>\n      <td>0.647993</td>\n      <td>0.352007</td>\n      <td>0</td>\n    </tr>\n    <tr>\n      <th>6328</th>\n      <td>37.186141</td>\n      <td>-121.843554</td>\n      <td>1</td>\n      <td>0</td>\n      <td>1</td>\n      <td>1</td>\n      <td>64</td>\n      <td>1</td>\n      <td>0</td>\n      <td>24.90</td>\n      <td>...</td>\n      <td>1</td>\n      <td>0.998405</td>\n      <td>0.001595</td>\n      <td>0</td>\n      <td>0.997801</td>\n      <td>0.002199</td>\n      <td>0</td>\n      <td>0.997852</td>\n      <td>0.002148</td>\n      <td>0</td>\n    </tr>\n    <tr>\n      <th>5275</th>\n      <td>40.342928</td>\n      <td>-124.063329</td>\n      <td>0</td>\n      <td>1</td>\n      <td>1</td>\n      <td>0</td>\n      <td>69</td>\n      <td>1</td>\n      <td>1</td>\n      <td>95.35</td>\n      <td>...</td>\n      <td>0</td>\n      <td>0.698935</td>\n      <td>0.301065</td>\n      <td>0</td>\n      <td>0.673431</td>\n      <td>0.326569</td>\n      <td>0</td>\n      <td>0.677000</td>\n      <td>0.323000</td>\n      <td>0</td>\n    </tr>\n    <tr>\n      <th>1323</th>\n      <td>34.037037</td>\n      <td>-118.705803</td>\n      <td>1</td>\n      <td>1</td>\n      <td>0</td>\n      <td>0</td>\n      <td>2</td>\n      <td>1</td>\n      <td>1</td>\n      <td>79.60</td>\n      <td>...</td>\n      <td>0</td>\n      <td>0.215543</td>\n      <td>0.784457</td>\n      <td>1</td>\n      <td>0.227623</td>\n      <td>0.772377</td>\n      <td>1</td>\n      <td>0.229417</td>\n      <td>0.770583</td>\n      <td>1</td>\n    </tr>\n    <tr>\n      <th>6731</th>\n      <td>34.066303</td>\n      <td>-118.435479</td>\n      <td>0</td>\n      <td>1</td>\n      <td>0</td>\n      <td>0</td>\n      <td>16</td>\n      <td>1</td>\n      <td>1</td>\n      <td>78.75</td>\n      <td>...</td>\n      <td>0</td>\n      <td>0.334253</td>\n      <td>0.665747</td>\n      <td>1</td>\n      <td>0.335688</td>\n      <td>0.664312</td>\n      <td>1</td>\n      <td>0.337045</td>\n      <td>0.662955</td>\n      <td>1</td>\n    </tr>\n    <tr>\n      <th>5922</th>\n      <td>33.429488</td>\n      <td>-117.609432</td>\n      <td>1</td>\n      <td>1</td>\n      <td>0</td>\n      <td>0</td>\n      <td>67</td>\n      <td>1</td>\n      <td>1</td>\n      <td>92.45</td>\n      <td>...</td>\n      <td>0</td>\n      <td>0.958734</td>\n      <td>0.041266</td>\n      <td>0</td>\n      <td>0.968718</td>\n      <td>0.031282</td>\n      <td>0</td>\n      <td>0.968722</td>\n      <td>0.031278</td>\n      <td>0</td>\n    </tr>\n    <tr>\n      <th>6755</th>\n      <td>34.044271</td>\n      <td>-118.185237</td>\n      <td>1</td>\n      <td>0</td>\n      <td>1</td>\n      <td>1</td>\n      <td>72</td>\n      <td>0</td>\n      <td>0</td>\n      <td>53.65</td>\n      <td>...</td>\n      <td>0</td>\n      <td>0.996476</td>\n      <td>0.003524</td>\n      <td>0</td>\n      <td>0.997364</td>\n      <td>0.002636</td>\n      <td>0</td>\n      <td>0.997371</td>\n      <td>0.002629</td>\n      <td>0</td>\n    </tr>\n    <tr>\n      <th>6914</th>\n      <td>33.992416</td>\n      <td>-117.807874</td>\n      <td>1</td>\n      <td>0</td>\n      <td>1</td>\n      <td>0</td>\n      <td>21</td>\n      <td>1</td>\n      <td>1</td>\n      <td>86.05</td>\n      <td>...</td>\n      <td>0</td>\n      <td>0.444008</td>\n      <td>0.555992</td>\n      <td>1</td>\n      <td>0.411902</td>\n      <td>0.588098</td>\n      <td>1</td>\n      <td>0.411401</td>\n      <td>0.588599</td>\n      <td>1</td>\n    </tr>\n    <tr>\n      <th>1671</th>\n      <td>38.349195</td>\n      <td>-121.902943</td>\n      <td>1</td>\n      <td>0</td>\n      <td>0</td>\n      <td>0</td>\n      <td>4</td>\n      <td>1</td>\n      <td>1</td>\n      <td>79.00</td>\n      <td>...</td>\n      <td>0</td>\n      <td>0.287075</td>\n      <td>0.712925</td>\n      <td>1</td>\n      <td>0.284896</td>\n      <td>0.715104</td>\n      <td>1</td>\n      <td>0.286687</td>\n      <td>0.713313</td>\n      <td>1</td>\n    </tr>\n    <tr>\n      <th>387</th>\n      <td>38.715498</td>\n      <td>-121.363411</td>\n      <td>0</td>\n      <td>0</td>\n      <td>1</td>\n      <td>0</td>\n      <td>13</td>\n      <td>1</td>\n      <td>1</td>\n      <td>74.40</td>\n      <td>...</td>\n      <td>0</td>\n      <td>0.363860</td>\n      <td>0.636140</td>\n      <td>1</td>\n      <td>0.371366</td>\n      <td>0.628634</td>\n      <td>1</td>\n      <td>0.369704</td>\n      <td>0.630296</td>\n      <td>1</td>\n    </tr>\n    <tr>\n      <th>3529</th>\n      <td>33.918043</td>\n      <td>-117.617809</td>\n      <td>1</td>\n      <td>0</td>\n      <td>0</td>\n      <td>0</td>\n      <td>15</td>\n      <td>1</td>\n      <td>0</td>\n      <td>65.60</td>\n      <td>...</td>\n      <td>0</td>\n      <td>0.934468</td>\n      <td>0.065532</td>\n      <td>0</td>\n      <td>0.935866</td>\n      <td>0.064134</td>\n      <td>0</td>\n      <td>0.935483</td>\n      <td>0.064517</td>\n      <td>0</td>\n    </tr>\n    <tr>\n      <th>1032</th>\n      <td>34.205504</td>\n      <td>-118.993111</td>\n      <td>0</td>\n      <td>0</td>\n      <td>1</td>\n      <td>0</td>\n      <td>20</td>\n      <td>1</td>\n      <td>1</td>\n      <td>90.20</td>\n      <td>...</td>\n      <td>0</td>\n      <td>0.297610</td>\n      <td>0.702390</td>\n      <td>1</td>\n      <td>0.285159</td>\n      <td>0.714841</td>\n      <td>1</td>\n      <td>0.288081</td>\n      <td>0.711919</td>\n      <td>1</td>\n    </tr>\n    <tr>\n      <th>4515</th>\n      <td>34.024405</td>\n      <td>-117.898722</td>\n      <td>0</td>\n      <td>0</td>\n      <td>1</td>\n      <td>1</td>\n      <td>31</td>\n      <td>1</td>\n      <td>0</td>\n      <td>59.70</td>\n      <td>...</td>\n      <td>0</td>\n      <td>0.924897</td>\n      <td>0.075103</td>\n      <td>0</td>\n      <td>0.920101</td>\n      <td>0.079899</td>\n      <td>0</td>\n      <td>0.920029</td>\n      <td>0.079971</td>\n      <td>0</td>\n    </tr>\n    <tr>\n      <th>3922</th>\n      <td>37.218705</td>\n      <td>-121.762429</td>\n      <td>0</td>\n      <td>0</td>\n      <td>1</td>\n      <td>1</td>\n      <td>72</td>\n      <td>1</td>\n      <td>0</td>\n      <td>26.10</td>\n      <td>...</td>\n      <td>1</td>\n      <td>0.999298</td>\n      <td>0.000702</td>\n      <td>0</td>\n      <td>0.999310</td>\n      <td>0.000690</td>\n      <td>0</td>\n      <td>0.999324</td>\n      <td>0.000676</td>\n      <td>0</td>\n    </tr>\n    <tr>\n      <th>1747</th>\n      <td>39.241240</td>\n      <td>-120.054765</td>\n      <td>0</td>\n      <td>1</td>\n      <td>0</td>\n      <td>0</td>\n      <td>66</td>\n      <td>1</td>\n      <td>0</td>\n      <td>110.90</td>\n      <td>...</td>\n      <td>0</td>\n      <td>0.875097</td>\n      <td>0.124903</td>\n      <td>0</td>\n      <td>0.883663</td>\n      <td>0.116337</td>\n      <td>0</td>\n      <td>0.880119</td>\n      <td>0.119881</td>\n      <td>0</td>\n    </tr>\n    <tr>\n      <th>6103</th>\n      <td>36.696759</td>\n      <td>-119.024051</td>\n      <td>1</td>\n      <td>0</td>\n      <td>1</td>\n      <td>0</td>\n      <td>65</td>\n      <td>1</td>\n      <td>1</td>\n      <td>59.80</td>\n      <td>...</td>\n      <td>0</td>\n      <td>0.979561</td>\n      <td>0.020439</td>\n      <td>0</td>\n      <td>0.984811</td>\n      <td>0.015189</td>\n      <td>0</td>\n      <td>0.984548</td>\n      <td>0.015452</td>\n      <td>0</td>\n    </tr>\n    <tr>\n      <th>6614</th>\n      <td>39.194539</td>\n      <td>-120.988066</td>\n      <td>0</td>\n      <td>0</td>\n      <td>1</td>\n      <td>1</td>\n      <td>17</td>\n      <td>0</td>\n      <td>0</td>\n      <td>44.45</td>\n      <td>...</td>\n      <td>0</td>\n      <td>0.941647</td>\n      <td>0.058353</td>\n      <td>0</td>\n      <td>0.952979</td>\n      <td>0.047021</td>\n      <td>0</td>\n      <td>0.952146</td>\n      <td>0.047854</td>\n      <td>0</td>\n    </tr>\n  </tbody>\n</table>\n<p>20 rows × 41 columns</p>\n</div>"
     },
     "execution_count": 49,
     "metadata": {},
     "output_type": "execute_result"
    }
   ],
   "source": [
    "# Get a prediction by setting a cutoff point\n",
    "cutoff = .55\n",
    "X_train['s2_pred'] = np.where(X_train['s2_prob_churn'] > cutoff, 1, 0)\n",
    "X_train.head(20)"
   ],
   "metadata": {
    "collapsed": false
   }
  },
  {
   "cell_type": "code",
   "execution_count": 50,
   "outputs": [
    {
     "data": {
      "text/plain": "       Latitude   Longitude  Gender  Senior Citizen  Partner  Dependents  \\\n2476  37.244307 -119.470256       1               0        1           0   \n6773  33.890853 -118.297967       0               0        0           0   \n6116  36.600193 -120.153393       1               0        0           0   \n3047  40.021787 -122.127576       0               0        0           0   \n4092  38.683605 -120.811852       1               0        0           0   \n3218  34.122671 -118.112911       0               0        0           1   \n3768  37.776718 -122.495781       1               0        1           0   \n3463  33.739412 -117.173334       1               0        0           0   \n3414  34.256500 -117.193350       1               0        0           0   \n1192  37.609095 -121.263381       1               0        0           0   \n2168  32.730583 -115.501083       1               0        0           0   \n1287  41.280341 -120.150381       1               0        0           0   \n2574  38.050558 -121.646924       1               1        1           1   \n6569  38.584505 -121.491956       1               0        1           1   \n2510  36.596271 -121.442274       0               0        1           0   \n3252  34.152875 -118.486056       0               0        0           0   \n1971  33.847755 -118.112532       1               0        0           0   \n132   33.581045 -117.147190       0               0        0           0   \n5186  38.109125 -120.078597       0               1        1           0   \n1945  33.936827 -118.359824       0               0        0           0   \n\n      Tenure Months  Phone Service  Paperless Billing  Monthly Charges  ...  \\\n2476             42              1                  0            25.25  ...   \n6773             43              0                  0            44.15  ...   \n6116             27              1                  1            89.20  ...   \n3047             65              1                  1            19.55  ...   \n4092             29              1                  1            71.00  ...   \n3218             32              1                  0            20.50  ...   \n3768             71              1                  0            25.00  ...   \n3463             19              1                  0            20.25  ...   \n3414             33              1                  0            59.40  ...   \n1192              3              1                  0            85.80  ...   \n2168             11              1                  0            20.05  ...   \n1287              1              0                  1            35.75  ...   \n2574             32              1                  1            91.35  ...   \n6569             54              1                  1            59.80  ...   \n2510             72              0                  1            64.80  ...   \n3252             26              0                  1            44.65  ...   \n1971             43              1                  1            25.70  ...   \n132              40              1                  0           104.80  ...   \n5186             72              1                  0            77.35  ...   \n1945              1              1                  0            20.20  ...   \n\n      Payment Method_Mailed check  prob_not_churn  prob_churn  pred  \\\n2476                            0        0.978067    0.021933     0   \n6773                            0        0.917507    0.082493     0   \n6116                            0        0.559307    0.440693     0   \n3047                            0        0.997083    0.002917     0   \n4092                            0        0.763053    0.236947     0   \n3218                            1        0.995974    0.004026     0   \n3768                            0        0.996797    0.003203     0   \n3463                            0        0.955256    0.044744     0   \n3414                            0        0.940812    0.059188     0   \n1192                            0        0.448282    0.551718     1   \n2168                            0        0.928938    0.071062     0   \n1287                            0        0.264479    0.735521     1   \n2574                            1        0.727697    0.272303     0   \n6569                            0        0.986150    0.013850     0   \n2510                            0        0.980344    0.019656     0   \n3252                            0        0.745443    0.254557     0   \n1971                            0        0.983652    0.016348     0   \n132                             0        0.691290    0.308710     0   \n5186                            0        0.981177    0.018823     0   \n1945                            1        0.795410    0.204590     0   \n\n      s_prob_not_churn  s_prob_churn  s_pred  s2_prob_not_churn  \\\n2476          0.980746      0.019254       0           0.980400   \n6773          0.916425      0.083575       0           0.916956   \n6116          0.517452      0.482548       0           0.517758   \n3047          0.997205      0.002795       0           0.997173   \n4092          0.797535      0.202465       0           0.795284   \n3218          0.996960      0.003040       0           0.996960   \n3768          0.996667      0.003333       0           0.996746   \n3463          0.952896      0.047104       0           0.952397   \n3414          0.934118      0.065882       0           0.933174   \n1192          0.421009      0.578991       1           0.422214   \n2168          0.929918      0.070082       0           0.928237   \n1287          0.308697      0.691303       1           0.296451   \n2574          0.745394      0.254606       0           0.747167   \n6569          0.990894      0.009106       0           0.990877   \n2510          0.984544      0.015456       0           0.984861   \n3252          0.738027      0.261973       0           0.738839   \n1971          0.986574      0.013426       0           0.986615   \n132           0.658481      0.341519       0           0.656805   \n5186          0.986560      0.013440       0           0.986317   \n1945          0.775522      0.224478       0           0.776591   \n\n      s2_prob_churn  s2_pred  \n2476       0.019600        0  \n6773       0.083044        0  \n6116       0.482242        0  \n3047       0.002827        0  \n4092       0.204716        0  \n3218       0.003040        0  \n3768       0.003254        0  \n3463       0.047603        0  \n3414       0.066826        0  \n1192       0.577786        1  \n2168       0.071763        0  \n1287       0.703549        1  \n2574       0.252833        0  \n6569       0.009123        0  \n2510       0.015139        0  \n3252       0.261161        0  \n1971       0.013385        0  \n132        0.343195        0  \n5186       0.013683        0  \n1945       0.223409        0  \n\n[20 rows x 41 columns]",
      "text/html": "<div>\n<style scoped>\n    .dataframe tbody tr th:only-of-type {\n        vertical-align: middle;\n    }\n\n    .dataframe tbody tr th {\n        vertical-align: top;\n    }\n\n    .dataframe thead th {\n        text-align: right;\n    }\n</style>\n<table border=\"1\" class=\"dataframe\">\n  <thead>\n    <tr style=\"text-align: right;\">\n      <th></th>\n      <th>Latitude</th>\n      <th>Longitude</th>\n      <th>Gender</th>\n      <th>Senior Citizen</th>\n      <th>Partner</th>\n      <th>Dependents</th>\n      <th>Tenure Months</th>\n      <th>Phone Service</th>\n      <th>Paperless Billing</th>\n      <th>Monthly Charges</th>\n      <th>...</th>\n      <th>Payment Method_Mailed check</th>\n      <th>prob_not_churn</th>\n      <th>prob_churn</th>\n      <th>pred</th>\n      <th>s_prob_not_churn</th>\n      <th>s_prob_churn</th>\n      <th>s_pred</th>\n      <th>s2_prob_not_churn</th>\n      <th>s2_prob_churn</th>\n      <th>s2_pred</th>\n    </tr>\n  </thead>\n  <tbody>\n    <tr>\n      <th>2476</th>\n      <td>37.244307</td>\n      <td>-119.470256</td>\n      <td>1</td>\n      <td>0</td>\n      <td>1</td>\n      <td>0</td>\n      <td>42</td>\n      <td>1</td>\n      <td>0</td>\n      <td>25.25</td>\n      <td>...</td>\n      <td>0</td>\n      <td>0.978067</td>\n      <td>0.021933</td>\n      <td>0</td>\n      <td>0.980746</td>\n      <td>0.019254</td>\n      <td>0</td>\n      <td>0.980400</td>\n      <td>0.019600</td>\n      <td>0</td>\n    </tr>\n    <tr>\n      <th>6773</th>\n      <td>33.890853</td>\n      <td>-118.297967</td>\n      <td>0</td>\n      <td>0</td>\n      <td>0</td>\n      <td>0</td>\n      <td>43</td>\n      <td>0</td>\n      <td>0</td>\n      <td>44.15</td>\n      <td>...</td>\n      <td>0</td>\n      <td>0.917507</td>\n      <td>0.082493</td>\n      <td>0</td>\n      <td>0.916425</td>\n      <td>0.083575</td>\n      <td>0</td>\n      <td>0.916956</td>\n      <td>0.083044</td>\n      <td>0</td>\n    </tr>\n    <tr>\n      <th>6116</th>\n      <td>36.600193</td>\n      <td>-120.153393</td>\n      <td>1</td>\n      <td>0</td>\n      <td>0</td>\n      <td>0</td>\n      <td>27</td>\n      <td>1</td>\n      <td>1</td>\n      <td>89.20</td>\n      <td>...</td>\n      <td>0</td>\n      <td>0.559307</td>\n      <td>0.440693</td>\n      <td>0</td>\n      <td>0.517452</td>\n      <td>0.482548</td>\n      <td>0</td>\n      <td>0.517758</td>\n      <td>0.482242</td>\n      <td>0</td>\n    </tr>\n    <tr>\n      <th>3047</th>\n      <td>40.021787</td>\n      <td>-122.127576</td>\n      <td>0</td>\n      <td>0</td>\n      <td>0</td>\n      <td>0</td>\n      <td>65</td>\n      <td>1</td>\n      <td>1</td>\n      <td>19.55</td>\n      <td>...</td>\n      <td>0</td>\n      <td>0.997083</td>\n      <td>0.002917</td>\n      <td>0</td>\n      <td>0.997205</td>\n      <td>0.002795</td>\n      <td>0</td>\n      <td>0.997173</td>\n      <td>0.002827</td>\n      <td>0</td>\n    </tr>\n    <tr>\n      <th>4092</th>\n      <td>38.683605</td>\n      <td>-120.811852</td>\n      <td>1</td>\n      <td>0</td>\n      <td>0</td>\n      <td>0</td>\n      <td>29</td>\n      <td>1</td>\n      <td>1</td>\n      <td>71.00</td>\n      <td>...</td>\n      <td>0</td>\n      <td>0.763053</td>\n      <td>0.236947</td>\n      <td>0</td>\n      <td>0.797535</td>\n      <td>0.202465</td>\n      <td>0</td>\n      <td>0.795284</td>\n      <td>0.204716</td>\n      <td>0</td>\n    </tr>\n    <tr>\n      <th>3218</th>\n      <td>34.122671</td>\n      <td>-118.112911</td>\n      <td>0</td>\n      <td>0</td>\n      <td>0</td>\n      <td>1</td>\n      <td>32</td>\n      <td>1</td>\n      <td>0</td>\n      <td>20.50</td>\n      <td>...</td>\n      <td>1</td>\n      <td>0.995974</td>\n      <td>0.004026</td>\n      <td>0</td>\n      <td>0.996960</td>\n      <td>0.003040</td>\n      <td>0</td>\n      <td>0.996960</td>\n      <td>0.003040</td>\n      <td>0</td>\n    </tr>\n    <tr>\n      <th>3768</th>\n      <td>37.776718</td>\n      <td>-122.495781</td>\n      <td>1</td>\n      <td>0</td>\n      <td>1</td>\n      <td>0</td>\n      <td>71</td>\n      <td>1</td>\n      <td>0</td>\n      <td>25.00</td>\n      <td>...</td>\n      <td>0</td>\n      <td>0.996797</td>\n      <td>0.003203</td>\n      <td>0</td>\n      <td>0.996667</td>\n      <td>0.003333</td>\n      <td>0</td>\n      <td>0.996746</td>\n      <td>0.003254</td>\n      <td>0</td>\n    </tr>\n    <tr>\n      <th>3463</th>\n      <td>33.739412</td>\n      <td>-117.173334</td>\n      <td>1</td>\n      <td>0</td>\n      <td>0</td>\n      <td>0</td>\n      <td>19</td>\n      <td>1</td>\n      <td>0</td>\n      <td>20.25</td>\n      <td>...</td>\n      <td>0</td>\n      <td>0.955256</td>\n      <td>0.044744</td>\n      <td>0</td>\n      <td>0.952896</td>\n      <td>0.047104</td>\n      <td>0</td>\n      <td>0.952397</td>\n      <td>0.047603</td>\n      <td>0</td>\n    </tr>\n    <tr>\n      <th>3414</th>\n      <td>34.256500</td>\n      <td>-117.193350</td>\n      <td>1</td>\n      <td>0</td>\n      <td>0</td>\n      <td>0</td>\n      <td>33</td>\n      <td>1</td>\n      <td>0</td>\n      <td>59.40</td>\n      <td>...</td>\n      <td>0</td>\n      <td>0.940812</td>\n      <td>0.059188</td>\n      <td>0</td>\n      <td>0.934118</td>\n      <td>0.065882</td>\n      <td>0</td>\n      <td>0.933174</td>\n      <td>0.066826</td>\n      <td>0</td>\n    </tr>\n    <tr>\n      <th>1192</th>\n      <td>37.609095</td>\n      <td>-121.263381</td>\n      <td>1</td>\n      <td>0</td>\n      <td>0</td>\n      <td>0</td>\n      <td>3</td>\n      <td>1</td>\n      <td>0</td>\n      <td>85.80</td>\n      <td>...</td>\n      <td>0</td>\n      <td>0.448282</td>\n      <td>0.551718</td>\n      <td>1</td>\n      <td>0.421009</td>\n      <td>0.578991</td>\n      <td>1</td>\n      <td>0.422214</td>\n      <td>0.577786</td>\n      <td>1</td>\n    </tr>\n    <tr>\n      <th>2168</th>\n      <td>32.730583</td>\n      <td>-115.501083</td>\n      <td>1</td>\n      <td>0</td>\n      <td>0</td>\n      <td>0</td>\n      <td>11</td>\n      <td>1</td>\n      <td>0</td>\n      <td>20.05</td>\n      <td>...</td>\n      <td>0</td>\n      <td>0.928938</td>\n      <td>0.071062</td>\n      <td>0</td>\n      <td>0.929918</td>\n      <td>0.070082</td>\n      <td>0</td>\n      <td>0.928237</td>\n      <td>0.071763</td>\n      <td>0</td>\n    </tr>\n    <tr>\n      <th>1287</th>\n      <td>41.280341</td>\n      <td>-120.150381</td>\n      <td>1</td>\n      <td>0</td>\n      <td>0</td>\n      <td>0</td>\n      <td>1</td>\n      <td>0</td>\n      <td>1</td>\n      <td>35.75</td>\n      <td>...</td>\n      <td>0</td>\n      <td>0.264479</td>\n      <td>0.735521</td>\n      <td>1</td>\n      <td>0.308697</td>\n      <td>0.691303</td>\n      <td>1</td>\n      <td>0.296451</td>\n      <td>0.703549</td>\n      <td>1</td>\n    </tr>\n    <tr>\n      <th>2574</th>\n      <td>38.050558</td>\n      <td>-121.646924</td>\n      <td>1</td>\n      <td>1</td>\n      <td>1</td>\n      <td>1</td>\n      <td>32</td>\n      <td>1</td>\n      <td>1</td>\n      <td>91.35</td>\n      <td>...</td>\n      <td>1</td>\n      <td>0.727697</td>\n      <td>0.272303</td>\n      <td>0</td>\n      <td>0.745394</td>\n      <td>0.254606</td>\n      <td>0</td>\n      <td>0.747167</td>\n      <td>0.252833</td>\n      <td>0</td>\n    </tr>\n    <tr>\n      <th>6569</th>\n      <td>38.584505</td>\n      <td>-121.491956</td>\n      <td>1</td>\n      <td>0</td>\n      <td>1</td>\n      <td>1</td>\n      <td>54</td>\n      <td>1</td>\n      <td>1</td>\n      <td>59.80</td>\n      <td>...</td>\n      <td>0</td>\n      <td>0.986150</td>\n      <td>0.013850</td>\n      <td>0</td>\n      <td>0.990894</td>\n      <td>0.009106</td>\n      <td>0</td>\n      <td>0.990877</td>\n      <td>0.009123</td>\n      <td>0</td>\n    </tr>\n    <tr>\n      <th>2510</th>\n      <td>36.596271</td>\n      <td>-121.442274</td>\n      <td>0</td>\n      <td>0</td>\n      <td>1</td>\n      <td>0</td>\n      <td>72</td>\n      <td>0</td>\n      <td>1</td>\n      <td>64.80</td>\n      <td>...</td>\n      <td>0</td>\n      <td>0.980344</td>\n      <td>0.019656</td>\n      <td>0</td>\n      <td>0.984544</td>\n      <td>0.015456</td>\n      <td>0</td>\n      <td>0.984861</td>\n      <td>0.015139</td>\n      <td>0</td>\n    </tr>\n    <tr>\n      <th>3252</th>\n      <td>34.152875</td>\n      <td>-118.486056</td>\n      <td>0</td>\n      <td>0</td>\n      <td>0</td>\n      <td>0</td>\n      <td>26</td>\n      <td>0</td>\n      <td>1</td>\n      <td>44.65</td>\n      <td>...</td>\n      <td>0</td>\n      <td>0.745443</td>\n      <td>0.254557</td>\n      <td>0</td>\n      <td>0.738027</td>\n      <td>0.261973</td>\n      <td>0</td>\n      <td>0.738839</td>\n      <td>0.261161</td>\n      <td>0</td>\n    </tr>\n    <tr>\n      <th>1971</th>\n      <td>33.847755</td>\n      <td>-118.112532</td>\n      <td>1</td>\n      <td>0</td>\n      <td>0</td>\n      <td>0</td>\n      <td>43</td>\n      <td>1</td>\n      <td>1</td>\n      <td>25.70</td>\n      <td>...</td>\n      <td>0</td>\n      <td>0.983652</td>\n      <td>0.016348</td>\n      <td>0</td>\n      <td>0.986574</td>\n      <td>0.013426</td>\n      <td>0</td>\n      <td>0.986615</td>\n      <td>0.013385</td>\n      <td>0</td>\n    </tr>\n    <tr>\n      <th>132</th>\n      <td>33.581045</td>\n      <td>-117.147190</td>\n      <td>0</td>\n      <td>0</td>\n      <td>0</td>\n      <td>0</td>\n      <td>40</td>\n      <td>1</td>\n      <td>0</td>\n      <td>104.80</td>\n      <td>...</td>\n      <td>0</td>\n      <td>0.691290</td>\n      <td>0.308710</td>\n      <td>0</td>\n      <td>0.658481</td>\n      <td>0.341519</td>\n      <td>0</td>\n      <td>0.656805</td>\n      <td>0.343195</td>\n      <td>0</td>\n    </tr>\n    <tr>\n      <th>5186</th>\n      <td>38.109125</td>\n      <td>-120.078597</td>\n      <td>0</td>\n      <td>1</td>\n      <td>1</td>\n      <td>0</td>\n      <td>72</td>\n      <td>1</td>\n      <td>0</td>\n      <td>77.35</td>\n      <td>...</td>\n      <td>0</td>\n      <td>0.981177</td>\n      <td>0.018823</td>\n      <td>0</td>\n      <td>0.986560</td>\n      <td>0.013440</td>\n      <td>0</td>\n      <td>0.986317</td>\n      <td>0.013683</td>\n      <td>0</td>\n    </tr>\n    <tr>\n      <th>1945</th>\n      <td>33.936827</td>\n      <td>-118.359824</td>\n      <td>0</td>\n      <td>0</td>\n      <td>0</td>\n      <td>0</td>\n      <td>1</td>\n      <td>1</td>\n      <td>0</td>\n      <td>20.20</td>\n      <td>...</td>\n      <td>1</td>\n      <td>0.795410</td>\n      <td>0.204590</td>\n      <td>0</td>\n      <td>0.775522</td>\n      <td>0.224478</td>\n      <td>0</td>\n      <td>0.776591</td>\n      <td>0.223409</td>\n      <td>0</td>\n    </tr>\n  </tbody>\n</table>\n<p>20 rows × 41 columns</p>\n</div>"
     },
     "execution_count": 50,
     "metadata": {},
     "output_type": "execute_result"
    }
   ],
   "source": [
    "# Predict on test\n",
    "X_test[['s2_prob_not_churn', 's2_prob_churn']] = lr.predict_proba(X_test_scaled2)\n",
    "cutoff = .55\n",
    "X_test['s2_pred'] = np.where(X_test['s2_prob_churn'] > cutoff, 1, 0)\n",
    "X_test.head(20)"
   ],
   "metadata": {
    "collapsed": false
   }
  },
  {
   "cell_type": "markdown",
   "source": [
    "# Evaluation\n",
    "\n",
    "We thought that the longitude and latitude didn't have any effect on the model, and so we removed them from the model, and we expected to obtain the same results and below shows we did. Thus position has no effect on the model."
   ],
   "metadata": {
    "collapsed": false
   }
  },
  {
   "cell_type": "code",
   "execution_count": 51,
   "outputs": [
    {
     "name": "stdout",
     "output_type": "stream",
     "text": [
      "The confusion matrix for your predictions is:\n",
      "[[3827  324]\n",
      " [ 721  753]] \n",
      "\n",
      "The accuracy of your model is: 0.8142222222222222\n",
      "The recall of your model is: 0.510854816824966\n",
      "The precision of your model is: 0.6991643454038997\n",
      "The F1-score of your model is: 0.5903567228537827\n"
     ]
    }
   ],
   "source": [
    "# Evaluate on train\n",
    "get_results(y_train, X_train['s2_pred'])"
   ],
   "metadata": {
    "collapsed": false
   }
  },
  {
   "cell_type": "code",
   "execution_count": 52,
   "outputs": [
    {
     "name": "stdout",
     "output_type": "stream",
     "text": [
      "The confusion matrix for your predictions is:\n",
      "[[937  75]\n",
      " [195 200]] \n",
      "\n",
      "The accuracy of your model is: 0.8081023454157783\n",
      "The recall of your model is: 0.5063291139240507\n",
      "The precision of your model is: 0.7272727272727273\n",
      "The F1-score of your model is: 0.5970149253731343\n"
     ]
    }
   ],
   "source": [
    "# Evaluate on test\n",
    "get_results(y_test, X_test['s2_pred'])"
   ],
   "metadata": {
    "collapsed": false
   }
  },
  {
   "cell_type": "markdown",
   "source": [
    "# V I F Model"
   ],
   "metadata": {
    "collapsed": false
   }
  },
  {
   "cell_type": "code",
   "execution_count": 53,
   "outputs": [],
   "source": [
    "from statsmodels.stats.outliers_influence import variance_inflation_factor"
   ],
   "metadata": {
    "collapsed": false
   }
  },
  {
   "cell_type": "code",
   "execution_count": 54,
   "outputs": [],
   "source": [
    "# Defining a function to calculate the VIF with a very creative name.\n",
    "def calculate_vif(X, thresh = 5):\n",
    "    variables = list(range(X.shape[1]))\n",
    "    dropped = True\n",
    "    while dropped:\n",
    "        dropped = False\n",
    "        # this bit uses list comprehension to gather all the VIF values of the different variables\n",
    "        vif = [variance_inflation_factor(X.iloc[:, variables].values, ix)\n",
    "               for ix in range(X.iloc[:, variables].shape[1])]\n",
    "\n",
    "        maxloc = vif.index(max(vif)) # getting the index of the highest VIF value\n",
    "        if max(vif) > thresh:\n",
    "            print('dropping \\'' + X.iloc[:, variables].columns[maxloc] +\n",
    "                  '\\' at index: ' + str(maxloc))\n",
    "            del variables[maxloc] # we delete the highest VIF value on condition that it's higher than the threshold\n",
    "            dropped = True # if we deleted anything, we set the 'dropped' value to True to stay in the while loop\n",
    "\n",
    "    print('Remaining variables:')\n",
    "    print(X.columns[variables]) # finally, we print the variables that are still in our set\n",
    "    return X.iloc[:, variables] # and return our X cut down to the remaining variables"
   ],
   "metadata": {
    "collapsed": false
   }
  },
  {
   "cell_type": "code",
   "execution_count": 55,
   "outputs": [
    {
     "name": "stderr",
     "output_type": "stream",
     "text": [
      "C:\\Users\\bradl\\anaconda3\\lib\\site-packages\\statsmodels\\stats\\outliers_influence.py:195: RuntimeWarning: divide by zero encountered in double_scalars\n",
      "  vif = 1. / (1. - r_squared_i)\n"
     ]
    },
    {
     "name": "stdout",
     "output_type": "stream",
     "text": [
      "dropping 'Internet Service_No' at index: 14\n",
      "dropping 'Online Security_No internet service' at index: 14\n",
      "dropping 'Online Backup_No internet service' at index: 15\n",
      "dropping 'Device Protection_No internet service' at index: 16\n",
      "dropping 'Tech Support_No internet service' at index: 17\n",
      "dropping 'Streaming TV_No internet service' at index: 18\n",
      "dropping 'Phone Service' at index: 7\n",
      "dropping 'Monthly Charges' at index: 8\n",
      "dropping 'Longitude' at index: 1\n",
      "dropping 'Total Charges' at index: 7\n",
      "dropping 'Latitude' at index: 0\n",
      "dropping 'Tenure Months' at index: 4\n",
      "Remaining variables:\n",
      "Index(['Gender', 'Senior Citizen', 'Partner', 'Dependents',\n",
      "       'Paperless Billing', 'Multiple Lines_No phone service',\n",
      "       'Multiple Lines_Yes', 'Internet Service_Fiber optic',\n",
      "       'Online Security_Yes', 'Online Backup_Yes', 'Device Protection_Yes',\n",
      "       'Tech Support_Yes', 'Streaming TV_Yes',\n",
      "       'Streaming Movies_No internet service', 'Streaming Movies_Yes',\n",
      "       'Contract_One year', 'Contract_Two year',\n",
      "       'Payment Method_Credit card (automatic)',\n",
      "       'Payment Method_Electronic check', 'Payment Method_Mailed check'],\n",
      "      dtype='object')\n"
     ]
    }
   ],
   "source": [
    "# Apply VIF on X_train's feature cols. \n",
    "X_train_vif = calculate_vif(X_train[feature_cols])"
   ],
   "metadata": {
    "collapsed": false
   }
  },
  {
   "cell_type": "code",
   "execution_count": 56,
   "outputs": [],
   "source": [
    "vif_cols = list(X_train_vif.columns)"
   ],
   "metadata": {
    "collapsed": false
   }
  },
  {
   "cell_type": "code",
   "execution_count": 57,
   "outputs": [
    {
     "data": {
      "text/plain": "LogisticRegression(max_iter=1000, random_state=10)"
     },
     "execution_count": 57,
     "metadata": {},
     "output_type": "execute_result"
    }
   ],
   "source": [
    "lr = LogisticRegression(random_state=10, max_iter=1000)\n",
    "lr.fit(X_train_vif, y_train)"
   ],
   "metadata": {
    "collapsed": false
   }
  },
  {
   "cell_type": "code",
   "execution_count": 58,
   "outputs": [],
   "source": [
    "X_train[['VIF_prob_not_churn', 'VIF_prob_churn']] = lr.predict_proba(X_train_vif)"
   ],
   "metadata": {
    "collapsed": false
   }
  },
  {
   "cell_type": "code",
   "execution_count": 59,
   "outputs": [],
   "source": [
    "cutoff = .55\n",
    "X_train['VIF_pred'] = np.where(X_train['VIF_prob_churn'] > cutoff, 1, 0)"
   ],
   "metadata": {
    "collapsed": false
   }
  },
  {
   "cell_type": "code",
   "execution_count": 60,
   "outputs": [],
   "source": [
    "# Predict ON TEST\n",
    "X_test[['VIF_prob_not_churn', 'VIF_prob_churn']] = lr.predict_proba(X_test[vif_cols])\n",
    "cutoff = .55\n",
    "X_test['VIF_pred'] = np.where(X_test['VIF_prob_churn'] > cutoff, 1, 0)"
   ],
   "metadata": {
    "collapsed": false
   }
  },
  {
   "cell_type": "code",
   "execution_count": 61,
   "outputs": [
    {
     "name": "stdout",
     "output_type": "stream",
     "text": [
      "The confusion matrix for your predictions is:\n",
      "[[3807  344]\n",
      " [ 786  688]] \n",
      "\n",
      "The accuracy of your model is: 0.7991111111111111\n",
      "The recall of your model is: 0.46675712347354137\n",
      "The precision of your model is: 0.6666666666666666\n",
      "The F1-score of your model is: 0.5490822027134876\n"
     ]
    }
   ],
   "source": [
    "get_results(y_train, X_train['VIF_pred'])"
   ],
   "metadata": {
    "collapsed": false
   }
  },
  {
   "cell_type": "code",
   "execution_count": 62,
   "outputs": [
    {
     "name": "stdout",
     "output_type": "stream",
     "text": [
      "The confusion matrix for your predictions is:\n",
      "[[913  99]\n",
      " [196 199]] \n",
      "\n",
      "The accuracy of your model is: 0.7903340440653873\n",
      "The recall of your model is: 0.5037974683544304\n",
      "The precision of your model is: 0.6677852348993288\n",
      "The F1-score of your model is: 0.5743145743145744\n"
     ]
    }
   ],
   "source": [
    "# Evaluate on test\n",
    "get_results(y_test, X_test['VIF_pred'])"
   ],
   "metadata": {
    "collapsed": false
   }
  },
  {
   "cell_type": "markdown",
   "source": [
    "## Evaluation\n",
    "Overall not an amazing model from what we have calculated using a random forrest method. (on the next ipynb file)"
   ],
   "metadata": {
    "collapsed": false
   }
  }
 ],
 "metadata": {
  "kernelspec": {
   "display_name": "Python 3",
   "language": "python",
   "name": "python3"
  },
  "language_info": {
   "codemirror_mode": {
    "name": "ipython",
    "version": 2
   },
   "file_extension": ".py",
   "mimetype": "text/x-python",
   "name": "python",
   "nbconvert_exporter": "python",
   "pygments_lexer": "ipython2",
   "version": "2.7.6"
  }
 },
 "nbformat": 4,
 "nbformat_minor": 0
}
